{
  "nbformat": 4,
  "nbformat_minor": 0,
  "metadata": {
    "colab": {
      "provenance": [],
      "collapsed_sections": []
    },
    "kernelspec": {
      "name": "python3",
      "display_name": "Python 3"
    },
    "language_info": {
      "name": "python"
    },
    "accelerator": "GPU"
  },
  "cells": [
    {
      "cell_type": "markdown",
      "source": [
        "## Codificadores Automáticos Empilhados com MNIST"
      ],
      "metadata": {
        "id": "BPwD_rEe0_DG"
      }
    },
    {
      "cell_type": "markdown",
      "source": [
        "## Importação do tensorflow\n"
      ],
      "metadata": {
        "id": "vbcSdiNM7JV0"
      }
    },
    {
      "cell_type": "code",
      "source": [
        "%pylab inline\n",
        "\n",
        "from tensorflow import keras"
      ],
      "metadata": {
        "colab": {
          "base_uri": "https://localhost:8080/"
        },
        "id": "7o40RBdl7MaD",
        "outputId": "3e08e06b-450e-44d8-845b-7bfdaada4f97"
      },
      "execution_count": 2,
      "outputs": [
        {
          "output_type": "stream",
          "name": "stdout",
          "text": [
            "Populating the interactive namespace from numpy and matplotlib\n"
          ]
        }
      ]
    },
    {
      "cell_type": "markdown",
      "source": [
        "## Carregamento do conjuntos de dados\n",
        "Para começar, será necessário carregar o conjunto de dados e separa-los entre aqueles que serão usado para treinamento e aqueles que serão usado para teste."
      ],
      "metadata": {
        "id": "h8s6BOp51Rv9"
      }
    },
    {
      "cell_type": "code",
      "execution_count": 3,
      "metadata": {
        "colab": {
          "base_uri": "https://localhost:8080/"
        },
        "id": "0x3ncOoc09rY",
        "outputId": "c60a86fe-3433-4de7-87b6-741f9a4b04fd"
      },
      "outputs": [
        {
          "output_type": "stream",
          "name": "stdout",
          "text": [
            "Downloading data from https://storage.googleapis.com/tensorflow/tf-keras-datasets/mnist.npz\n",
            "11493376/11490434 [==============================] - 0s 0us/step\n",
            "11501568/11490434 [==============================] - 0s 0us/step\n"
          ]
        }
      ],
      "source": [
        "(x_train, _), (x_test, _) = keras.datasets.mnist.load_data()\n",
        "x_train = x_train / 255\n",
        "x_test = x_test / 255"
      ]
    },
    {
      "cell_type": "markdown",
      "source": [
        "# 1º Parte - Contrução do modelo Dense para codificação e decodificação\n",
        "Nesta primeira parte, começaremos criando modelos simples de Autoencoders e de forma separada. O objetivo é usa-los como entrada, e saida, em um novo Autoencoder Empilhado (Stacked Autoencoder) de forma a reduzir ainda mais o espaço latente adiquirindo as informações mais pertinentes.\n",
        "\n",
        "A parte codificadora (encoder) e a parte decodificadora (decoder) serão modeladas usando duas camadas de redes convolucionais no entanto não serão treinandas ainda.\n",
        "\n",
        "O treinamento de ambas acontecerá simultaneamente quando elas forem usadas no Autoencoder Empilhado."
      ],
      "metadata": {
        "id": "k5ab83M70-Nl"
      }
    },
    {
      "cell_type": "code",
      "source": [
        "encoder = keras.models.Sequential([\n",
        "    keras.layers.Flatten(input_shape=[28, 28]),\n",
        "    keras.layers.Dense(100, activation=\"relu\"),\n",
        "    keras.layers.Dense(30, activation=\"relu\"),\n",
        "])"
      ],
      "metadata": {
        "id": "ZzD2EIf8KUsB"
      },
      "execution_count": 4,
      "outputs": []
    },
    {
      "cell_type": "code",
      "source": [
        "decoder = keras.models.Sequential([\n",
        "    keras.layers.Dense(100, activation=\"relu\", input_shape=[30]),\n",
        "    keras.layers.Dense(28 * 28, activation=\"sigmoid\"),\n",
        "    keras.layers.Reshape([28, 28])\n",
        "])"
      ],
      "metadata": {
        "id": "LKYauE10KbJi"
      },
      "execution_count": 5,
      "outputs": []
    },
    {
      "cell_type": "markdown",
      "source": [
        "#Análise do resumo do codificador e do decodificador\n",
        "Analisando o sumário do codificador e do decodificador podemos notar que o modelo foi capaz de reduzir as dimensões do conjunto de dados de entrada para uma forma mais compacta e que o decodificador conseguiu restaurar as dimensões originais dos dados inseridos.\n",
        "\n",
        "Enquanto o codificador conseguiu reduzir as dimensões que inicialmente eram de (28 x 28), o decodificador conseguiu aumentar a amostragens das imagens de volta para (28 x 28)."
      ],
      "metadata": {
        "id": "oMRAVvBNK0hJ"
      }
    },
    {
      "cell_type": "code",
      "source": [
        "encoder.summary()"
      ],
      "metadata": {
        "colab": {
          "base_uri": "https://localhost:8080/"
        },
        "id": "lZPPg_utLboh",
        "outputId": "50b87782-8331-40e4-bc3f-750d66f1044b"
      },
      "execution_count": 6,
      "outputs": [
        {
          "output_type": "stream",
          "name": "stdout",
          "text": [
            "Model: \"sequential\"\n",
            "_________________________________________________________________\n",
            " Layer (type)                Output Shape              Param #   \n",
            "=================================================================\n",
            " flatten (Flatten)           (None, 784)               0         \n",
            "                                                                 \n",
            " dense (Dense)               (None, 100)               78500     \n",
            "                                                                 \n",
            " dense_1 (Dense)             (None, 30)                3030      \n",
            "                                                                 \n",
            "=================================================================\n",
            "Total params: 81,530\n",
            "Trainable params: 81,530\n",
            "Non-trainable params: 0\n",
            "_________________________________________________________________\n"
          ]
        }
      ]
    },
    {
      "cell_type": "code",
      "source": [
        "decoder.summary()"
      ],
      "metadata": {
        "colab": {
          "base_uri": "https://localhost:8080/"
        },
        "id": "qAHcDvanLe8x",
        "outputId": "1e5ad1d9-cd33-4c21-bb99-c9e0e7d4d2b0"
      },
      "execution_count": 7,
      "outputs": [
        {
          "output_type": "stream",
          "name": "stdout",
          "text": [
            "Model: \"sequential_1\"\n",
            "_________________________________________________________________\n",
            " Layer (type)                Output Shape              Param #   \n",
            "=================================================================\n",
            " dense_2 (Dense)             (None, 100)               3100      \n",
            "                                                                 \n",
            " dense_3 (Dense)             (None, 784)               79184     \n",
            "                                                                 \n",
            " reshape (Reshape)           (None, 28, 28)            0         \n",
            "                                                                 \n",
            "=================================================================\n",
            "Total params: 82,284\n",
            "Trainable params: 82,284\n",
            "Non-trainable params: 0\n",
            "_________________________________________________________________\n"
          ]
        }
      ]
    },
    {
      "cell_type": "markdown",
      "source": [
        "#Empilhamento de Autoencoders\n",
        "Após a criação dos modelos simples de Autoencoders, pode-se então criar um modelo de Autoencoder utilizando ambos.\n",
        "\n",
        "O modelo é então compilado usando o otimizador \"adam\" e as perdas são analisadas utilizando como parâmetro a função de entropia cruzada."
      ],
      "metadata": {
        "id": "v-k8wlxaL0in"
      }
    },
    {
      "cell_type": "code",
      "source": [
        "stacked_autoencoder = keras.models.Sequential([encoder, decoder])\n",
        "\n",
        "stacked_autoencoder.compile(loss=\"binary_crossentropy\",\n",
        "                   optimizer='adam')"
      ],
      "metadata": {
        "id": "U5O_8H2qNZI4"
      },
      "execution_count": 8,
      "outputs": []
    },
    {
      "cell_type": "markdown",
      "source": [
        "# Treinamento do modelo\n",
        "O modelo é então treinado e validado, utilizando parte do conjunto de dados originais para o treinamento e parte para a validação."
      ],
      "metadata": {
        "id": "5IPibT0VNdu6"
      }
    },
    {
      "cell_type": "code",
      "source": [
        "history = stacked_autoencoder.fit(x_train, x_train, epochs=3,\n",
        "                                  validation_data=(x_test, x_test))"
      ],
      "metadata": {
        "colab": {
          "base_uri": "https://localhost:8080/"
        },
        "id": "DQPPTavUOSNJ",
        "outputId": "88f7c3d6-a1a7-4161-e047-d8fc0881c1f1"
      },
      "execution_count": 9,
      "outputs": [
        {
          "output_type": "stream",
          "name": "stdout",
          "text": [
            "Epoch 1/3\n",
            "1875/1875 [==============================] - 9s 3ms/step - loss: 0.1417 - val_loss: 0.1053\n",
            "Epoch 2/3\n",
            "1875/1875 [==============================] - 5s 3ms/step - loss: 0.1018 - val_loss: 0.0964\n",
            "Epoch 3/3\n",
            "1875/1875 [==============================] - 5s 3ms/step - loss: 0.0961 - val_loss: 0.0931\n"
          ]
        }
      ]
    },
    {
      "cell_type": "markdown",
      "source": [
        "# Reconstrução das imagens\n",
        "Então, as imagens são reconstruidas para comparar a capacidade do modelo latente em reconstruir sua própria entrada."
      ],
      "metadata": {
        "id": "nh6fy3zM_BW6"
      }
    },
    {
      "cell_type": "code",
      "source": [
        "figsize(20, 5)\n",
        "for i in range(8):\n",
        "  subplot(2, 8, i+1)\n",
        "  pred = stacked_autoencoder.predict(x_test[i].reshape((1, 28, 28)))\n",
        "  imshow(x_test[i], cmap=\"binary\")\n",
        "\n",
        "  subplot(2, 8, i+8+1)\n",
        "  imshow(pred.reshape((28, 28)), cmap=\"binary\")"
      ],
      "metadata": {
        "colab": {
          "base_uri": "https://localhost:8080/",
          "height": 317
        },
        "id": "mXcyAlwv_CRp",
        "outputId": "fb6ccd66-1f2d-4541-b783-361d7a596a99"
      },
      "execution_count": 10,
      "outputs": [
        {
          "output_type": "display_data",
          "data": {
            "text/plain": [
              "<Figure size 1440x360 with 16 Axes>"
            ],
            "image/png": "[encoded data removed]"
          },
          "metadata": {
            "needs_background": "light"
          }
        }
      ]
    },
    {
      "cell_type": "code",
      "source": [
        "i = 3\n",
        "\n",
        "figsize(10, 5)\n",
        "\n",
        "subplot(1, 3, 1)\n",
        "imshow(x_test[i], cmap=\"binary\")\n",
        "\n",
        "subplot(1, 3, 2)\n",
        "latent_vector = encoder.predict(x_test[i].reshape((1, 28, 28)))\n",
        "imshow(latent_vector, cmap=\"binary\")\n",
        "print(latent_vector)\n",
        "\n",
        "subplot(1, 3, 3)\n",
        "pred = decoder.predict(latent_vector)\n",
        "imshow(x_test[i], cmap=\"binary\")"
      ],
      "metadata": {
        "colab": {
          "base_uri": "https://localhost:8080/",
          "height": 317
        },
        "id": "fHwU4-JXFfgF",
        "outputId": "640cb8a2-7e0f-473d-d866-f0cbdd908fbd"
      },
      "execution_count": 11,
      "outputs": [
        {
          "output_type": "stream",
          "name": "stdout",
          "text": [
            "[[ 9.711021  12.643335  14.55455   14.65541    1.5509791 10.841675\n",
            "  19.624214  14.881962  14.047782  13.453148   0.        13.039666\n",
            "  19.66069    6.395769  17.16269    0.         8.165264   6.6068344\n",
            "   6.1325755 12.507827   6.241631   8.779285  15.114032  15.92412\n",
            "   8.529095  13.02555   12.872458  18.526175   0.         4.521504 ]]\n"
          ]
        },
        {
          "output_type": "execute_result",
          "data": {
            "text/plain": [
              "<matplotlib.image.AxesImage at 0x7f873631c110>"
            ]
          },
          "metadata": {},
          "execution_count": 11
        },
        {
          "output_type": "display_data",
          "data": {
            "text/plain": [
              "<Figure size 720x360 with 3 Axes>"
            ],
            "image/png": "[encoded data removed]"
          },
          "metadata": {
            "needs_background": "light"
          }
        }
      ]
    },
    {
      "cell_type": "code",
      "source": [
        "30 / (28 * 28), 1 - 30 / (28 * 28)"
      ],
      "metadata": {
        "id": "YQjiomGq_Fb5",
        "colab": {
          "base_uri": "https://localhost:8080/"
        },
        "outputId": "325316fb-2396-4081-b3a3-ca9830c83eac"
      },
      "execution_count": 12,
      "outputs": [
        {
          "output_type": "execute_result",
          "data": {
            "text/plain": [
              "(0.03826530612244898, 0.9617346938775511)"
            ]
          },
          "metadata": {},
          "execution_count": 12
        }
      ]
    },
    {
      "cell_type": "markdown",
      "source": [
        "#Conclusão da primeira parte\n",
        "Com o empilhamento dos Autoencoders foi possível reduzir as dimensões das imagens em 96%. Aconteceu a redução das dimensões de 28 x 28 (784) para apenas 30. Importante ressaltar que isso se deve pelo fato das imagens serem de baixa resolução. Dessa forma, quanto maior a resolução das imagens do conjunto de dados, menos compactadas elas poderão ser sem que ocorram grandes perdas de resolução em sua decodificação."
      ],
      "metadata": {
        "id": "y1V9-9cPB1DF"
      }
    },
    {
      "cell_type": "markdown",
      "source": [
        "#2º Parte - Contrução do modelo Convolucional para codificação e decodificação\n",
        "O modelo para esta segunda parte primeiramente é criado: serão usadas três camadas de redes convolucionais para a codificação e compactação do conjunto de dados e três camadas de redes deconvolucionais para decodificação com o objetivo de recriar o conjunto de dados.\n",
        "\n",
        "O modelo é então compilado usando o otimizador \"adam\" e as perdas são analisadas utilizando como parâmetro a perda entropia cruzada.\n",
        "\n",
        "```\n",
        "# Isto está formatado como código\n",
        "```\n",
        "\n"
      ],
      "metadata": {
        "id": "E0jst2s7Grw7"
      }
    },
    {
      "cell_type": "code",
      "source": [
        "encoder = keras.models.Sequential([\n",
        "    keras.layers.Reshape([28, 28, 1], input_shape=[28, 28]),\n",
        "    keras.layers.Conv2D(16, kernel_size=(3, 3), padding=\"same\", activation=\"relu\"),\n",
        "    keras.layers.MaxPool2D(pool_size=2),\n",
        "    keras.layers.Conv2D(32, kernel_size=(3, 3), padding=\"same\", activation=\"relu\"),\n",
        "    keras.layers.MaxPool2D(pool_size=2),\n",
        "    keras.layers.Conv2D(64, kernel_size=(3, 3), padding=\"same\", activation=\"relu\"),\n",
        "    keras.layers.MaxPool2D(pool_size=2)\n",
        "])"
      ],
      "metadata": {
        "id": "drh0KPjaC3xl"
      },
      "execution_count": 13,
      "outputs": []
    },
    {
      "cell_type": "code",
      "source": [
        "decoder = keras.models.Sequential([\n",
        "    keras.layers.Conv2DTranspose(32, kernel_size=(3, 3), strides=2, padding=\"valid\",\n",
        "                                 activation=\"relu\",\n",
        "                                 input_shape=[3, 3, 64]),\n",
        "    keras.layers.Conv2DTranspose(16, kernel_size=(3, 3), strides=2, padding=\"same\",\n",
        "                                 activation=\"relu\"),\n",
        "    keras.layers.Conv2DTranspose(1, kernel_size=(3, 3), strides=2, padding=\"same\",\n",
        "                                 activation=\"sigmoid\"),\n",
        "    keras.layers.Reshape([28, 28])\n",
        "])"
      ],
      "metadata": {
        "id": "n5bLA0KiY0Rh"
      },
      "execution_count": 14,
      "outputs": []
    },
    {
      "cell_type": "code",
      "source": [
        "stacked_autoencoder = keras.models.Sequential([encoder, decoder])"
      ],
      "metadata": {
        "id": "BE1W7KT7Y7Xo"
      },
      "execution_count": 15,
      "outputs": []
    },
    {
      "cell_type": "code",
      "source": [
        "stacked_autoencoder.compile(loss=\"binary_crossentropy\",\n",
        "                            optimizer='adam')"
      ],
      "metadata": {
        "id": "QXunnxNsY80o"
      },
      "execution_count": 16,
      "outputs": []
    },
    {
      "cell_type": "markdown",
      "source": [
        "# Treinamento do modelo\n",
        "O modelo é então treinado e validado, utilizando parte do conjunto de dados para o treinamento e parte para a validação."
      ],
      "metadata": {
        "id": "iyT5AD8tZEnx"
      }
    },
    {
      "cell_type": "code",
      "source": [
        "history = stacked_autoencoder.fit(x_train, x_train, epochs=10,\n",
        "                         validation_data=[x_test, x_test])"
      ],
      "metadata": {
        "colab": {
          "base_uri": "https://localhost:8080/"
        },
        "id": "PXMWN6EbZFSC",
        "outputId": "1ade0a13-68b1-4c9a-fa9a-e19258e36859"
      },
      "execution_count": 17,
      "outputs": [
        {
          "output_type": "stream",
          "name": "stdout",
          "text": [
            "Epoch 1/10\n",
            "1875/1875 [==============================] - 17s 4ms/step - loss: 0.1212 - val_loss: 0.0839\n",
            "Epoch 2/10\n",
            "1875/1875 [==============================] - 8s 4ms/step - loss: 0.0809 - val_loss: 0.0771\n",
            "Epoch 3/10\n",
            "1875/1875 [==============================] - 8s 4ms/step - loss: 0.0765 - val_loss: 0.0746\n",
            "Epoch 4/10\n",
            "1875/1875 [==============================] - 7s 4ms/step - loss: 0.0739 - val_loss: 0.0724\n",
            "Epoch 5/10\n",
            "1875/1875 [==============================] - 8s 4ms/step - loss: 0.0724 - val_loss: 0.0709\n",
            "Epoch 6/10\n",
            "1875/1875 [==============================] - 7s 4ms/step - loss: 0.0713 - val_loss: 0.0707\n",
            "Epoch 7/10\n",
            "1875/1875 [==============================] - 7s 4ms/step - loss: 0.0706 - val_loss: 0.0695\n",
            "Epoch 8/10\n",
            "1875/1875 [==============================] - 9s 5ms/step - loss: 0.0700 - val_loss: 0.0691\n",
            "Epoch 9/10\n",
            "1875/1875 [==============================] - 7s 4ms/step - loss: 0.0696 - val_loss: 0.0690\n",
            "Epoch 10/10\n",
            "1875/1875 [==============================] - 7s 4ms/step - loss: 0.0693 - val_loss: 0.0686\n"
          ]
        }
      ]
    },
    {
      "cell_type": "markdown",
      "source": [
        "# Reconstrução das imagens\n",
        "Agora, as imagens são reconstruidas para se avaliar se o modelo foi capaz de reconstruir os dados inseridos por meio da utilização das redes neurais convolucionais."
      ],
      "metadata": {
        "id": "EjfRlXiLZOBZ"
      }
    },
    {
      "cell_type": "code",
      "source": [
        "figsize(20, 5)\n",
        "for i in range(8):\n",
        "  subplot(2, 8, i+1)\n",
        "  pred = stacked_autoencoder.predict(x_test[i].reshape((1, 28, 28)))\n",
        "  imshow(x_test[i], cmap=\"binary\")\n",
        "\n",
        "  subplot(2, 8, i+8+1)\n",
        "  imshow(pred.reshape((28, 28)), cmap=\"binary\")"
      ],
      "metadata": {
        "colab": {
          "base_uri": "https://localhost:8080/",
          "height": 317
        },
        "id": "3J2Oe_JiZHRR",
        "outputId": "ac3af8da-1ca0-4351-a8c4-6a2ecc6bfe8e"
      },
      "execution_count": 18,
      "outputs": [
        {
          "output_type": "display_data",
          "data": {
            "text/plain": [
              "<Figure size 1440x360 with 16 Axes>"
            ],
            "image/png": "[encoded data removed]"
          },
          "metadata": {
            "needs_background": "light"
          }
        }
      ]
    },
    {
      "cell_type": "markdown",
      "source": [
        "# Conclusão da segunda parte\n",
        "A partir do uso das redes neurais convolucionais foi possível se treinar um modelo capaz de aprender os padrões de entrar e reconstuir com grande fidelidade os dados originais."
      ],
      "metadata": {
        "id": "UAXn9HLngVaI"
      }
    },
    {
      "cell_type": "markdown",
      "source": [
        "#3º Parte - Retirada de ruídos utilizando codificado automáticos\n",
        "Para esta terceira parte, serão utilizadas redes neurais convolucionais como filtro para retirar ruídos das imagens. Para simular um possível ruido, serão adicionados aos conjunto de dados original um ruído com características randomicas.\n",
        "\n",
        "O objetivo aqui é modelar uma rede que analisando o dado de saida esperado consiga aprender o que é ruido na imagem de entrada.\n",
        "\n"
      ],
      "metadata": {
        "id": "hMnjfsGsgs_4"
      }
    },
    {
      "cell_type": "markdown",
      "source": [
        "# Construção de imagem com ruído e comparação\n",
        "Com o intuito de se ver as mudanças provocadas pela inserção desses ruídos artificais, faz se um esboço da imagem original e da nova."
      ],
      "metadata": {
        "id": "swzMRGiYjHrv"
      }
    },
    {
      "cell_type": "code",
      "source": [
        "import numpy as np"
      ],
      "metadata": {
        "id": "2caqT3iQgpJJ"
      },
      "execution_count": 21,
      "outputs": []
    },
    {
      "cell_type": "code",
      "source": [
        "figsize(5, 10)\n",
        "subplot(1, 2, 1)\n",
        "imshow(x_test[0], cmap=\"binary\")\n",
        "\n",
        "subplot(1, 2, 2)\n",
        "noise = np.random.random((28, 28)) / 4\n",
        "imshow(x_test[0] + noise, cmap=\"binary\")"
      ],
      "metadata": {
        "colab": {
          "base_uri": "https://localhost:8080/",
          "height": 193
        },
        "id": "CNh0UTAJidh5",
        "outputId": "05bacea2-59e8-403c-aea7-cc899068fc69"
      },
      "execution_count": 20,
      "outputs": [
        {
          "output_type": "execute_result",
          "data": {
            "text/plain": [
              "<matplotlib.image.AxesImage at 0x7f87141bc2d0>"
            ]
          },
          "metadata": {},
          "execution_count": 20
        },
        {
          "output_type": "display_data",
          "data": {
            "text/plain": [
              "<Figure size 360x720 with 2 Axes>"
            ],
            "image/png": "[encoded data removed]"
          },
          "metadata": {
            "needs_background": "light"
          }
        }
      ]
    },
    {
      "cell_type": "markdown",
      "source": [
        "#Contrução do modelo Convolucional para retirada de ruídos\n",
        "Cria-se novamente e de forma separada o codificador e o decodificador utilizando redes Dense."
      ],
      "metadata": {
        "id": "yjaB-k48jcyv"
      }
    },
    {
      "cell_type": "code",
      "source": [
        "encoder = keras.models.Sequential([\n",
        "    keras.layers.Flatten(input_shape=[28, 28]),\n",
        "    keras.layers.Dense(100, activation=\"relu\"),\n",
        "    keras.layers.Dense(100, activation=\"relu\"),\n",
        "    keras.layers.Dense(30, activation=\"relu\")\n",
        "])"
      ],
      "metadata": {
        "id": "d5Mp5-cFige4"
      },
      "execution_count": 22,
      "outputs": []
    },
    {
      "cell_type": "code",
      "source": [
        "decoder = keras.models.Sequential([\n",
        "    keras.layers.Dense(100, activation=\"relu\", input_shape=[30]),\n",
        "    keras.layers.Dense(100, activation=\"relu\"),\n",
        "    keras.layers.Dense(28 * 28, activation=\"sigmoid\"),\n",
        "    keras.layers.Reshape([28, 28])\n",
        "])"
      ],
      "metadata": {
        "id": "cXcRP7MRkEMI"
      },
      "execution_count": 23,
      "outputs": []
    },
    {
      "cell_type": "markdown",
      "source": [
        "#Empilhamento de Autoencoders\n",
        "Após a criação dos modelos simples de Autoencoders, pode-se então criar um modelo de Autoencoder utilizando ambos.\n",
        "\n",
        "O modelo é então compilado usando o otimizador \"adam\" e as perdas são analisadas utilizando como parâmetro a função de entropia cruzada."
      ],
      "metadata": {
        "id": "9DE99MTtkNzz"
      }
    },
    {
      "cell_type": "code",
      "source": [
        "stacked_autoencoder = keras.models.Sequential([encoder, decoder])"
      ],
      "metadata": {
        "id": "yCLZBBgJkOZg"
      },
      "execution_count": 24,
      "outputs": []
    },
    {
      "cell_type": "code",
      "source": [
        "stacked_autoencoder.compile(loss=\"binary_crossentropy\",\n",
        "                            optimizer='adam')"
      ],
      "metadata": {
        "id": "lsJE1qEdkS5H"
      },
      "execution_count": 25,
      "outputs": []
    },
    {
      "cell_type": "markdown",
      "source": [
        "#Inserção de ruídos no conjunto de dados\n",
        "Para se testar o codificador automatico criado, serão inseridos no conjunto de dados ruídos para testar a capacidade do modelo em retira los."
      ],
      "metadata": {
        "id": "0ySsgTOOlii3"
      }
    },
    {
      "cell_type": "code",
      "source": [
        "x_train_noise = x_train + ((np.random.random(x_train.shape)) / 4)\n",
        "x_test_noise = x_test + ((np.random.random(x_test.shape)) / 4)"
      ],
      "metadata": {
        "id": "qUTAp8rVmDx5"
      },
      "execution_count": 26,
      "outputs": []
    },
    {
      "cell_type": "code",
      "source": [
        "imshow(x_train_noise[1], cmap=\"binary\")"
      ],
      "metadata": {
        "colab": {
          "base_uri": "https://localhost:8080/",
          "height": 344
        },
        "id": "pfBfxUoumNS5",
        "outputId": "32875ada-1525-4c7c-a3c4-f4bc8db565e9"
      },
      "execution_count": 27,
      "outputs": [
        {
          "output_type": "execute_result",
          "data": {
            "text/plain": [
              "<matplotlib.image.AxesImage at 0x7f8714089e10>"
            ]
          },
          "metadata": {},
          "execution_count": 27
        },
        {
          "output_type": "display_data",
          "data": {
            "text/plain": [
              "<Figure size 360x720 with 1 Axes>"
            ],
            "image/png": "[encoded data removed]"
          },
          "metadata": {
            "needs_background": "light"
          }
        }
      ]
    },
    {
      "cell_type": "markdown",
      "source": [
        "# Treinamento do modelo\n",
        "O modelo é então treinado e validado, utilizando parte do conjunto de dados com ruído para o treinamento e parte para a validação."
      ],
      "metadata": {
        "id": "yHlJ3m_DmSBP"
      }
    },
    {
      "cell_type": "code",
      "source": [
        "history = stacked_autoencoder.fit(x_train_noise, x_train, epochs=10,\n",
        "                                  validation_data=(x_test_noise, x_test))"
      ],
      "metadata": {
        "colab": {
          "base_uri": "https://localhost:8080/"
        },
        "id": "CmY74thamXwH",
        "outputId": "d9c29289-d6e2-4b60-c0f4-b41a82325c34"
      },
      "execution_count": 28,
      "outputs": [
        {
          "output_type": "stream",
          "name": "stdout",
          "text": [
            "Epoch 1/10\n",
            "1875/1875 [==============================] - 6s 3ms/step - loss: 0.1596 - val_loss: 0.1233\n",
            "Epoch 2/10\n",
            "1875/1875 [==============================] - 6s 3ms/step - loss: 0.1168 - val_loss: 0.1091\n",
            "Epoch 3/10\n",
            "1875/1875 [==============================] - 6s 3ms/step - loss: 0.1074 - val_loss: 0.1032\n",
            "Epoch 4/10\n",
            "1875/1875 [==============================] - 6s 3ms/step - loss: 0.1028 - val_loss: 0.1000\n",
            "Epoch 5/10\n",
            "1875/1875 [==============================] - 6s 3ms/step - loss: 0.0994 - val_loss: 0.0976\n",
            "Epoch 6/10\n",
            "1875/1875 [==============================] - 6s 3ms/step - loss: 0.0973 - val_loss: 0.0958\n",
            "Epoch 7/10\n",
            "1875/1875 [==============================] - 6s 3ms/step - loss: 0.0956 - val_loss: 0.0938\n",
            "Epoch 8/10\n",
            "1875/1875 [==============================] - 6s 3ms/step - loss: 0.0942 - val_loss: 0.0932\n",
            "Epoch 9/10\n",
            "1875/1875 [==============================] - 6s 3ms/step - loss: 0.0931 - val_loss: 0.0916\n",
            "Epoch 10/10\n",
            "1875/1875 [==============================] - 6s 3ms/step - loss: 0.0923 - val_loss: 0.0911\n"
          ]
        }
      ]
    },
    {
      "cell_type": "markdown",
      "source": [
        "# Reconstrução das imagens\n",
        "Agora, as imagens são reconstruidas para se avaliar se o modelo foi capaz de retirar os ruídos inseridos por meio da utilização das redes neurais convolucionais."
      ],
      "metadata": {
        "id": "jJAwJwZDmd2X"
      }
    },
    {
      "cell_type": "code",
      "source": [
        "figsize(20, 5)\n",
        "for i in range(8):\n",
        "  subplot(2, 8, i+1)\n",
        "  imshow(x_test_noise[i], cmap=\"binary\")\n",
        "\n",
        "  subplot(2, 8, i+8+1)\n",
        "  pred = stacked_autoencoder.predict(x_test_noise[i].reshape((1, 28, 28)))\n",
        "  imshow(pred.reshape((28, 28)), cmap=\"binary\")"
      ],
      "metadata": {
        "colab": {
          "base_uri": "https://localhost:8080/",
          "height": 317
        },
        "id": "LUglVJyMmgKX",
        "outputId": "e685939b-7e62-4d64-b777-66122569d17b"
      },
      "execution_count": 29,
      "outputs": [
        {
          "output_type": "display_data",
          "data": {
            "text/plain": [
              "<Figure size 1440x360 with 16 Axes>"
            ],
            "image/png": "[encoded data removed]"
          },
          "metadata": {
            "needs_background": "light"
          }
        }
      ]
    },
    {
      "cell_type": "markdown",
      "source": [
        "# Conclusão da terceira parte\n",
        "A partir do uso das redes neurais convolucionais foi possível se treinar um modelo capaz de retirar os ruídos atribuidos inicialmente."
      ],
      "metadata": {
        "id": "o9Jk01ERnByi"
      }
    },
    {
      "cell_type": "code",
      "source": [],
      "metadata": {
        "id": "uXbWmtW1n1Hh"
      },
      "execution_count": null,
      "outputs": []
    }
  ]
}
