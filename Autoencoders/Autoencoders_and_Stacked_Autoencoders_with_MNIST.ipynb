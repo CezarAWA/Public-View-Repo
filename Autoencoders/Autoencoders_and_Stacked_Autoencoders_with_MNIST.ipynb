{
  "nbformat": 4,
  "nbformat_minor": 0,
  "metadata": {
    "colab": {
      "provenance": [],
      "collapsed_sections": []
    },
    "kernelspec": {
      "name": "python3",
      "display_name": "Python 3"
    },
    "language_info": {
      "name": "python"
    },
    "accelerator": "GPU"
  },
  "cells": [
    {
      "cell_type": "markdown",
      "source": [
        "# Autoencoders and Stacked Autoencoders with MNIST\n",
        "An autoencoder is a type of artificial neural network used to learn efficient data coding in an unsupervised manner. There are two parts in an autoencoder: the encoder and the decoder. The encoder is used to generate a reduced feature representation from an initial input x by a hidden layer h. The decoder is used to reconstruct the initial input from the encoder's output by minimizing the loss function.The stacked autoencoders are, as the name suggests, multiple encoders stacked on top of one another.\n",
        "\n",
        "In this study will be used a dataset of handwritten digits in gray scale to build a latent space representation able to be decoded to reproduce an output equal to the input and to remove noises from the images."
      ],
      "metadata": {
        "id": "BPwD_rEe0_DG"
      }
    },
    {
      "cell_type": "markdown",
      "source": [
        "## Tensorflow importation\n"
      ],
      "metadata": {
        "id": "vbcSdiNM7JV0"
      }
    },
    {
      "cell_type": "code",
      "source": [
        "%pylab inline\n",
        "\n",
        "from tensorflow import keras"
      ],
      "metadata": {
        "colab": {
          "base_uri": "https://localhost:8080/"
        },
        "id": "7o40RBdl7MaD",
        "outputId": "f34521af-23bf-4042-e7b6-aef510c29679"
      },
      "execution_count": 10,
      "outputs": [
        {
          "output_type": "stream",
          "name": "stdout",
          "text": [
            "Populating the interactive namespace from numpy and matplotlib\n"
          ]
        }
      ]
    },
    {
      "cell_type": "markdown",
      "source": [
        "## Dataset Load\n",
        "To begin, it will be necessary to load the dataset and split it in two parts: one that will be used for the training and another one for the tests."
      ],
      "metadata": {
        "id": "h8s6BOp51Rv9"
      }
    },
    {
      "cell_type": "code",
      "execution_count": 11,
      "metadata": {
        "id": "0x3ncOoc09rY"
      },
      "outputs": [],
      "source": [
        "(x_train, _), (x_test, _) = keras.datasets.mnist.load_data()\n",
        "x_train = x_train / 255\n",
        "x_test = x_test / 255"
      ]
    },
    {
      "cell_type": "markdown",
      "source": [
        "## First Part - Dense model for encoding and decoding\n",
        "In this first part, a simple autoencoder model will be created in two parts. One part will be de encoder and the other the decoder, both using dense neural network. Only after this the stacked autoencoder will be created and then the encoder and the decoder will be trained at the same time. \n",
        "\n",
        "The main objective is to reduce the latent space representation more than an autoencoder could do."
      ],
      "metadata": {
        "id": "k5ab83M70-Nl"
      }
    },
    {
      "cell_type": "code",
      "source": [
        "encoder = keras.models.Sequential([\n",
        "    keras.layers.Flatten(input_shape=[28, 28]),\n",
        "    keras.layers.Dense(100, activation=\"relu\"),\n",
        "    keras.layers.Dense(30, activation=\"relu\"),\n",
        "])"
      ],
      "metadata": {
        "id": "ZzD2EIf8KUsB"
      },
      "execution_count": 12,
      "outputs": []
    },
    {
      "cell_type": "code",
      "source": [
        "decoder = keras.models.Sequential([\n",
        "    keras.layers.Dense(100, activation=\"relu\", input_shape=[30]),\n",
        "    keras.layers.Dense(28 * 28, activation=\"sigmoid\"),\n",
        "    keras.layers.Reshape([28, 28])\n",
        "])"
      ],
      "metadata": {
        "id": "LKYauE10KbJi"
      },
      "execution_count": 13,
      "outputs": []
    },
    {
      "cell_type": "markdown",
      "source": [
        "##Summary analysis of the encoder and decoder\n",
        "Analysing the encoder and the decoder summary, it can be concluded that the model successfully compressed the dimensions of the dataset and brought it back to it's original dimensions through the decoder.\n",
        "\n",
        "While the encoder reduced the dimensions from 784 to 30, the decoder transformed from 30 to 784, and then to 28 x 28 image, returning to it's original dimension."
      ],
      "metadata": {
        "id": "oMRAVvBNK0hJ"
      }
    },
    {
      "cell_type": "code",
      "source": [
        "encoder.summary()"
      ],
      "metadata": {
        "colab": {
          "base_uri": "https://localhost:8080/"
        },
        "id": "lZPPg_utLboh",
        "outputId": "da8abe82-2091-486e-a020-8510b0925bf1"
      },
      "execution_count": 14,
      "outputs": [
        {
          "output_type": "stream",
          "name": "stdout",
          "text": [
            "Model: \"sequential_4\"\n",
            "_________________________________________________________________\n",
            " Layer (type)                Output Shape              Param #   \n",
            "=================================================================\n",
            " flatten_1 (Flatten)         (None, 784)               0         \n",
            "                                                                 \n",
            " dense_6 (Dense)             (None, 100)               78500     \n",
            "                                                                 \n",
            " dense_7 (Dense)             (None, 30)                3030      \n",
            "                                                                 \n",
            "=================================================================\n",
            "Total params: 81,530\n",
            "Trainable params: 81,530\n",
            "Non-trainable params: 0\n",
            "_________________________________________________________________\n"
          ]
        }
      ]
    },
    {
      "cell_type": "code",
      "source": [
        "decoder.summary()"
      ],
      "metadata": {
        "colab": {
          "base_uri": "https://localhost:8080/"
        },
        "id": "qAHcDvanLe8x",
        "outputId": "c0c2f39e-4b1b-4a18-c5aa-f1a408ac6801"
      },
      "execution_count": 15,
      "outputs": [
        {
          "output_type": "stream",
          "name": "stdout",
          "text": [
            "Model: \"sequential_5\"\n",
            "_________________________________________________________________\n",
            " Layer (type)                Output Shape              Param #   \n",
            "=================================================================\n",
            " dense_8 (Dense)             (None, 100)               3100      \n",
            "                                                                 \n",
            " dense_9 (Dense)             (None, 784)               79184     \n",
            "                                                                 \n",
            " reshape_2 (Reshape)         (None, 28, 28)            0         \n",
            "                                                                 \n",
            "=================================================================\n",
            "Total params: 82,284\n",
            "Trainable params: 82,284\n",
            "Non-trainable params: 0\n",
            "_________________________________________________________________\n"
          ]
        }
      ]
    },
    {
      "cell_type": "markdown",
      "source": [
        "##Stacked Autoencoder\n",
        "After creating the encoder and the decoder, they can be used as input and ouput of an autoencoder model.\n",
        "\n",
        "Then the model is compiled using \"adam\" optimizer and the loss will be analysed using the binary crossentropy."
      ],
      "metadata": {
        "id": "v-k8wlxaL0in"
      }
    },
    {
      "cell_type": "code",
      "source": [
        "stacked_autoencoder = keras.models.Sequential([encoder, decoder])\n",
        "\n",
        "stacked_autoencoder.compile(loss=\"binary_crossentropy\",\n",
        "                   optimizer='adam')"
      ],
      "metadata": {
        "id": "U5O_8H2qNZI4"
      },
      "execution_count": 16,
      "outputs": []
    },
    {
      "cell_type": "markdown",
      "source": [
        "##Model training\n",
        "Then, the model is trained and validated using part of the original dataset for training and part for the validation."
      ],
      "metadata": {
        "id": "5IPibT0VNdu6"
      }
    },
    {
      "cell_type": "code",
      "source": [
        "history = stacked_autoencoder.fit(x_train, x_train, epochs=3,\n",
        "                                  validation_data=(x_test, x_test))"
      ],
      "metadata": {
        "colab": {
          "base_uri": "https://localhost:8080/"
        },
        "id": "DQPPTavUOSNJ",
        "outputId": "8d533d5b-c8c4-4657-8ec8-7bb3d5c9976a"
      },
      "execution_count": 17,
      "outputs": [
        {
          "output_type": "stream",
          "name": "stdout",
          "text": [
            "Epoch 1/3\n",
            "1875/1875 [==============================] - 6s 3ms/step - loss: 0.1458 - val_loss: 0.1065\n",
            "Epoch 2/3\n",
            "1875/1875 [==============================] - 5s 3ms/step - loss: 0.1020 - val_loss: 0.0967\n",
            "Epoch 3/3\n",
            "1875/1875 [==============================] - 5s 3ms/step - loss: 0.0964 - val_loss: 0.0937\n"
          ]
        }
      ]
    },
    {
      "cell_type": "markdown",
      "source": [
        "##Images reconstruction\n",
        "Now, part of the original dataset is printed along with the output of the autoencoder so it can be compared with one another."
      ],
      "metadata": {
        "id": "nh6fy3zM_BW6"
      }
    },
    {
      "cell_type": "code",
      "source": [
        "figsize(20, 5)\n",
        "for i in range(8):\n",
        "  subplot(2, 8, i+1)\n",
        "  pred = stacked_autoencoder.predict(x_test[i].reshape((1, 28, 28)))\n",
        "  imshow(x_test[i], cmap=\"binary\")\n",
        "\n",
        "  subplot(2, 8, i+8+1)\n",
        "  imshow(pred.reshape((28, 28)), cmap=\"binary\")"
      ],
      "metadata": {
        "colab": {
          "base_uri": "https://localhost:8080/",
          "height": 456
        },
        "id": "mXcyAlwv_CRp",
        "outputId": "7a6d726b-e066-443b-8780-51d5c4b246a7"
      },
      "execution_count": 18,
      "outputs": [
        {
          "output_type": "stream",
          "name": "stdout",
          "text": [
            "1/1 [==============================] - 0s 63ms/step\n",
            "1/1 [==============================] - 0s 14ms/step\n",
            "1/1 [==============================] - 0s 17ms/step\n",
            "1/1 [==============================] - 0s 13ms/step\n",
            "1/1 [==============================] - 0s 14ms/step\n",
            "1/1 [==============================] - 0s 16ms/step\n",
            "1/1 [==============================] - 0s 16ms/step\n",
            "1/1 [==============================] - 0s 17ms/step\n"
          ]
        },
        {
          "output_type": "display_data",
          "data": {
            "text/plain": [
              "<Figure size 1440x360 with 16 Axes>"
            ],
            "image/png": "[encoded data removed]"
          },
          "metadata": {
            "needs_background": "light"
          }
        }
      ]
    },
    {
      "cell_type": "markdown",
      "source": [
        "##Image comparison\n",
        "Now, it's possible to compare the input image with the stacked autoencoder output image. Besides that, it's possible to calculate the difference between the images dimensions with one another."
      ],
      "metadata": {
        "id": "mhi4M5_kvyWC"
      }
    },
    {
      "cell_type": "code",
      "source": [
        "i = 3\n",
        "\n",
        "figsize(10, 5)\n",
        "\n",
        "subplot(1, 3, 1)\n",
        "imshow(x_test[i], cmap=\"binary\")\n",
        "\n",
        "subplot(1, 3, 2)\n",
        "latent_vector = encoder.predict(x_test[i].reshape((1, 28, 28)))\n",
        "imshow(latent_vector, cmap=\"binary\")\n",
        "print(latent_vector)\n",
        "\n",
        "subplot(1, 3, 3)\n",
        "pred = decoder.predict(latent_vector)\n",
        "imshow(x_test[i], cmap=\"binary\")"
      ],
      "metadata": {
        "colab": {
          "base_uri": "https://localhost:8080/",
          "height": 352
        },
        "id": "fHwU4-JXFfgF",
        "outputId": "cf4f36a5-56ef-4eb5-c479-aff1be4490ad"
      },
      "execution_count": 19,
      "outputs": [
        {
          "output_type": "stream",
          "name": "stdout",
          "text": [
            "1/1 [==============================] - 0s 37ms/step\n",
            "[[14.329346   6.7922497 15.065919   0.         4.556929   9.643408\n",
            "   6.314905   8.088185   7.193011  13.178225  13.506027  13.607141\n",
            "  11.076798  15.541721  13.107387  14.669193  16.096634   0.\n",
            "   9.025664   9.384999  10.029433   9.38294   15.651785   6.025882\n",
            "   9.57674    9.129276   8.531995  11.014496  13.181781   5.5215373]]\n",
            "1/1 [==============================] - 0s 43ms/step\n"
          ]
        },
        {
          "output_type": "execute_result",
          "data": {
            "text/plain": [
              "<matplotlib.image.AxesImage at 0x7fe1cc9dd050>"
            ]
          },
          "metadata": {},
          "execution_count": 19
        },
        {
          "output_type": "display_data",
          "data": {
            "text/plain": [
              "<Figure size 720x360 with 3 Axes>"
            ],
            "image/png": "[encoded data removed]"
          },
          "metadata": {
            "needs_background": "light"
          }
        }
      ]
    },
    {
      "cell_type": "code",
      "source": [
        "30 / (28 * 28), 1 - 30 / (28 * 28)"
      ],
      "metadata": {
        "id": "YQjiomGq_Fb5",
        "colab": {
          "base_uri": "https://localhost:8080/"
        },
        "outputId": "854c68d8-dd03-4764-9178-a8dee63da113"
      },
      "execution_count": 20,
      "outputs": [
        {
          "output_type": "execute_result",
          "data": {
            "text/plain": [
              "(0.03826530612244898, 0.9617346938775511)"
            ]
          },
          "metadata": {},
          "execution_count": 20
        }
      ]
    },
    {
      "cell_type": "markdown",
      "source": [
        "##First part conclusion\n",
        "As seen before, with stacked autoencoders it was possible to reduce the dimensions in 96%. \n",
        "\n",
        "However, it's important to note that the bigger the resolution of the images the less it dimensions can be reduced into the latent space representation. Thus, less compressed the images can be."
      ],
      "metadata": {
        "id": "y1V9-9cPB1DF"
      }
    },
    {
      "cell_type": "markdown",
      "source": [
        "##Second Part - Convolutional neural network for encoding and decoding\n",
        "In this second part, a simple autoencoder model will be created in two parts again, but this time using convolutional neural network. Once more, after creating the model, the stacked autoencoder will be created and then the encoder and the decoder will be trained at the same time.\n",
        "\n",
        "Again, the main objective is to reduce the latent space representation more than an autoencoder could do."
      ],
      "metadata": {
        "id": "E0jst2s7Grw7"
      }
    },
    {
      "cell_type": "code",
      "source": [
        "encoder = keras.models.Sequential([\n",
        "    keras.layers.Reshape([28, 28, 1], input_shape=[28, 28]),\n",
        "    keras.layers.Conv2D(16, kernel_size=(3, 3), padding=\"same\", activation=\"relu\"),\n",
        "    keras.layers.MaxPool2D(pool_size=2),\n",
        "    keras.layers.Conv2D(32, kernel_size=(3, 3), padding=\"same\", activation=\"relu\"),\n",
        "    keras.layers.MaxPool2D(pool_size=2),\n",
        "    keras.layers.Conv2D(64, kernel_size=(3, 3), padding=\"same\", activation=\"relu\"),\n",
        "    keras.layers.MaxPool2D(pool_size=2)\n",
        "])"
      ],
      "metadata": {
        "id": "drh0KPjaC3xl"
      },
      "execution_count": 21,
      "outputs": []
    },
    {
      "cell_type": "code",
      "source": [
        "decoder = keras.models.Sequential([\n",
        "    keras.layers.Conv2DTranspose(32, kernel_size=(3, 3), strides=2, padding=\"valid\",\n",
        "                                 activation=\"relu\",\n",
        "                                 input_shape=[3, 3, 64]),\n",
        "    keras.layers.Conv2DTranspose(16, kernel_size=(3, 3), strides=2, padding=\"same\",\n",
        "                                 activation=\"relu\"),\n",
        "    keras.layers.Conv2DTranspose(1, kernel_size=(3, 3), strides=2, padding=\"same\",\n",
        "                                 activation=\"sigmoid\"),\n",
        "    keras.layers.Reshape([28, 28])\n",
        "])"
      ],
      "metadata": {
        "id": "n5bLA0KiY0Rh"
      },
      "execution_count": 22,
      "outputs": []
    },
    {
      "cell_type": "markdown",
      "source": [
        "##Stacked autoencoder\n",
        "After creating the encoder and the decoder, they can be used as input and ouput of an autoencoder model.\n",
        "\n",
        "Then the model is compiled using \"adam\" optimizer and the loss will be analysed using the binary crossentropy."
      ],
      "metadata": {
        "id": "bqA1MQpLkgeI"
      }
    },
    {
      "cell_type": "code",
      "source": [
        "stacked_autoencoder = keras.models.Sequential([encoder, decoder])"
      ],
      "metadata": {
        "id": "BE1W7KT7Y7Xo"
      },
      "execution_count": 23,
      "outputs": []
    },
    {
      "cell_type": "code",
      "source": [
        "stacked_autoencoder.compile(loss=\"binary_crossentropy\",\n",
        "                            optimizer='adam')"
      ],
      "metadata": {
        "id": "QXunnxNsY80o"
      },
      "execution_count": 24,
      "outputs": []
    },
    {
      "cell_type": "markdown",
      "source": [
        "##Model training\n",
        "Then, the model is trained and validated using part of the original dataset for training and part for the validation."
      ],
      "metadata": {
        "id": "iyT5AD8tZEnx"
      }
    },
    {
      "cell_type": "code",
      "source": [
        "history = stacked_autoencoder.fit(x_train, x_train, epochs=10,\n",
        "                         validation_data=[x_test, x_test])"
      ],
      "metadata": {
        "colab": {
          "base_uri": "https://localhost:8080/"
        },
        "id": "PXMWN6EbZFSC",
        "outputId": "549b981b-f661-41a5-9adf-fcac2d01cf26"
      },
      "execution_count": 25,
      "outputs": [
        {
          "output_type": "stream",
          "name": "stdout",
          "text": [
            "Epoch 1/10\n",
            "1875/1875 [==============================] - 14s 4ms/step - loss: 0.1228 - val_loss: 0.0832\n",
            "Epoch 2/10\n",
            "1875/1875 [==============================] - 7s 4ms/step - loss: 0.0810 - val_loss: 0.0772\n",
            "Epoch 3/10\n",
            "1875/1875 [==============================] - 8s 4ms/step - loss: 0.0766 - val_loss: 0.0746\n",
            "Epoch 4/10\n",
            "1875/1875 [==============================] - 8s 4ms/step - loss: 0.0742 - val_loss: 0.0729\n",
            "Epoch 5/10\n",
            "1875/1875 [==============================] - 8s 4ms/step - loss: 0.0726 - val_loss: 0.0716\n",
            "Epoch 6/10\n",
            "1875/1875 [==============================] - 8s 4ms/step - loss: 0.0716 - val_loss: 0.0707\n",
            "Epoch 7/10\n",
            "1875/1875 [==============================] - 8s 4ms/step - loss: 0.0709 - val_loss: 0.0699\n",
            "Epoch 8/10\n",
            "1875/1875 [==============================] - 8s 4ms/step - loss: 0.0703 - val_loss: 0.0695\n",
            "Epoch 9/10\n",
            "1875/1875 [==============================] - 7s 4ms/step - loss: 0.0698 - val_loss: 0.0693\n",
            "Epoch 10/10\n",
            "1875/1875 [==============================] - 8s 4ms/step - loss: 0.0694 - val_loss: 0.0686\n"
          ]
        }
      ]
    },
    {
      "cell_type": "markdown",
      "source": [
        "##Images reconstruction\n",
        "Now, part of the original dataset is printed along with the output of the autoencoder so it can be compared with one another."
      ],
      "metadata": {
        "id": "EjfRlXiLZOBZ"
      }
    },
    {
      "cell_type": "code",
      "source": [
        "figsize(20, 5)\n",
        "for i in range(8):\n",
        "  subplot(2, 8, i+1)\n",
        "  pred = stacked_autoencoder.predict(x_test[i].reshape((1, 28, 28)))\n",
        "  imshow(x_test[i], cmap=\"binary\")\n",
        "\n",
        "  subplot(2, 8, i+8+1)\n",
        "  imshow(pred.reshape((28, 28)), cmap=\"binary\")"
      ],
      "metadata": {
        "colab": {
          "base_uri": "https://localhost:8080/",
          "height": 456
        },
        "id": "3J2Oe_JiZHRR",
        "outputId": "c5074996-807d-4766-a2de-abaef94ce12b"
      },
      "execution_count": 26,
      "outputs": [
        {
          "output_type": "stream",
          "name": "stdout",
          "text": [
            "1/1 [==============================] - 0s 183ms/step\n",
            "1/1 [==============================] - 0s 14ms/step\n",
            "1/1 [==============================] - 0s 17ms/step\n",
            "1/1 [==============================] - 0s 14ms/step\n",
            "1/1 [==============================] - 0s 16ms/step\n",
            "1/1 [==============================] - 0s 18ms/step\n",
            "1/1 [==============================] - 0s 17ms/step\n",
            "1/1 [==============================] - 0s 17ms/step\n"
          ]
        },
        {
          "output_type": "display_data",
          "data": {
            "text/plain": [
              "<Figure size 1440x360 with 16 Axes>"
            ],
            "image/png": "[encoded data removed]"
          },
          "metadata": {
            "needs_background": "light"
          }
        }
      ]
    },
    {
      "cell_type": "markdown",
      "source": [
        "##Second part conclusion\n",
        "Using convolutional neural networks it was possible to train a model capable of learning the input patterns and trough the stacked autoencoder output it was rebuilded with big fidelity to it's originals data."
      ],
      "metadata": {
        "id": "UAXn9HLngVaI"
      }
    },
    {
      "cell_type": "markdown",
      "source": [
        "##Third Part - Noise removal with stacked autoencoders\n",
        "For this final part, dense neural networks will be used with stacked autoencoders to remove noises from the images. To simulate possible noises, random values will be added to the original dataset.\n",
        "\n",
        "The main objective is to model a stacked autoencoder capable of filtering the noises in the dataset."
      ],
      "metadata": {
        "id": "hMnjfsGsgs_4"
      }
    },
    {
      "cell_type": "markdown",
      "source": [
        "##Original and noisy plotting and comparison\n",
        "\n",
        "To see what the differences between the original and the noisy dataset will be, initially an image from the original dataset is printed along with it's noisy pair."
      ],
      "metadata": {
        "id": "swzMRGiYjHrv"
      }
    },
    {
      "cell_type": "code",
      "source": [
        "import numpy as np"
      ],
      "metadata": {
        "id": "2caqT3iQgpJJ"
      },
      "execution_count": 27,
      "outputs": []
    },
    {
      "cell_type": "code",
      "source": [
        "figsize(5, 10)\n",
        "subplot(1, 2, 1)\n",
        "imshow(x_test[0], cmap=\"binary\")\n",
        "\n",
        "subplot(1, 2, 2)\n",
        "noise = np.random.random((28, 28)) / 4\n",
        "imshow(x_test[0] + noise, cmap=\"binary\")"
      ],
      "metadata": {
        "colab": {
          "base_uri": "https://localhost:8080/",
          "height": 193
        },
        "id": "CNh0UTAJidh5",
        "outputId": "61b8a2fd-ad43-4d8f-b8a0-15749eb6004a"
      },
      "execution_count": 28,
      "outputs": [
        {
          "output_type": "execute_result",
          "data": {
            "text/plain": [
              "<matplotlib.image.AxesImage at 0x7fe23019ae50>"
            ]
          },
          "metadata": {},
          "execution_count": 28
        },
        {
          "output_type": "display_data",
          "data": {
            "text/plain": [
              "<Figure size 360x720 with 2 Axes>"
            ],
            "image/png": "[encoded data removed]"
          },
          "metadata": {
            "needs_background": "light"
          }
        }
      ]
    },
    {
      "cell_type": "markdown",
      "source": [
        "##Dense model for encoding and decoding\n",
        "Once more, the encoder and the decoder are created separately using dense neural network."
      ],
      "metadata": {
        "id": "yjaB-k48jcyv"
      }
    },
    {
      "cell_type": "code",
      "source": [
        "encoder = keras.models.Sequential([\n",
        "    keras.layers.Flatten(input_shape=[28, 28]),\n",
        "    keras.layers.Dense(100, activation=\"relu\"),\n",
        "    keras.layers.Dense(100, activation=\"relu\"),\n",
        "    keras.layers.Dense(30, activation=\"relu\")\n",
        "])"
      ],
      "metadata": {
        "id": "d5Mp5-cFige4"
      },
      "execution_count": 29,
      "outputs": []
    },
    {
      "cell_type": "code",
      "source": [
        "decoder = keras.models.Sequential([\n",
        "    keras.layers.Dense(100, activation=\"relu\", input_shape=[30]),\n",
        "    keras.layers.Dense(100, activation=\"relu\"),\n",
        "    keras.layers.Dense(28 * 28, activation=\"sigmoid\"),\n",
        "    keras.layers.Reshape([28, 28])\n",
        "])"
      ],
      "metadata": {
        "id": "cXcRP7MRkEMI"
      },
      "execution_count": 30,
      "outputs": []
    },
    {
      "cell_type": "markdown",
      "source": [
        "##Stacked Autoencoder\n",
        "After creating the encoder and the decoder, they can be used as input and ouput of an autoencoder model.\n",
        "\n",
        "Then the model is compiled using \"adam\" optimizer and the loss will be analysed using the binary crossentropy."
      ],
      "metadata": {
        "id": "9DE99MTtkNzz"
      }
    },
    {
      "cell_type": "code",
      "source": [
        "stacked_autoencoder = keras.models.Sequential([encoder, decoder])"
      ],
      "metadata": {
        "id": "yCLZBBgJkOZg"
      },
      "execution_count": null,
      "outputs": []
    },
    {
      "cell_type": "code",
      "source": [
        "stacked_autoencoder.compile(loss=\"binary_crossentropy\",\n",
        "                            optimizer='adam')"
      ],
      "metadata": {
        "id": "lsJE1qEdkS5H"
      },
      "execution_count": null,
      "outputs": []
    },
    {
      "cell_type": "markdown",
      "source": [
        "##Noise insertion in the dataset\n",
        "To test the stacked autoencoder, now it will be inserted random values in the original dataset to simulate the noises."
      ],
      "metadata": {
        "id": "0ySsgTOOlii3"
      }
    },
    {
      "cell_type": "code",
      "source": [
        "x_train_noise = x_train + ((np.random.random(x_train.shape)) / 4)\n",
        "x_test_noise = x_test + ((np.random.random(x_test.shape)) / 4)"
      ],
      "metadata": {
        "id": "qUTAp8rVmDx5"
      },
      "execution_count": 31,
      "outputs": []
    },
    {
      "cell_type": "code",
      "source": [
        "imshow(x_train_noise[1], cmap=\"binary\")"
      ],
      "metadata": {
        "colab": {
          "base_uri": "https://localhost:8080/",
          "height": 344
        },
        "id": "pfBfxUoumNS5",
        "outputId": "21a2f103-e053-46ac-b4b2-991418d1085b"
      },
      "execution_count": 32,
      "outputs": [
        {
          "output_type": "execute_result",
          "data": {
            "text/plain": [
              "<matplotlib.image.AxesImage at 0x7fe1cc8d92d0>"
            ]
          },
          "metadata": {},
          "execution_count": 32
        },
        {
          "output_type": "display_data",
          "data": {
            "text/plain": [
              "<Figure size 360x720 with 1 Axes>"
            ],
            "image/png": "[encoded data removed]"
          },
          "metadata": {
            "needs_background": "light"
          }
        }
      ]
    },
    {
      "cell_type": "markdown",
      "source": [
        "##Model training\n",
        "Then, the model is trained and validated using part of the original dataset with noise for training and part for the validation."
      ],
      "metadata": {
        "id": "yHlJ3m_DmSBP"
      }
    },
    {
      "cell_type": "code",
      "source": [
        "history = stacked_autoencoder.fit(x_train_noise, x_train, epochs=10,\n",
        "                                  validation_data=(x_test_noise, x_test))"
      ],
      "metadata": {
        "colab": {
          "base_uri": "https://localhost:8080/"
        },
        "id": "CmY74thamXwH",
        "outputId": "698193e3-0c31-4ad3-a2c0-3bff0ce96105"
      },
      "execution_count": 33,
      "outputs": [
        {
          "output_type": "stream",
          "name": "stdout",
          "text": [
            "Epoch 1/10\n",
            "1875/1875 [==============================] - 8s 4ms/step - loss: 0.0733 - val_loss: 0.0712\n",
            "Epoch 2/10\n",
            "1875/1875 [==============================] - 8s 4ms/step - loss: 0.0712 - val_loss: 0.0702\n",
            "Epoch 3/10\n",
            "1875/1875 [==============================] - 8s 4ms/step - loss: 0.0707 - val_loss: 0.0700\n",
            "Epoch 4/10\n",
            "1875/1875 [==============================] - 9s 5ms/step - loss: 0.0704 - val_loss: 0.0697\n",
            "Epoch 5/10\n",
            "1875/1875 [==============================] - 8s 4ms/step - loss: 0.0701 - val_loss: 0.0696\n",
            "Epoch 6/10\n",
            "1875/1875 [==============================] - 7s 4ms/step - loss: 0.0699 - val_loss: 0.0693\n",
            "Epoch 7/10\n",
            "1875/1875 [==============================] - 9s 5ms/step - loss: 0.0697 - val_loss: 0.0691\n",
            "Epoch 8/10\n",
            "1875/1875 [==============================] - 8s 4ms/step - loss: 0.0696 - val_loss: 0.0692\n",
            "Epoch 9/10\n",
            "1875/1875 [==============================] - 9s 5ms/step - loss: 0.0695 - val_loss: 0.0688\n",
            "Epoch 10/10\n",
            "1875/1875 [==============================] - 9s 5ms/step - loss: 0.0694 - val_loss: 0.0690\n"
          ]
        }
      ]
    },
    {
      "cell_type": "markdown",
      "source": [
        "##Images reconstruction\n",
        "Now, part of the original dataset is printed along with the noisy dataset to analyse if the stacked autoencoder successfully removed the noises."
      ],
      "metadata": {
        "id": "jJAwJwZDmd2X"
      }
    },
    {
      "cell_type": "code",
      "source": [
        "figsize(20, 5)\n",
        "for i in range(8):\n",
        "  subplot(2, 8, i+1)\n",
        "  imshow(x_test_noise[i], cmap=\"binary\")\n",
        "\n",
        "  subplot(2, 8, i+8+1)\n",
        "  pred = stacked_autoencoder.predict(x_test_noise[i].reshape((1, 28, 28)))\n",
        "  imshow(pred.reshape((28, 28)), cmap=\"binary\")"
      ],
      "metadata": {
        "colab": {
          "base_uri": "https://localhost:8080/",
          "height": 456
        },
        "id": "LUglVJyMmgKX",
        "outputId": "24d8d828-45a3-4d64-851c-2b5c770f722f"
      },
      "execution_count": 34,
      "outputs": [
        {
          "output_type": "stream",
          "name": "stdout",
          "text": [
            "1/1 [==============================] - 0s 15ms/step\n",
            "1/1 [==============================] - 0s 15ms/step\n",
            "1/1 [==============================] - 0s 16ms/step\n",
            "1/1 [==============================] - 0s 15ms/step\n",
            "1/1 [==============================] - 0s 16ms/step\n",
            "1/1 [==============================] - 0s 19ms/step\n",
            "1/1 [==============================] - 0s 19ms/step\n",
            "1/1 [==============================] - 0s 16ms/step\n"
          ]
        },
        {
          "output_type": "display_data",
          "data": {
            "text/plain": [
              "<Figure size 1440x360 with 16 Axes>"
            ],
            "image/png": "[encoded data removed]"
          },
          "metadata": {
            "needs_background": "light"
          }
        }
      ]
    },
    {
      "cell_type": "markdown",
      "source": [
        "##Third part conclusion\n",
        "Using dense neural networks with stacked autoencoders it was possivel to remove the noises inserted even when the training used the noisy dataset to train and to validate, showing the power of this tool to remove noises."
      ],
      "metadata": {
        "id": "o9Jk01ERnByi"
      }
    },
    {
      "cell_type": "code",
      "source": [],
      "metadata": {
        "id": "uXbWmtW1n1Hh"
      },
      "execution_count": null,
      "outputs": []
    }
  ]
}