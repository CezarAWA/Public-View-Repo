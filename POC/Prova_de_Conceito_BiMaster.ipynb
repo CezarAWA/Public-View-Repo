{
  "nbformat": 4,
  "nbformat_minor": 0,
  "metadata": {
    "colab": {
      "provenance": []
    },
    "kernelspec": {
      "name": "python3",
      "display_name": "Python 3"
    },
    "language_info": {
      "name": "python"
    }
  },
  "cells": [
    {
      "cell_type": "markdown",
      "source": [
        "#Prova de Conceito para Conclusão da Pós-Graduação em Business Inteligence Master na PUC-Rio"
      ],
      "metadata": {
        "id": "wrYSRMPO-6uf"
      }
    },
    {
      "cell_type": "markdown",
      "source": [
        "##Importação das Bibliotecas"
      ],
      "metadata": {
        "id": "hDByXC4E_vse"
      }
    },
    {
      "cell_type": "code",
      "source": [
        "import numpy as np\n",
        "import matplotlib.pyplot as plt\n",
        "import pandas as pd\n",
        "import os"
      ],
      "metadata": {
        "id": "rh_bEx-T_uS8"
      },
      "execution_count": 30,
      "outputs": []
    },
    {
      "cell_type": "code",
      "source": [
        "!pip install keras"
      ],
      "metadata": {
        "colab": {
          "base_uri": "https://localhost:8080/"
        },
        "id": "2jZJuEb1_zCE",
        "outputId": "93e4bc7d-52f2-4b0f-a64f-8cb06744c594"
      },
      "execution_count": 31,
      "outputs": [
        {
          "output_type": "stream",
          "name": "stdout",
          "text": [
            "Looking in indexes: https://pypi.org/simple, https://us-python.pkg.dev/colab-wheels/public/simple/\n",
            "Requirement already satisfied: keras in /usr/local/lib/python3.10/dist-packages (2.12.0)\n"
          ]
        }
      ]
    },
    {
      "cell_type": "markdown",
      "source": [
        "##Abertura do Arquivo"
      ],
      "metadata": {
        "id": "Gg9XVoEU_5Q8"
      }
    },
    {
      "cell_type": "code",
      "source": [
        "dataset_all = pd.read_csv('Bloco-DadosPOCv2.csv', encoding = 'utf-8')"
      ],
      "metadata": {
        "id": "VCGLN4jA_9P8"
      },
      "execution_count": 32,
      "outputs": []
    },
    {
      "cell_type": "code",
      "source": [
        "dataset_all.head()"
      ],
      "metadata": {
        "colab": {
          "base_uri": "https://localhost:8080/",
          "height": 403
        },
        "id": "fRNaMGwQ__I0",
        "outputId": "03d7a1e6-d095-4fa5-b3b4-220f0793d0be"
      },
      "execution_count": 33,
      "outputs": [
        {
          "output_type": "execute_result",
          "data": {
            "text/plain": [
              "    Ano        Mês  Dias do mês  Demanda máxima (kW)  Demanda Contratada (kW)  \\\n",
              "0  2010    Janeiro           31               3087.4                   3800.0   \n",
              "1  2010  Fevereiro           28               3191.0                   3800.0   \n",
              "2  2010      Março           31               3916.8                   3800.0   \n",
              "3  2010      Abril           30               3732.5                   3800.0   \n",
              "4  2010       Maio           31               3237.1                   3800.0   \n",
              "\n",
              "   Consumo Ponta (kWh)  Consumo Fora de Ponta (kWh)  \\\n",
              "0            61433.300                   874408.300   \n",
              "1            63043.200                   832833.025   \n",
              "2            97689.650                  1145070.825   \n",
              "3            84809.875                   784432.125   \n",
              "4            74067.725                   908939.525   \n",
              "\n",
              "   Tarifa de Energia Ponta (R$/MWh)  Tarifa de Energia Fora de Ponta (R$/MWh)  \\\n",
              "0                           1079.78                                    369.86   \n",
              "1                           1079.78                                    369.86   \n",
              "2                           1079.78                                    369.86   \n",
              "3                           1079.78                                    369.86   \n",
              "4                           1079.78                                    369.86   \n",
              "\n",
              "   Tarifa de Demanda Ponta e Fora de Ponta (R$/kW)  ...  \\\n",
              "0                                            12.35  ...   \n",
              "1                                            12.35  ...   \n",
              "2                                            12.35  ...   \n",
              "3                                            12.35  ...   \n",
              "4                                            12.35  ...   \n",
              "\n",
              "   Preço Contratado no ACL (R$/MWh)  PLDmed  Perdas na Rede Básica (%)  \\\n",
              "0                            202.41   12.91                          3   \n",
              "1                            202.41   13.82                          3   \n",
              "2                            202.41   27.24                          3   \n",
              "3                            202.41   21.47                          3   \n",
              "4                            202.41   32.34                          3   \n",
              "\n",
              "      Mwmed  Mwmed Contratado  PIS (%)  COFINS (%)  ICMS(%)  \\\n",
              "0  1.257852               1.6     1.65         7.6     29.0   \n",
              "1  1.333149               1.6     1.65         7.6     29.0   \n",
              "2  1.670377               1.6     1.65         7.6     29.0   \n",
              "3  1.207281               1.6     1.65         7.6     29.0   \n",
              "4  1.321246               1.6     1.65         7.6     29.0   \n",
              "\n",
              "   Flexibilidade do Contrato Inferior  Flexibilidade do Contrato Superior  \n",
              "0                                 0.6                                 1.3  \n",
              "1                                 0.6                                 1.3  \n",
              "2                                 0.6                                 1.3  \n",
              "3                                 0.6                                 1.3  \n",
              "4                                 0.6                                 1.3  \n",
              "\n",
              "[5 rows x 26 columns]"
            ],
            "text/html": [
              "\n",
              "  <div id=\"df-047fb141-347e-4860-98d3-0515498a338b\">\n",
              "    <div class=\"colab-df-container\">\n",
              "      <div>\n",
              "<style scoped>\n",
              "    .dataframe tbody tr th:only-of-type {\n",
              "        vertical-align: middle;\n",
              "    }\n",
              "\n",
              "    .dataframe tbody tr th {\n",
              "        vertical-align: top;\n",
              "    }\n",
              "\n",
              "    .dataframe thead th {\n",
              "        text-align: right;\n",
              "    }\n",
              "</style>\n",
              "<table border=\"1\" class=\"dataframe\">\n",
              "  <thead>\n",
              "    <tr style=\"text-align: right;\">\n",
              "      <th></th>\n",
              "      <th>Ano</th>\n",
              "      <th>Mês</th>\n",
              "      <th>Dias do mês</th>\n",
              "      <th>Demanda máxima (kW)</th>\n",
              "      <th>Demanda Contratada (kW)</th>\n",
              "      <th>Consumo Ponta (kWh)</th>\n",
              "      <th>Consumo Fora de Ponta (kWh)</th>\n",
              "      <th>Tarifa de Energia Ponta (R$/MWh)</th>\n",
              "      <th>Tarifa de Energia Fora de Ponta (R$/MWh)</th>\n",
              "      <th>Tarifa de Demanda Ponta e Fora de Ponta (R$/kW)</th>\n",
              "      <th>...</th>\n",
              "      <th>Preço Contratado no ACL (R$/MWh)</th>\n",
              "      <th>PLDmed</th>\n",
              "      <th>Perdas na Rede Básica (%)</th>\n",
              "      <th>Mwmed</th>\n",
              "      <th>Mwmed Contratado</th>\n",
              "      <th>PIS (%)</th>\n",
              "      <th>COFINS (%)</th>\n",
              "      <th>ICMS(%)</th>\n",
              "      <th>Flexibilidade do Contrato Inferior</th>\n",
              "      <th>Flexibilidade do Contrato Superior</th>\n",
              "    </tr>\n",
              "  </thead>\n",
              "  <tbody>\n",
              "    <tr>\n",
              "      <th>0</th>\n",
              "      <td>2010</td>\n",
              "      <td>Janeiro</td>\n",
              "      <td>31</td>\n",
              "      <td>3087.4</td>\n",
              "      <td>3800.0</td>\n",
              "      <td>61433.300</td>\n",
              "      <td>874408.300</td>\n",
              "      <td>1079.78</td>\n",
              "      <td>369.86</td>\n",
              "      <td>12.35</td>\n",
              "      <td>...</td>\n",
              "      <td>202.41</td>\n",
              "      <td>12.91</td>\n",
              "      <td>3</td>\n",
              "      <td>1.257852</td>\n",
              "      <td>1.6</td>\n",
              "      <td>1.65</td>\n",
              "      <td>7.6</td>\n",
              "      <td>29.0</td>\n",
              "      <td>0.6</td>\n",
              "      <td>1.3</td>\n",
              "    </tr>\n",
              "    <tr>\n",
              "      <th>1</th>\n",
              "      <td>2010</td>\n",
              "      <td>Fevereiro</td>\n",
              "      <td>28</td>\n",
              "      <td>3191.0</td>\n",
              "      <td>3800.0</td>\n",
              "      <td>63043.200</td>\n",
              "      <td>832833.025</td>\n",
              "      <td>1079.78</td>\n",
              "      <td>369.86</td>\n",
              "      <td>12.35</td>\n",
              "      <td>...</td>\n",
              "      <td>202.41</td>\n",
              "      <td>13.82</td>\n",
              "      <td>3</td>\n",
              "      <td>1.333149</td>\n",
              "      <td>1.6</td>\n",
              "      <td>1.65</td>\n",
              "      <td>7.6</td>\n",
              "      <td>29.0</td>\n",
              "      <td>0.6</td>\n",
              "      <td>1.3</td>\n",
              "    </tr>\n",
              "    <tr>\n",
              "      <th>2</th>\n",
              "      <td>2010</td>\n",
              "      <td>Março</td>\n",
              "      <td>31</td>\n",
              "      <td>3916.8</td>\n",
              "      <td>3800.0</td>\n",
              "      <td>97689.650</td>\n",
              "      <td>1145070.825</td>\n",
              "      <td>1079.78</td>\n",
              "      <td>369.86</td>\n",
              "      <td>12.35</td>\n",
              "      <td>...</td>\n",
              "      <td>202.41</td>\n",
              "      <td>27.24</td>\n",
              "      <td>3</td>\n",
              "      <td>1.670377</td>\n",
              "      <td>1.6</td>\n",
              "      <td>1.65</td>\n",
              "      <td>7.6</td>\n",
              "      <td>29.0</td>\n",
              "      <td>0.6</td>\n",
              "      <td>1.3</td>\n",
              "    </tr>\n",
              "    <tr>\n",
              "      <th>3</th>\n",
              "      <td>2010</td>\n",
              "      <td>Abril</td>\n",
              "      <td>30</td>\n",
              "      <td>3732.5</td>\n",
              "      <td>3800.0</td>\n",
              "      <td>84809.875</td>\n",
              "      <td>784432.125</td>\n",
              "      <td>1079.78</td>\n",
              "      <td>369.86</td>\n",
              "      <td>12.35</td>\n",
              "      <td>...</td>\n",
              "      <td>202.41</td>\n",
              "      <td>21.47</td>\n",
              "      <td>3</td>\n",
              "      <td>1.207281</td>\n",
              "      <td>1.6</td>\n",
              "      <td>1.65</td>\n",
              "      <td>7.6</td>\n",
              "      <td>29.0</td>\n",
              "      <td>0.6</td>\n",
              "      <td>1.3</td>\n",
              "    </tr>\n",
              "    <tr>\n",
              "      <th>4</th>\n",
              "      <td>2010</td>\n",
              "      <td>Maio</td>\n",
              "      <td>31</td>\n",
              "      <td>3237.1</td>\n",
              "      <td>3800.0</td>\n",
              "      <td>74067.725</td>\n",
              "      <td>908939.525</td>\n",
              "      <td>1079.78</td>\n",
              "      <td>369.86</td>\n",
              "      <td>12.35</td>\n",
              "      <td>...</td>\n",
              "      <td>202.41</td>\n",
              "      <td>32.34</td>\n",
              "      <td>3</td>\n",
              "      <td>1.321246</td>\n",
              "      <td>1.6</td>\n",
              "      <td>1.65</td>\n",
              "      <td>7.6</td>\n",
              "      <td>29.0</td>\n",
              "      <td>0.6</td>\n",
              "      <td>1.3</td>\n",
              "    </tr>\n",
              "  </tbody>\n",
              "</table>\n",
              "<p>5 rows × 26 columns</p>\n",
              "</div>\n",
              "      <button class=\"colab-df-convert\" onclick=\"convertToInteractive('df-047fb141-347e-4860-98d3-0515498a338b')\"\n",
              "              title=\"Convert this dataframe to an interactive table.\"\n",
              "              style=\"display:none;\">\n",
              "        \n",
              "  <svg xmlns=\"http://www.w3.org/2000/svg\" height=\"24px\"viewBox=\"0 0 24 24\"\n",
              "       width=\"24px\">\n",
              "    <path d=\"M0 0h24v24H0V0z\" fill=\"none\"/>\n",
              "    <path d=\"M18.56 5.44l.94 2.06.94-2.06 2.06-.94-2.06-.94-.94-2.06-.94 2.06-2.06.94zm-11 1L8.5 8.5l.94-2.06 2.06-.94-2.06-.94L8.5 2.5l-.94 2.06-2.06.94zm10 10l.94 2.06.94-2.06 2.06-.94-2.06-.94-.94-2.06-.94 2.06-2.06.94z\"/><path d=\"M17.41 7.96l-1.37-1.37c-.4-.4-.92-.59-1.43-.59-.52 0-1.04.2-1.43.59L10.3 9.45l-7.72 7.72c-.78.78-.78 2.05 0 2.83L4 21.41c.39.39.9.59 1.41.59.51 0 1.02-.2 1.41-.59l7.78-7.78 2.81-2.81c.8-.78.8-2.07 0-2.86zM5.41 20L4 18.59l7.72-7.72 1.47 1.35L5.41 20z\"/>\n",
              "  </svg>\n",
              "      </button>\n",
              "      \n",
              "  <style>\n",
              "    .colab-df-container {\n",
              "      display:flex;\n",
              "      flex-wrap:wrap;\n",
              "      gap: 12px;\n",
              "    }\n",
              "\n",
              "    .colab-df-convert {\n",
              "      background-color: #E8F0FE;\n",
              "      border: none;\n",
              "      border-radius: 50%;\n",
              "      cursor: pointer;\n",
              "      display: none;\n",
              "      fill: #1967D2;\n",
              "      height: 32px;\n",
              "      padding: 0 0 0 0;\n",
              "      width: 32px;\n",
              "    }\n",
              "\n",
              "    .colab-df-convert:hover {\n",
              "      background-color: #E2EBFA;\n",
              "      box-shadow: 0px 1px 2px rgba(60, 64, 67, 0.3), 0px 1px 3px 1px rgba(60, 64, 67, 0.15);\n",
              "      fill: #174EA6;\n",
              "    }\n",
              "\n",
              "    [theme=dark] .colab-df-convert {\n",
              "      background-color: #3B4455;\n",
              "      fill: #D2E3FC;\n",
              "    }\n",
              "\n",
              "    [theme=dark] .colab-df-convert:hover {\n",
              "      background-color: #434B5C;\n",
              "      box-shadow: 0px 1px 3px 1px rgba(0, 0, 0, 0.15);\n",
              "      filter: drop-shadow(0px 1px 2px rgba(0, 0, 0, 0.3));\n",
              "      fill: #FFFFFF;\n",
              "    }\n",
              "  </style>\n",
              "\n",
              "      <script>\n",
              "        const buttonEl =\n",
              "          document.querySelector('#df-047fb141-347e-4860-98d3-0515498a338b button.colab-df-convert');\n",
              "        buttonEl.style.display =\n",
              "          google.colab.kernel.accessAllowed ? 'block' : 'none';\n",
              "\n",
              "        async function convertToInteractive(key) {\n",
              "          const element = document.querySelector('#df-047fb141-347e-4860-98d3-0515498a338b');\n",
              "          const dataTable =\n",
              "            await google.colab.kernel.invokeFunction('convertToInteractive',\n",
              "                                                     [key], {});\n",
              "          if (!dataTable) return;\n",
              "\n",
              "          const docLinkHtml = 'Like what you see? Visit the ' +\n",
              "            '<a target=\"_blank\" href=https://colab.research.google.com/notebooks/data_table.ipynb>data table notebook</a>'\n",
              "            + ' to learn more about interactive tables.';\n",
              "          element.innerHTML = '';\n",
              "          dataTable['output_type'] = 'display_data';\n",
              "          await google.colab.output.renderOutput(dataTable, element);\n",
              "          const docLink = document.createElement('div');\n",
              "          docLink.innerHTML = docLinkHtml;\n",
              "          element.appendChild(docLink);\n",
              "        }\n",
              "      </script>\n",
              "    </div>\n",
              "  </div>\n",
              "  "
            ]
          },
          "metadata": {},
          "execution_count": 33
        }
      ]
    },
    {
      "cell_type": "markdown",
      "source": [
        "#Processamento de Dados para a Previsão da Demanda Máxima"
      ],
      "metadata": {
        "id": "UWq463A6VK_g"
      }
    },
    {
      "cell_type": "markdown",
      "source": [
        "##Dados de Consumo e Demanda a Serem Utilizados"
      ],
      "metadata": {
        "id": "Q1RC_c7YVosW"
      }
    },
    {
      "cell_type": "code",
      "source": [
        "dataset_consume_demand = dataset_all.iloc[:,3:7]"
      ],
      "metadata": {
        "id": "6CmCG9dNaXxO"
      },
      "execution_count": 34,
      "outputs": []
    },
    {
      "cell_type": "code",
      "source": [
        "dataset_consume_demand.head()"
      ],
      "metadata": {
        "colab": {
          "base_uri": "https://localhost:8080/",
          "height": 206
        },
        "id": "Jf2JKhdNcsc_",
        "outputId": "d6092523-b6e5-46b8-87de-ccd8458339db"
      },
      "execution_count": 35,
      "outputs": [
        {
          "output_type": "execute_result",
          "data": {
            "text/plain": [
              "   Demanda máxima (kW)  Demanda Contratada (kW)  Consumo Ponta (kWh)  \\\n",
              "0               3087.4                   3800.0            61433.300   \n",
              "1               3191.0                   3800.0            63043.200   \n",
              "2               3916.8                   3800.0            97689.650   \n",
              "3               3732.5                   3800.0            84809.875   \n",
              "4               3237.1                   3800.0            74067.725   \n",
              "\n",
              "   Consumo Fora de Ponta (kWh)  \n",
              "0                   874408.300  \n",
              "1                   832833.025  \n",
              "2                  1145070.825  \n",
              "3                   784432.125  \n",
              "4                   908939.525  "
            ],
            "text/html": [
              "\n",
              "  <div id=\"df-c65e02bf-623e-431c-9b50-d7ee1ef3799d\">\n",
              "    <div class=\"colab-df-container\">\n",
              "      <div>\n",
              "<style scoped>\n",
              "    .dataframe tbody tr th:only-of-type {\n",
              "        vertical-align: middle;\n",
              "    }\n",
              "\n",
              "    .dataframe tbody tr th {\n",
              "        vertical-align: top;\n",
              "    }\n",
              "\n",
              "    .dataframe thead th {\n",
              "        text-align: right;\n",
              "    }\n",
              "</style>\n",
              "<table border=\"1\" class=\"dataframe\">\n",
              "  <thead>\n",
              "    <tr style=\"text-align: right;\">\n",
              "      <th></th>\n",
              "      <th>Demanda máxima (kW)</th>\n",
              "      <th>Demanda Contratada (kW)</th>\n",
              "      <th>Consumo Ponta (kWh)</th>\n",
              "      <th>Consumo Fora de Ponta (kWh)</th>\n",
              "    </tr>\n",
              "  </thead>\n",
              "  <tbody>\n",
              "    <tr>\n",
              "      <th>0</th>\n",
              "      <td>3087.4</td>\n",
              "      <td>3800.0</td>\n",
              "      <td>61433.300</td>\n",
              "      <td>874408.300</td>\n",
              "    </tr>\n",
              "    <tr>\n",
              "      <th>1</th>\n",
              "      <td>3191.0</td>\n",
              "      <td>3800.0</td>\n",
              "      <td>63043.200</td>\n",
              "      <td>832833.025</td>\n",
              "    </tr>\n",
              "    <tr>\n",
              "      <th>2</th>\n",
              "      <td>3916.8</td>\n",
              "      <td>3800.0</td>\n",
              "      <td>97689.650</td>\n",
              "      <td>1145070.825</td>\n",
              "    </tr>\n",
              "    <tr>\n",
              "      <th>3</th>\n",
              "      <td>3732.5</td>\n",
              "      <td>3800.0</td>\n",
              "      <td>84809.875</td>\n",
              "      <td>784432.125</td>\n",
              "    </tr>\n",
              "    <tr>\n",
              "      <th>4</th>\n",
              "      <td>3237.1</td>\n",
              "      <td>3800.0</td>\n",
              "      <td>74067.725</td>\n",
              "      <td>908939.525</td>\n",
              "    </tr>\n",
              "  </tbody>\n",
              "</table>\n",
              "</div>\n",
              "      <button class=\"colab-df-convert\" onclick=\"convertToInteractive('df-c65e02bf-623e-431c-9b50-d7ee1ef3799d')\"\n",
              "              title=\"Convert this dataframe to an interactive table.\"\n",
              "              style=\"display:none;\">\n",
              "        \n",
              "  <svg xmlns=\"http://www.w3.org/2000/svg\" height=\"24px\"viewBox=\"0 0 24 24\"\n",
              "       width=\"24px\">\n",
              "    <path d=\"M0 0h24v24H0V0z\" fill=\"none\"/>\n",
              "    <path d=\"M18.56 5.44l.94 2.06.94-2.06 2.06-.94-2.06-.94-.94-2.06-.94 2.06-2.06.94zm-11 1L8.5 8.5l.94-2.06 2.06-.94-2.06-.94L8.5 2.5l-.94 2.06-2.06.94zm10 10l.94 2.06.94-2.06 2.06-.94-2.06-.94-.94-2.06-.94 2.06-2.06.94z\"/><path d=\"M17.41 7.96l-1.37-1.37c-.4-.4-.92-.59-1.43-.59-.52 0-1.04.2-1.43.59L10.3 9.45l-7.72 7.72c-.78.78-.78 2.05 0 2.83L4 21.41c.39.39.9.59 1.41.59.51 0 1.02-.2 1.41-.59l7.78-7.78 2.81-2.81c.8-.78.8-2.07 0-2.86zM5.41 20L4 18.59l7.72-7.72 1.47 1.35L5.41 20z\"/>\n",
              "  </svg>\n",
              "      </button>\n",
              "      \n",
              "  <style>\n",
              "    .colab-df-container {\n",
              "      display:flex;\n",
              "      flex-wrap:wrap;\n",
              "      gap: 12px;\n",
              "    }\n",
              "\n",
              "    .colab-df-convert {\n",
              "      background-color: #E8F0FE;\n",
              "      border: none;\n",
              "      border-radius: 50%;\n",
              "      cursor: pointer;\n",
              "      display: none;\n",
              "      fill: #1967D2;\n",
              "      height: 32px;\n",
              "      padding: 0 0 0 0;\n",
              "      width: 32px;\n",
              "    }\n",
              "\n",
              "    .colab-df-convert:hover {\n",
              "      background-color: #E2EBFA;\n",
              "      box-shadow: 0px 1px 2px rgba(60, 64, 67, 0.3), 0px 1px 3px 1px rgba(60, 64, 67, 0.15);\n",
              "      fill: #174EA6;\n",
              "    }\n",
              "\n",
              "    [theme=dark] .colab-df-convert {\n",
              "      background-color: #3B4455;\n",
              "      fill: #D2E3FC;\n",
              "    }\n",
              "\n",
              "    [theme=dark] .colab-df-convert:hover {\n",
              "      background-color: #434B5C;\n",
              "      box-shadow: 0px 1px 3px 1px rgba(0, 0, 0, 0.15);\n",
              "      filter: drop-shadow(0px 1px 2px rgba(0, 0, 0, 0.3));\n",
              "      fill: #FFFFFF;\n",
              "    }\n",
              "  </style>\n",
              "\n",
              "      <script>\n",
              "        const buttonEl =\n",
              "          document.querySelector('#df-c65e02bf-623e-431c-9b50-d7ee1ef3799d button.colab-df-convert');\n",
              "        buttonEl.style.display =\n",
              "          google.colab.kernel.accessAllowed ? 'block' : 'none';\n",
              "\n",
              "        async function convertToInteractive(key) {\n",
              "          const element = document.querySelector('#df-c65e02bf-623e-431c-9b50-d7ee1ef3799d');\n",
              "          const dataTable =\n",
              "            await google.colab.kernel.invokeFunction('convertToInteractive',\n",
              "                                                     [key], {});\n",
              "          if (!dataTable) return;\n",
              "\n",
              "          const docLinkHtml = 'Like what you see? Visit the ' +\n",
              "            '<a target=\"_blank\" href=https://colab.research.google.com/notebooks/data_table.ipynb>data table notebook</a>'\n",
              "            + ' to learn more about interactive tables.';\n",
              "          element.innerHTML = '';\n",
              "          dataTable['output_type'] = 'display_data';\n",
              "          await google.colab.output.renderOutput(dataTable, element);\n",
              "          const docLink = document.createElement('div');\n",
              "          docLink.innerHTML = docLinkHtml;\n",
              "          element.appendChild(docLink);\n",
              "        }\n",
              "      </script>\n",
              "    </div>\n",
              "  </div>\n",
              "  "
            ]
          },
          "metadata": {},
          "execution_count": 35
        }
      ]
    },
    {
      "cell_type": "code",
      "source": [
        "len(dataset_consume_demand)"
      ],
      "metadata": {
        "colab": {
          "base_uri": "https://localhost:8080/"
        },
        "id": "CCJlwnvLdC53",
        "outputId": "688be2df-07dc-4c81-e8d3-def9360b79a7"
      },
      "execution_count": 36,
      "outputs": [
        {
          "output_type": "execute_result",
          "data": {
            "text/plain": [
              "48"
            ]
          },
          "metadata": {},
          "execution_count": 36
        }
      ]
    },
    {
      "cell_type": "markdown",
      "source": [
        "##Dados de Treinamento - Demanda Máxima"
      ],
      "metadata": {
        "id": "KgAbsdsUViMO"
      }
    },
    {
      "cell_type": "code",
      "source": [
        "max_demand_training_set = dataset_consume_demand.iloc[:42,:1].values"
      ],
      "metadata": {
        "id": "S2jRUMW8eHoX"
      },
      "execution_count": 37,
      "outputs": []
    },
    {
      "cell_type": "code",
      "source": [
        "max_demand_training_set"
      ],
      "metadata": {
        "colab": {
          "base_uri": "https://localhost:8080/"
        },
        "id": "aTx1Xl8vfcBw",
        "outputId": "8bafa01e-927d-4789-da11-4e5054b22db2"
      },
      "execution_count": 38,
      "outputs": [
        {
          "output_type": "execute_result",
          "data": {
            "text/plain": [
              "array([[3087.4],\n",
              "       [3191. ],\n",
              "       [3916.8],\n",
              "       [3732.5],\n",
              "       [3237.1],\n",
              "       [2603.5],\n",
              "       [2499.8],\n",
              "       [3156.5],\n",
              "       [3098.9],\n",
              "       [3018.2],\n",
              "       [2764.8],\n",
              "       [3467.5],\n",
              "       [2741.8],\n",
              "       [3582.7],\n",
              "       [3559.7],\n",
              "       [3721. ],\n",
              "       [3075.8],\n",
              "       [2603.5],\n",
              "       [2188.8],\n",
              "       [3363.8],\n",
              "       [2672.6],\n",
              "       [3363.8],\n",
              "       [3617.3],\n",
              "       [3225.6],\n",
              "       [2753.3],\n",
              "       [3145. ],\n",
              "       [3997.4],\n",
              "       [3409.9],\n",
              "       [3317.8],\n",
              "       [2903. ],\n",
              "       [2281. ],\n",
              "       [3317.8],\n",
              "       [3421.4],\n",
              "       [3525.1],\n",
              "       [3944.6],\n",
              "       [3696. ],\n",
              "       [3393. ],\n",
              "       [3024. ],\n",
              "       [3581.8],\n",
              "       [4247. ],\n",
              "       [3924.5],\n",
              "       [3521.3]])"
            ]
          },
          "metadata": {},
          "execution_count": 38
        }
      ]
    },
    {
      "cell_type": "markdown",
      "source": [
        "##Gráfico da Série Temporal - Demanda Máxima"
      ],
      "metadata": {
        "id": "_qJ0NPPwVVPF"
      }
    },
    {
      "cell_type": "code",
      "source": [
        "plt.plot(max_demand_training_set)\n",
        "plt.xlabel(\"Meses\")\n",
        "plt.ylabel(\"Kilowatts\")\n",
        "plt.title(\"Demanda Máxima\")\n",
        "plt.show()"
      ],
      "metadata": {
        "colab": {
          "base_uri": "https://localhost:8080/",
          "height": 472
        },
        "id": "n-Vq4ddhgkne",
        "outputId": "1d8fa05c-57d5-4d11-8f3e-c6c80020a031"
      },
      "execution_count": 39,
      "outputs": [
        {
          "output_type": "display_data",
          "data": {
            "text/plain": [
              "<Figure size 640x480 with 1 Axes>"
            ],
            "image/png": "[encoded data removed]"
          },
          "metadata": {}
        }
      ]
    },
    {
      "cell_type": "markdown",
      "source": [
        "##Normalização - Demanda Máxima"
      ],
      "metadata": {
        "id": "W6LI9UpXVyoG"
      }
    },
    {
      "cell_type": "code",
      "source": [
        "from sklearn.preprocessing import MinMaxScaler\n",
        "sc = MinMaxScaler(feature_range = (0, 1))\n",
        "max_demand_training_set_scaled = sc.fit_transform(max_demand_training_set)"
      ],
      "metadata": {
        "id": "L4vYOASnh0l7"
      },
      "execution_count": 40,
      "outputs": []
    },
    {
      "cell_type": "markdown",
      "source": [
        "##Criação da Estrutura de Dados - Demanda Máxima"
      ],
      "metadata": {
        "id": "bgYn3-WMV2XO"
      }
    },
    {
      "cell_type": "code",
      "source": [
        "window = 10\n",
        "trainSize = len(max_demand_training_set_scaled)\n",
        "horizon = 10\n",
        "max_demand_X_train = []\n",
        "max_demand_y_train = []\n",
        "for i in range(window, trainSize-horizon):\n",
        "    max_demand_X_train.append(max_demand_training_set_scaled[i-window:i, 0])\n",
        "    max_demand_y_train.append(max_demand_training_set_scaled[i:i+window, 0])\n",
        "max_demand_X_train, max_demand_y_train = np.array(max_demand_X_train), np.array(max_demand_y_train)"
      ],
      "metadata": {
        "id": "cB2XlehwpG0a"
      },
      "execution_count": 41,
      "outputs": []
    },
    {
      "cell_type": "markdown",
      "source": [
        "##Reshaping - Demanda Máxima"
      ],
      "metadata": {
        "id": "1xKewskzV-R3"
      }
    },
    {
      "cell_type": "code",
      "source": [
        "max_demand_X_train.shape"
      ],
      "metadata": {
        "colab": {
          "base_uri": "https://localhost:8080/"
        },
        "id": "eNq-QumspjIP",
        "outputId": "616448ab-e9bc-4d92-9e28-a5c7c1f27724"
      },
      "execution_count": 42,
      "outputs": [
        {
          "output_type": "execute_result",
          "data": {
            "text/plain": [
              "(22, 10)"
            ]
          },
          "metadata": {},
          "execution_count": 42
        }
      ]
    },
    {
      "cell_type": "code",
      "source": [
        "max_demand_y_train.shape"
      ],
      "metadata": {
        "colab": {
          "base_uri": "https://localhost:8080/"
        },
        "id": "xUKZecinNFsG",
        "outputId": "04eeeb93-33d4-4583-d2c6-dcd76c890ed6"
      },
      "execution_count": 43,
      "outputs": [
        {
          "output_type": "execute_result",
          "data": {
            "text/plain": [
              "(22, 10)"
            ]
          },
          "metadata": {},
          "execution_count": 43
        }
      ]
    },
    {
      "cell_type": "code",
      "source": [
        "max_demand_X_train = np.reshape(max_demand_X_train, (max_demand_X_train.shape[0], max_demand_X_train.shape[1], 1))"
      ],
      "metadata": {
        "id": "oW1Qda2Rp1rn"
      },
      "execution_count": 44,
      "outputs": []
    },
    {
      "cell_type": "code",
      "source": [
        "max_demand_X_train.shape"
      ],
      "metadata": {
        "colab": {
          "base_uri": "https://localhost:8080/"
        },
        "id": "cx5OXNO0qXEg",
        "outputId": "472bf9e1-0bea-4554-aa25-0f232ef6e512"
      },
      "execution_count": 45,
      "outputs": [
        {
          "output_type": "execute_result",
          "data": {
            "text/plain": [
              "(22, 10, 1)"
            ]
          },
          "metadata": {},
          "execution_count": 45
        }
      ]
    },
    {
      "cell_type": "code",
      "source": [
        "max_demand_y_train = np.reshape(max_demand_y_train, (max_demand_y_train.shape[0], max_demand_y_train.shape[1], 1))"
      ],
      "metadata": {
        "id": "44LdK4caPuRj"
      },
      "execution_count": 46,
      "outputs": []
    },
    {
      "cell_type": "code",
      "source": [
        "max_demand_y_train.shape"
      ],
      "metadata": {
        "colab": {
          "base_uri": "https://localhost:8080/"
        },
        "id": "1MhAGDVIQ4Nd",
        "outputId": "8cab9f20-56b5-47c4-d406-95103b675073"
      },
      "execution_count": 47,
      "outputs": [
        {
          "output_type": "execute_result",
          "data": {
            "text/plain": [
              "(22, 10, 1)"
            ]
          },
          "metadata": {},
          "execution_count": 47
        }
      ]
    },
    {
      "cell_type": "markdown",
      "source": [
        "#Construção da RNN - Demanda Máxima"
      ],
      "metadata": {
        "id": "KPVOEvSOWKDN"
      }
    },
    {
      "cell_type": "markdown",
      "source": [
        "##Importação das Bibliotecas"
      ],
      "metadata": {
        "id": "yUvGgd2nWUD1"
      }
    },
    {
      "cell_type": "code",
      "source": [
        "from keras.models import Sequential\n",
        "from keras.layers import Dense\n",
        "from keras.layers import LSTM\n",
        "from keras.layers import Dropout"
      ],
      "metadata": {
        "id": "8dnS4hglqZ6H"
      },
      "execution_count": 48,
      "outputs": []
    },
    {
      "cell_type": "markdown",
      "source": [
        "##Construção da Rede Completa"
      ],
      "metadata": {
        "id": "LyavvRDiWaOu"
      }
    },
    {
      "cell_type": "code",
      "source": [
        "# Inicializar a RNN\n",
        "regressor = Sequential()\n",
        "\n",
        "# Adicionar a primeira camada LSTM e Dropout \n",
        "regressor.add(LSTM(units = 100, return_sequences = True, input_shape = (max_demand_X_train.shape[1], 1)))\n",
        " \n",
        "# Adicionar a segunda camada LSTM e Dropout\n",
        "regressor.add(LSTM(units = 20))\n",
        "regressor.add(Dropout(0.3))\n",
        " \n",
        "# camada de saída\n",
        "regressor.add(Dense(units = 1))\n",
        " \n",
        "# Compilar a rede\n",
        "regressor.compile(optimizer = 'adam', loss = 'mean_squared_error')\n",
        "\n",
        "# Visualizar a rede\n",
        "regressor.summary()"
      ],
      "metadata": {
        "colab": {
          "base_uri": "https://localhost:8080/"
        },
        "id": "eu_ETRQ3qv4_",
        "outputId": "e81f1c1a-032e-4c4d-e18f-ce963d7b37f5"
      },
      "execution_count": 60,
      "outputs": [
        {
          "output_type": "stream",
          "name": "stdout",
          "text": [
            "Model: \"sequential_3\"\n",
            "_________________________________________________________________\n",
            " Layer (type)                Output Shape              Param #   \n",
            "=================================================================\n",
            " lstm_6 (LSTM)               (None, 10, 100)           40800     \n",
            "                                                                 \n",
            " lstm_7 (LSTM)               (None, 20)                9680      \n",
            "                                                                 \n",
            " dropout_3 (Dropout)         (None, 20)                0         \n",
            "                                                                 \n",
            " dense_3 (Dense)             (None, 1)                 21        \n",
            "                                                                 \n",
            "=================================================================\n",
            "Total params: 50,501\n",
            "Trainable params: 50,501\n",
            "Non-trainable params: 0\n",
            "_________________________________________________________________\n"
          ]
        }
      ]
    },
    {
      "cell_type": "markdown",
      "source": [
        "##Treinamento"
      ],
      "metadata": {
        "id": "gY6PwdnaWeNd"
      }
    },
    {
      "cell_type": "code",
      "source": [
        "regressor.fit(max_demand_X_train, max_demand_y_train, epochs = 200, batch_size = 7)"
      ],
      "metadata": {
        "colab": {
          "base_uri": "https://localhost:8080/"
        },
        "id": "YN2wvWrtrCq4",
        "outputId": "ee76cea3-144f-4083-d365-3a71e6b4c0ba"
      },
      "execution_count": 61,
      "outputs": [
        {
          "output_type": "stream",
          "name": "stdout",
          "text": [
            "Epoch 1/200\n",
            "4/4 [==============================] - 3s 10ms/step - loss: 0.2867\n",
            "Epoch 2/200\n",
            "4/4 [==============================] - 0s 10ms/step - loss: 0.1705\n",
            "Epoch 3/200\n",
            "4/4 [==============================] - 0s 10ms/step - loss: 0.0780\n",
            "Epoch 4/200\n",
            "4/4 [==============================] - 0s 10ms/step - loss: 0.0658\n",
            "Epoch 5/200\n",
            "4/4 [==============================] - 0s 9ms/step - loss: 0.0719\n",
            "Epoch 6/200\n",
            "4/4 [==============================] - 0s 9ms/step - loss: 0.0619\n",
            "Epoch 7/200\n",
            "4/4 [==============================] - 0s 12ms/step - loss: 0.0603\n",
            "Epoch 8/200\n",
            "4/4 [==============================] - 0s 13ms/step - loss: 0.0675\n",
            "Epoch 9/200\n",
            "4/4 [==============================] - 0s 11ms/step - loss: 0.0633\n",
            "Epoch 10/200\n",
            "4/4 [==============================] - 0s 11ms/step - loss: 0.0613\n",
            "Epoch 11/200\n",
            "4/4 [==============================] - 0s 11ms/step - loss: 0.0632\n",
            "Epoch 12/200\n",
            "4/4 [==============================] - 0s 11ms/step - loss: 0.0618\n",
            "Epoch 13/200\n",
            "4/4 [==============================] - 0s 11ms/step - loss: 0.0641\n",
            "Epoch 14/200\n",
            "4/4 [==============================] - 0s 12ms/step - loss: 0.0578\n",
            "Epoch 15/200\n",
            "4/4 [==============================] - 0s 10ms/step - loss: 0.0547\n",
            "Epoch 16/200\n",
            "4/4 [==============================] - 0s 11ms/step - loss: 0.0655\n",
            "Epoch 17/200\n",
            "4/4 [==============================] - 0s 11ms/step - loss: 0.0585\n",
            "Epoch 18/200\n",
            "4/4 [==============================] - 0s 9ms/step - loss: 0.0580\n",
            "Epoch 19/200\n",
            "4/4 [==============================] - 0s 8ms/step - loss: 0.0607\n",
            "Epoch 20/200\n",
            "4/4 [==============================] - 0s 8ms/step - loss: 0.0598\n",
            "Epoch 21/200\n",
            "4/4 [==============================] - 0s 10ms/step - loss: 0.0588\n",
            "Epoch 22/200\n",
            "4/4 [==============================] - 0s 8ms/step - loss: 0.0632\n",
            "Epoch 23/200\n",
            "4/4 [==============================] - 0s 8ms/step - loss: 0.0603\n",
            "Epoch 24/200\n",
            "4/4 [==============================] - 0s 8ms/step - loss: 0.0627\n",
            "Epoch 25/200\n",
            "4/4 [==============================] - 0s 7ms/step - loss: 0.0614\n",
            "Epoch 26/200\n",
            "4/4 [==============================] - 0s 8ms/step - loss: 0.0550\n",
            "Epoch 27/200\n",
            "4/4 [==============================] - 0s 7ms/step - loss: 0.0561\n",
            "Epoch 28/200\n",
            "4/4 [==============================] - 0s 8ms/step - loss: 0.0587\n",
            "Epoch 29/200\n",
            "4/4 [==============================] - 0s 7ms/step - loss: 0.0607\n",
            "Epoch 30/200\n",
            "4/4 [==============================] - 0s 8ms/step - loss: 0.0602\n",
            "Epoch 31/200\n",
            "4/4 [==============================] - 0s 7ms/step - loss: 0.0635\n",
            "Epoch 32/200\n",
            "4/4 [==============================] - 0s 10ms/step - loss: 0.0595\n",
            "Epoch 33/200\n",
            "4/4 [==============================] - 0s 8ms/step - loss: 0.0589\n",
            "Epoch 34/200\n",
            "4/4 [==============================] - 0s 8ms/step - loss: 0.0540\n",
            "Epoch 35/200\n",
            "4/4 [==============================] - 0s 9ms/step - loss: 0.0632\n",
            "Epoch 36/200\n",
            "4/4 [==============================] - 0s 10ms/step - loss: 0.0602\n",
            "Epoch 37/200\n",
            "4/4 [==============================] - 0s 8ms/step - loss: 0.0628\n",
            "Epoch 38/200\n",
            "4/4 [==============================] - 0s 10ms/step - loss: 0.0568\n",
            "Epoch 39/200\n",
            "4/4 [==============================] - 0s 9ms/step - loss: 0.0569\n",
            "Epoch 40/200\n",
            "4/4 [==============================] - 0s 9ms/step - loss: 0.0642\n",
            "Epoch 41/200\n",
            "4/4 [==============================] - 0s 9ms/step - loss: 0.0647\n",
            "Epoch 42/200\n",
            "4/4 [==============================] - 0s 9ms/step - loss: 0.0624\n",
            "Epoch 43/200\n",
            "4/4 [==============================] - 0s 10ms/step - loss: 0.0546\n",
            "Epoch 44/200\n",
            "4/4 [==============================] - 0s 10ms/step - loss: 0.0630\n",
            "Epoch 45/200\n",
            "4/4 [==============================] - 0s 8ms/step - loss: 0.0611\n",
            "Epoch 46/200\n",
            "4/4 [==============================] - 0s 8ms/step - loss: 0.0604\n",
            "Epoch 47/200\n",
            "4/4 [==============================] - 0s 9ms/step - loss: 0.0628\n",
            "Epoch 48/200\n",
            "4/4 [==============================] - 0s 10ms/step - loss: 0.0601\n",
            "Epoch 49/200\n",
            "4/4 [==============================] - 0s 8ms/step - loss: 0.0594\n",
            "Epoch 50/200\n",
            "4/4 [==============================] - 0s 8ms/step - loss: 0.0561\n",
            "Epoch 51/200\n",
            "4/4 [==============================] - 0s 7ms/step - loss: 0.0579\n",
            "Epoch 52/200\n",
            "4/4 [==============================] - 0s 9ms/step - loss: 0.0566\n",
            "Epoch 53/200\n",
            "4/4 [==============================] - 0s 7ms/step - loss: 0.0549\n",
            "Epoch 54/200\n",
            "4/4 [==============================] - 0s 8ms/step - loss: 0.0540\n",
            "Epoch 55/200\n",
            "4/4 [==============================] - 0s 9ms/step - loss: 0.0579\n",
            "Epoch 56/200\n",
            "4/4 [==============================] - 0s 8ms/step - loss: 0.0604\n",
            "Epoch 57/200\n",
            "4/4 [==============================] - 0s 8ms/step - loss: 0.0617\n",
            "Epoch 58/200\n",
            "4/4 [==============================] - 0s 8ms/step - loss: 0.0594\n",
            "Epoch 59/200\n",
            "4/4 [==============================] - 0s 9ms/step - loss: 0.0622\n",
            "Epoch 60/200\n",
            "4/4 [==============================] - 0s 8ms/step - loss: 0.0575\n",
            "Epoch 61/200\n",
            "4/4 [==============================] - 0s 8ms/step - loss: 0.0567\n",
            "Epoch 62/200\n",
            "4/4 [==============================] - 0s 8ms/step - loss: 0.0616\n",
            "Epoch 63/200\n",
            "4/4 [==============================] - 0s 9ms/step - loss: 0.0613\n",
            "Epoch 64/200\n",
            "4/4 [==============================] - 0s 8ms/step - loss: 0.0583\n",
            "Epoch 65/200\n",
            "4/4 [==============================] - 0s 8ms/step - loss: 0.0577\n",
            "Epoch 66/200\n",
            "4/4 [==============================] - 0s 10ms/step - loss: 0.0573\n",
            "Epoch 67/200\n",
            "4/4 [==============================] - 0s 9ms/step - loss: 0.0616\n",
            "Epoch 68/200\n",
            "4/4 [==============================] - 0s 9ms/step - loss: 0.0576\n",
            "Epoch 69/200\n",
            "4/4 [==============================] - 0s 8ms/step - loss: 0.0618\n",
            "Epoch 70/200\n",
            "4/4 [==============================] - 0s 9ms/step - loss: 0.0518\n",
            "Epoch 71/200\n",
            "4/4 [==============================] - 0s 8ms/step - loss: 0.0624\n",
            "Epoch 72/200\n",
            "4/4 [==============================] - 0s 9ms/step - loss: 0.0581\n",
            "Epoch 73/200\n",
            "4/4 [==============================] - 0s 9ms/step - loss: 0.0601\n",
            "Epoch 74/200\n",
            "4/4 [==============================] - 0s 8ms/step - loss: 0.0549\n",
            "Epoch 75/200\n",
            "4/4 [==============================] - 0s 9ms/step - loss: 0.0598\n",
            "Epoch 76/200\n",
            "4/4 [==============================] - 0s 9ms/step - loss: 0.0568\n",
            "Epoch 77/200\n",
            "4/4 [==============================] - 0s 9ms/step - loss: 0.0578\n",
            "Epoch 78/200\n",
            "4/4 [==============================] - 0s 8ms/step - loss: 0.0546\n",
            "Epoch 79/200\n",
            "4/4 [==============================] - 0s 7ms/step - loss: 0.0602\n",
            "Epoch 80/200\n",
            "4/4 [==============================] - 0s 10ms/step - loss: 0.0615\n",
            "Epoch 81/200\n",
            "4/4 [==============================] - 0s 8ms/step - loss: 0.0570\n",
            "Epoch 82/200\n",
            "4/4 [==============================] - 0s 9ms/step - loss: 0.0553\n",
            "Epoch 83/200\n",
            "4/4 [==============================] - 0s 10ms/step - loss: 0.0557\n",
            "Epoch 84/200\n",
            "4/4 [==============================] - 0s 9ms/step - loss: 0.0572\n",
            "Epoch 85/200\n",
            "4/4 [==============================] - 0s 10ms/step - loss: 0.0553\n",
            "Epoch 86/200\n",
            "4/4 [==============================] - 0s 9ms/step - loss: 0.0565\n",
            "Epoch 87/200\n",
            "4/4 [==============================] - 0s 9ms/step - loss: 0.0593\n",
            "Epoch 88/200\n",
            "4/4 [==============================] - 0s 8ms/step - loss: 0.0623\n",
            "Epoch 89/200\n",
            "4/4 [==============================] - 0s 8ms/step - loss: 0.0621\n",
            "Epoch 90/200\n",
            "4/4 [==============================] - 0s 8ms/step - loss: 0.0565\n",
            "Epoch 91/200\n",
            "4/4 [==============================] - 0s 8ms/step - loss: 0.0604\n",
            "Epoch 92/200\n",
            "4/4 [==============================] - 0s 9ms/step - loss: 0.0607\n",
            "Epoch 93/200\n",
            "4/4 [==============================] - 0s 9ms/step - loss: 0.0551\n",
            "Epoch 94/200\n",
            "4/4 [==============================] - 0s 9ms/step - loss: 0.0596\n",
            "Epoch 95/200\n",
            "4/4 [==============================] - 0s 9ms/step - loss: 0.0559\n",
            "Epoch 96/200\n",
            "4/4 [==============================] - 0s 9ms/step - loss: 0.0529\n",
            "Epoch 97/200\n",
            "4/4 [==============================] - 0s 10ms/step - loss: 0.0576\n",
            "Epoch 98/200\n",
            "4/4 [==============================] - 0s 8ms/step - loss: 0.0549\n",
            "Epoch 99/200\n",
            "4/4 [==============================] - 0s 7ms/step - loss: 0.0550\n",
            "Epoch 100/200\n",
            "4/4 [==============================] - 0s 8ms/step - loss: 0.0590\n",
            "Epoch 101/200\n",
            "4/4 [==============================] - 0s 7ms/step - loss: 0.0571\n",
            "Epoch 102/200\n",
            "4/4 [==============================] - 0s 8ms/step - loss: 0.0605\n",
            "Epoch 103/200\n",
            "4/4 [==============================] - 0s 8ms/step - loss: 0.0519\n",
            "Epoch 104/200\n",
            "4/4 [==============================] - 0s 8ms/step - loss: 0.0559\n",
            "Epoch 105/200\n",
            "4/4 [==============================] - 0s 9ms/step - loss: 0.0557\n",
            "Epoch 106/200\n",
            "4/4 [==============================] - 0s 8ms/step - loss: 0.0593\n",
            "Epoch 107/200\n",
            "4/4 [==============================] - 0s 9ms/step - loss: 0.0578\n",
            "Epoch 108/200\n",
            "4/4 [==============================] - 0s 11ms/step - loss: 0.0667\n",
            "Epoch 109/200\n",
            "4/4 [==============================] - 0s 8ms/step - loss: 0.0571\n",
            "Epoch 110/200\n",
            "4/4 [==============================] - 0s 8ms/step - loss: 0.0573\n",
            "Epoch 111/200\n",
            "4/4 [==============================] - 0s 9ms/step - loss: 0.0573\n",
            "Epoch 112/200\n",
            "4/4 [==============================] - 0s 10ms/step - loss: 0.0566\n",
            "Epoch 113/200\n",
            "4/4 [==============================] - 0s 8ms/step - loss: 0.0547\n",
            "Epoch 114/200\n",
            "4/4 [==============================] - 0s 8ms/step - loss: 0.0561\n",
            "Epoch 115/200\n",
            "4/4 [==============================] - 0s 8ms/step - loss: 0.0542\n",
            "Epoch 116/200\n",
            "4/4 [==============================] - 0s 8ms/step - loss: 0.0605\n",
            "Epoch 117/200\n",
            "4/4 [==============================] - 0s 8ms/step - loss: 0.0563\n",
            "Epoch 118/200\n",
            "4/4 [==============================] - 0s 8ms/step - loss: 0.0528\n",
            "Epoch 119/200\n",
            "4/4 [==============================] - 0s 11ms/step - loss: 0.0550\n",
            "Epoch 120/200\n",
            "4/4 [==============================] - 0s 8ms/step - loss: 0.0579\n",
            "Epoch 121/200\n",
            "4/4 [==============================] - 0s 10ms/step - loss: 0.0572\n",
            "Epoch 122/200\n",
            "4/4 [==============================] - 0s 8ms/step - loss: 0.0560\n",
            "Epoch 123/200\n",
            "4/4 [==============================] - 0s 9ms/step - loss: 0.0565\n",
            "Epoch 124/200\n",
            "4/4 [==============================] - 0s 8ms/step - loss: 0.0588\n",
            "Epoch 125/200\n",
            "4/4 [==============================] - 0s 8ms/step - loss: 0.0541\n",
            "Epoch 126/200\n",
            "4/4 [==============================] - 0s 7ms/step - loss: 0.0588\n",
            "Epoch 127/200\n",
            "4/4 [==============================] - 0s 10ms/step - loss: 0.0552\n",
            "Epoch 128/200\n",
            "4/4 [==============================] - 0s 8ms/step - loss: 0.0574\n",
            "Epoch 129/200\n",
            "4/4 [==============================] - 0s 8ms/step - loss: 0.0542\n",
            "Epoch 130/200\n",
            "4/4 [==============================] - 0s 8ms/step - loss: 0.0578\n",
            "Epoch 131/200\n",
            "4/4 [==============================] - 0s 9ms/step - loss: 0.0565\n",
            "Epoch 132/200\n",
            "4/4 [==============================] - 0s 9ms/step - loss: 0.0614\n",
            "Epoch 133/200\n",
            "4/4 [==============================] - 0s 9ms/step - loss: 0.0602\n",
            "Epoch 134/200\n",
            "4/4 [==============================] - 0s 10ms/step - loss: 0.0591\n",
            "Epoch 135/200\n",
            "4/4 [==============================] - 0s 9ms/step - loss: 0.0550\n",
            "Epoch 136/200\n",
            "4/4 [==============================] - 0s 8ms/step - loss: 0.0561\n",
            "Epoch 137/200\n",
            "4/4 [==============================] - 0s 7ms/step - loss: 0.0567\n",
            "Epoch 138/200\n",
            "4/4 [==============================] - 0s 7ms/step - loss: 0.0531\n",
            "Epoch 139/200\n",
            "4/4 [==============================] - 0s 7ms/step - loss: 0.0560\n",
            "Epoch 140/200\n",
            "4/4 [==============================] - 0s 7ms/step - loss: 0.0546\n",
            "Epoch 141/200\n",
            "4/4 [==============================] - 0s 9ms/step - loss: 0.0589\n",
            "Epoch 142/200\n",
            "4/4 [==============================] - 0s 8ms/step - loss: 0.0611\n",
            "Epoch 143/200\n",
            "4/4 [==============================] - 0s 8ms/step - loss: 0.0557\n",
            "Epoch 144/200\n",
            "4/4 [==============================] - 0s 8ms/step - loss: 0.0599\n",
            "Epoch 145/200\n",
            "4/4 [==============================] - 0s 8ms/step - loss: 0.0567\n",
            "Epoch 146/200\n",
            "4/4 [==============================] - 0s 8ms/step - loss: 0.0529\n",
            "Epoch 147/200\n",
            "4/4 [==============================] - 0s 9ms/step - loss: 0.0594\n",
            "Epoch 148/200\n",
            "4/4 [==============================] - 0s 9ms/step - loss: 0.0570\n",
            "Epoch 149/200\n",
            "4/4 [==============================] - 0s 7ms/step - loss: 0.0523\n",
            "Epoch 150/200\n",
            "4/4 [==============================] - 0s 7ms/step - loss: 0.0581\n",
            "Epoch 151/200\n",
            "4/4 [==============================] - 0s 7ms/step - loss: 0.0578\n",
            "Epoch 152/200\n",
            "4/4 [==============================] - 0s 9ms/step - loss: 0.0575\n",
            "Epoch 153/200\n",
            "4/4 [==============================] - 0s 7ms/step - loss: 0.0534\n",
            "Epoch 154/200\n",
            "4/4 [==============================] - 0s 8ms/step - loss: 0.0594\n",
            "Epoch 155/200\n",
            "4/4 [==============================] - 0s 7ms/step - loss: 0.0555\n",
            "Epoch 156/200\n",
            "4/4 [==============================] - 0s 7ms/step - loss: 0.0538\n",
            "Epoch 157/200\n",
            "4/4 [==============================] - 0s 9ms/step - loss: 0.0576\n",
            "Epoch 158/200\n",
            "4/4 [==============================] - 0s 9ms/step - loss: 0.0577\n",
            "Epoch 159/200\n",
            "4/4 [==============================] - 0s 11ms/step - loss: 0.0544\n",
            "Epoch 160/200\n",
            "4/4 [==============================] - 0s 8ms/step - loss: 0.0584\n",
            "Epoch 161/200\n",
            "4/4 [==============================] - 0s 9ms/step - loss: 0.0560\n",
            "Epoch 162/200\n",
            "4/4 [==============================] - 0s 9ms/step - loss: 0.0555\n",
            "Epoch 163/200\n",
            "4/4 [==============================] - 0s 8ms/step - loss: 0.0574\n",
            "Epoch 164/200\n",
            "4/4 [==============================] - 0s 9ms/step - loss: 0.0575\n",
            "Epoch 165/200\n",
            "4/4 [==============================] - 0s 8ms/step - loss: 0.0561\n",
            "Epoch 166/200\n",
            "4/4 [==============================] - 0s 8ms/step - loss: 0.0533\n",
            "Epoch 167/200\n",
            "4/4 [==============================] - 0s 9ms/step - loss: 0.0570\n",
            "Epoch 168/200\n",
            "4/4 [==============================] - 0s 11ms/step - loss: 0.0569\n",
            "Epoch 169/200\n",
            "4/4 [==============================] - 0s 9ms/step - loss: 0.0541\n",
            "Epoch 170/200\n",
            "4/4 [==============================] - 0s 8ms/step - loss: 0.0551\n",
            "Epoch 171/200\n",
            "4/4 [==============================] - 0s 7ms/step - loss: 0.0586\n",
            "Epoch 172/200\n",
            "4/4 [==============================] - 0s 8ms/step - loss: 0.0591\n",
            "Epoch 173/200\n",
            "4/4 [==============================] - 0s 8ms/step - loss: 0.0591\n",
            "Epoch 174/200\n",
            "4/4 [==============================] - 0s 8ms/step - loss: 0.0596\n",
            "Epoch 175/200\n",
            "4/4 [==============================] - 0s 8ms/step - loss: 0.0577\n",
            "Epoch 176/200\n",
            "4/4 [==============================] - 0s 9ms/step - loss: 0.0564\n",
            "Epoch 177/200\n",
            "4/4 [==============================] - 0s 9ms/step - loss: 0.0552\n",
            "Epoch 178/200\n",
            "4/4 [==============================] - 0s 9ms/step - loss: 0.0575\n",
            "Epoch 179/200\n",
            "4/4 [==============================] - 0s 8ms/step - loss: 0.0553\n",
            "Epoch 180/200\n",
            "4/4 [==============================] - 0s 8ms/step - loss: 0.0543\n",
            "Epoch 181/200\n",
            "4/4 [==============================] - 0s 8ms/step - loss: 0.0562\n",
            "Epoch 182/200\n",
            "4/4 [==============================] - 0s 8ms/step - loss: 0.0563\n",
            "Epoch 183/200\n",
            "4/4 [==============================] - 0s 10ms/step - loss: 0.0559\n",
            "Epoch 184/200\n",
            "4/4 [==============================] - 0s 9ms/step - loss: 0.0580\n",
            "Epoch 185/200\n",
            "4/4 [==============================] - 0s 9ms/step - loss: 0.0546\n",
            "Epoch 186/200\n",
            "4/4 [==============================] - 0s 9ms/step - loss: 0.0552\n",
            "Epoch 187/200\n",
            "4/4 [==============================] - 0s 9ms/step - loss: 0.0566\n",
            "Epoch 188/200\n",
            "4/4 [==============================] - 0s 8ms/step - loss: 0.0538\n",
            "Epoch 189/200\n",
            "4/4 [==============================] - 0s 8ms/step - loss: 0.0571\n",
            "Epoch 190/200\n",
            "4/4 [==============================] - 0s 8ms/step - loss: 0.0544\n",
            "Epoch 191/200\n",
            "4/4 [==============================] - 0s 7ms/step - loss: 0.0554\n",
            "Epoch 192/200\n",
            "4/4 [==============================] - 0s 9ms/step - loss: 0.0533\n",
            "Epoch 193/200\n",
            "4/4 [==============================] - 0s 8ms/step - loss: 0.0555\n",
            "Epoch 194/200\n",
            "4/4 [==============================] - 0s 8ms/step - loss: 0.0550\n",
            "Epoch 195/200\n",
            "4/4 [==============================] - 0s 9ms/step - loss: 0.0553\n",
            "Epoch 196/200\n",
            "4/4 [==============================] - 0s 7ms/step - loss: 0.0603\n",
            "Epoch 197/200\n",
            "4/4 [==============================] - 0s 10ms/step - loss: 0.0556\n",
            "Epoch 198/200\n",
            "4/4 [==============================] - 0s 8ms/step - loss: 0.0575\n",
            "Epoch 199/200\n",
            "4/4 [==============================] - 0s 8ms/step - loss: 0.0537\n",
            "Epoch 200/200\n",
            "4/4 [==============================] - 0s 8ms/step - loss: 0.0560\n"
          ]
        },
        {
          "output_type": "execute_result",
          "data": {
            "text/plain": [
              "<keras.callbacks.History at 0x7f55551f6b00>"
            ]
          },
          "metadata": {},
          "execution_count": 61
        }
      ]
    },
    {
      "cell_type": "markdown",
      "source": [
        "#Previsão e Análise dos Resultados - Demanda Máxima"
      ],
      "metadata": {
        "id": "7O0IZ_w7Wjlm"
      }
    },
    {
      "cell_type": "markdown",
      "source": [
        "##Dados de Teste"
      ],
      "metadata": {
        "id": "gA8phCvbWqrv"
      }
    },
    {
      "cell_type": "code",
      "source": [
        "max_demand_test_set = dataset_all.iloc[42:,:1].values"
      ],
      "metadata": {
        "id": "KLmqs2S2rUPY"
      },
      "execution_count": 62,
      "outputs": []
    },
    {
      "cell_type": "markdown",
      "source": [
        "##Construção da Estrutura para Teste"
      ],
      "metadata": {
        "id": "NJ4LIQ4jWue3"
      }
    },
    {
      "cell_type": "code",
      "source": [
        "max_demand_total = pd.concat((dataset_consume_demand.iloc[:42,:1], dataset_consume_demand.iloc[42:,:1]), axis = 0)\n",
        "dcd_testLength = len(dataset_consume_demand.iloc[42:,:])\n",
        "inputs = max_demand_total[len(max_demand_total) - dcd_testLength - window:].values\n",
        "inputs = inputs.reshape(-1,1)\n",
        "inputs = sc.transform(inputs)\n",
        "max_demand_X_test = []\n",
        "for i in range(window, dcd_testLength + window): \n",
        "    max_demand_X_test.append(inputs[i-window:i, 0])\n",
        "max_demand_X_test = np.array(max_demand_X_test)\n",
        "max_demand_X_test = np.reshape(max_demand_X_test, (max_demand_X_test.shape[0], max_demand_X_test.shape[1], 1))"
      ],
      "metadata": {
        "id": "As1mDmIqsCJ3"
      },
      "execution_count": 63,
      "outputs": []
    },
    {
      "cell_type": "markdown",
      "source": [
        "##Realização das previsões"
      ],
      "metadata": {
        "id": "Y1uf3ZzGWzlN"
      }
    },
    {
      "cell_type": "code",
      "source": [
        "predicted_max_demand = regressor.predict(max_demand_X_test)\n",
        "predicted_max_demand = sc.inverse_transform(predicted_max_demand)"
      ],
      "metadata": {
        "id": "NsiAwkoUt4oi",
        "colab": {
          "base_uri": "https://localhost:8080/"
        },
        "outputId": "0975f75b-fe3d-4f3c-abe0-7d9c36ffed85"
      },
      "execution_count": 64,
      "outputs": [
        {
          "output_type": "stream",
          "name": "stdout",
          "text": [
            "1/1 [==============================] - 1s 550ms/step\n"
          ]
        }
      ]
    },
    {
      "cell_type": "code",
      "source": [
        "df_max_demand_training_set = pd.DataFrame(max_demand_training_set)"
      ],
      "metadata": {
        "id": "_wDIGza4XrJA"
      },
      "execution_count": 65,
      "outputs": []
    },
    {
      "cell_type": "markdown",
      "source": [
        "##Visualização dos Resultados de Treino e Teste"
      ],
      "metadata": {
        "id": "2Y0RRCuLXA8W"
      }
    },
    {
      "cell_type": "code",
      "source": [
        "allTarget_max_demand = np.vstack((dataset_consume_demand.iloc[:42,:1], dataset_consume_demand.iloc[42:,:1]))\n",
        "training_predicted_max_demand = regressor.predict(max_demand_X_train)\n",
        "training_predicted_max_demand = sc.inverse_transform(training_predicted_max_demand)\n",
        "allForecasted_max_demand = np.vstack((df_max_demand_training_set[0:window], training_predicted_max_demand, predicted_max_demand))\n",
        "plt.plot(allTarget_max_demand, color = 'red', label = 'Real')\n",
        "plt.plot(allForecasted_max_demand, color = 'blue', label = 'Previsto')\n",
        "plt.title('Previsão de série temporal')\n",
        "plt.xlabel('Tempo')\n",
        "plt.ylabel('Consumo (kW)')\n",
        "plt.legend()\n",
        "plt.savefig('predictions_training_test.svg')\n",
        "plt.show()"
      ],
      "metadata": {
        "colab": {
          "base_uri": "https://localhost:8080/",
          "height": 489
        },
        "id": "M0UzEo_QSuQF",
        "outputId": "fb2f4c2a-b5c3-408d-ee9e-d63f7aa6aacd"
      },
      "execution_count": 66,
      "outputs": [
        {
          "output_type": "stream",
          "name": "stdout",
          "text": [
            "1/1 [==============================] - 0s 22ms/step\n"
          ]
        },
        {
          "output_type": "display_data",
          "data": {
            "text/plain": [
              "<Figure size 640x480 with 1 Axes>"
            ],
            "image/png": "[encoded data removed]"
          },
          "metadata": {}
        }
      ]
    },
    {
      "cell_type": "markdown",
      "source": [
        "#Métricas de Avaliação - Demanda Máxima"
      ],
      "metadata": {
        "id": "YsGExzRZXXPu"
      }
    },
    {
      "cell_type": "code",
      "source": [
        "import math\n",
        "from sklearn.metrics import mean_squared_error\n",
        "rmse = math.sqrt(mean_squared_error(max_demand_test_set, predicted_max_demand))\n",
        "print('RMSE: ', rmse)"
      ],
      "metadata": {
        "id": "bf_8cwO0V38j",
        "colab": {
          "base_uri": "https://localhost:8080/"
        },
        "outputId": "12af48bb-0825-4fbe-ad93-2f96f2892de8"
      },
      "execution_count": 67,
      "outputs": [
        {
          "output_type": "stream",
          "name": "stdout",
          "text": [
            "RMSE:  1358.3282277638368\n"
          ]
        }
      ]
    },
    {
      "cell_type": "code",
      "source": [
        "mse = mean_squared_error(max_demand_test_set, predicted_max_demand)\n",
        "print('MSE: ',mse)"
      ],
      "metadata": {
        "colab": {
          "base_uri": "https://localhost:8080/"
        },
        "id": "4GN6eKDIEiw9",
        "outputId": "acc24ddd-05da-46ae-df0f-a363ad369ff6"
      },
      "execution_count": 68,
      "outputs": [
        {
          "output_type": "stream",
          "name": "stdout",
          "text": [
            "MSE:  1845055.5743400455\n"
          ]
        }
      ]
    },
    {
      "cell_type": "code",
      "source": [
        "mape = np.mean(np.abs((max_demand_test_set - predicted_max_demand) / max_demand_test_set)) * 100\n",
        "print('MAPE: ',mape)"
      ],
      "metadata": {
        "colab": {
          "base_uri": "https://localhost:8080/"
        },
        "id": "2KnsERqpEmwF",
        "outputId": "9cbc6126-d472-495d-c980-c030964f19da"
      },
      "execution_count": 69,
      "outputs": [
        {
          "output_type": "stream",
          "name": "stdout",
          "text": [
            "MAPE:  67.28541459986774\n"
          ]
        }
      ]
    },
    {
      "cell_type": "markdown",
      "source": [
        "#Processamento de Dados para a Previsão da Demanda Contratada"
      ],
      "metadata": {
        "id": "5Gvx13_OAeH8"
      }
    },
    {
      "cell_type": "markdown",
      "source": [
        "##Dados de Treinamento - Demanda Contratada"
      ],
      "metadata": {
        "id": "ZmwJobSbBBfT"
      }
    },
    {
      "cell_type": "code",
      "source": [
        "hired_demand_training_set = dataset_consume_demand.iloc[:42,1:2].values"
      ],
      "metadata": {
        "id": "CnIMkhETBBfT"
      },
      "execution_count": 71,
      "outputs": []
    },
    {
      "cell_type": "code",
      "source": [
        "hired_demand_training_set"
      ],
      "metadata": {
        "colab": {
          "base_uri": "https://localhost:8080/"
        },
        "outputId": "2ef7d612-ebf6-4d5e-8ce8-63d7929abc53",
        "id": "V5_hg0nABBfU"
      },
      "execution_count": 72,
      "outputs": [
        {
          "output_type": "execute_result",
          "data": {
            "text/plain": [
              "array([[3800.],\n",
              "       [3800.],\n",
              "       [3800.],\n",
              "       [3800.],\n",
              "       [3800.],\n",
              "       [3800.],\n",
              "       [3800.],\n",
              "       [3800.],\n",
              "       [3800.],\n",
              "       [3800.],\n",
              "       [3800.],\n",
              "       [3800.],\n",
              "       [3800.],\n",
              "       [3800.],\n",
              "       [3800.],\n",
              "       [3800.],\n",
              "       [3800.],\n",
              "       [3800.],\n",
              "       [3800.],\n",
              "       [3800.],\n",
              "       [3800.],\n",
              "       [3800.],\n",
              "       [3800.],\n",
              "       [3800.],\n",
              "       [3800.],\n",
              "       [3800.],\n",
              "       [3800.],\n",
              "       [3800.],\n",
              "       [3800.],\n",
              "       [3800.],\n",
              "       [3800.],\n",
              "       [3800.],\n",
              "       [3800.],\n",
              "       [3800.],\n",
              "       [3800.],\n",
              "       [3800.],\n",
              "       [3800.],\n",
              "       [3800.],\n",
              "       [3800.],\n",
              "       [3800.],\n",
              "       [3800.],\n",
              "       [3800.]])"
            ]
          },
          "metadata": {},
          "execution_count": 72
        }
      ]
    },
    {
      "cell_type": "markdown",
      "source": [
        "##Gráfico da Série Temporal - Demanda Contratada"
      ],
      "metadata": {
        "id": "pq9x8-YvBBfU"
      }
    },
    {
      "cell_type": "code",
      "source": [
        "plt.plot(hired_demand_training_set)\n",
        "plt.xlabel(\"Meses\")\n",
        "plt.ylabel(\"Kilowatts\")\n",
        "plt.title(\"Demanda Contratada\")\n",
        "plt.show()"
      ],
      "metadata": {
        "colab": {
          "base_uri": "https://localhost:8080/",
          "height": 472
        },
        "outputId": "5d15ecfb-d763-4b32-84a0-29bd63268ca9",
        "id": "byWgWMN_BBfU"
      },
      "execution_count": 73,
      "outputs": [
        {
          "output_type": "display_data",
          "data": {
            "text/plain": [
              "<Figure size 640x480 with 1 Axes>"
            ],
            "image/png": "[encoded data removed]"
          },
          "metadata": {}
        }
      ]
    },
    {
      "cell_type": "markdown",
      "source": [
        "##Normalização - Demanda Contratada"
      ],
      "metadata": {
        "id": "EE8bLGBJBBfU"
      }
    },
    {
      "cell_type": "code",
      "source": [
        "from sklearn.preprocessing import MinMaxScaler\n",
        "sc = MinMaxScaler(feature_range = (0, 1))\n",
        "hired_demand_training_set_scaled = sc.fit_transform(hired_demand_training_set)"
      ],
      "metadata": {
        "id": "Omv1hx_JBBfV"
      },
      "execution_count": 74,
      "outputs": []
    },
    {
      "cell_type": "markdown",
      "source": [
        "##Criação da Estrutura de Dados - Demanda Contratada"
      ],
      "metadata": {
        "id": "GjAv4hk1BBfV"
      }
    },
    {
      "cell_type": "code",
      "source": [
        "window = 10\n",
        "trainSize = len(hired_demand_training_set_scaled)\n",
        "horizon = 10\n",
        "hired_demand_X_train = []\n",
        "hired_demand_y_train = []\n",
        "for i in range(window, trainSize-horizon):\n",
        "    hired_demand_X_train.append(hired_demand_training_set_scaled[i-window:i, 0])\n",
        "    hired_demand_y_train.append(hired_demand_training_set_scaled[i:i+window, 0])\n",
        "hired_demand_X_train, hired_demand_y_train = np.array(hired_demand_X_train), np.array(hired_demand_y_train)"
      ],
      "metadata": {
        "id": "8pRKrg2YBBfV"
      },
      "execution_count": 75,
      "outputs": []
    },
    {
      "cell_type": "markdown",
      "source": [
        "##Reshaping - Demanda Contratada"
      ],
      "metadata": {
        "id": "0kqzfa-fBBfV"
      }
    },
    {
      "cell_type": "code",
      "source": [
        "hired_demand_X_train.shape"
      ],
      "metadata": {
        "colab": {
          "base_uri": "https://localhost:8080/"
        },
        "outputId": "aa69da51-b933-4983-8da4-c56cae4f21c9",
        "id": "t4SX8o6eBBfW"
      },
      "execution_count": 76,
      "outputs": [
        {
          "output_type": "execute_result",
          "data": {
            "text/plain": [
              "(22, 10)"
            ]
          },
          "metadata": {},
          "execution_count": 76
        }
      ]
    },
    {
      "cell_type": "code",
      "source": [
        "hired_demand_y_train.shape"
      ],
      "metadata": {
        "colab": {
          "base_uri": "https://localhost:8080/"
        },
        "outputId": "3dea9f99-9652-46f5-9afb-804417fe8e7c",
        "id": "QD-ehjrzBBfW"
      },
      "execution_count": 77,
      "outputs": [
        {
          "output_type": "execute_result",
          "data": {
            "text/plain": [
              "(22, 10)"
            ]
          },
          "metadata": {},
          "execution_count": 77
        }
      ]
    },
    {
      "cell_type": "code",
      "source": [
        "hired_demand_X_train = np.reshape(hired_demand_X_train, (hired_demand_X_train.shape[0], hired_demand_X_train.shape[1], 1))"
      ],
      "metadata": {
        "id": "6NkhS5xoBBfW"
      },
      "execution_count": 78,
      "outputs": []
    },
    {
      "cell_type": "code",
      "source": [
        "hired_demand_X_train.shape"
      ],
      "metadata": {
        "colab": {
          "base_uri": "https://localhost:8080/"
        },
        "outputId": "f4b789f0-dbdb-4943-92fb-a9613021bfea",
        "id": "DtsHtm5rBBfW"
      },
      "execution_count": 79,
      "outputs": [
        {
          "output_type": "execute_result",
          "data": {
            "text/plain": [
              "(22, 10, 1)"
            ]
          },
          "metadata": {},
          "execution_count": 79
        }
      ]
    },
    {
      "cell_type": "code",
      "source": [
        "hired_demand_y_train = np.reshape(hired_demand_y_train, (hired_demand_y_train.shape[0], hired_demand_y_train.shape[1], 1))"
      ],
      "metadata": {
        "id": "n6E3Bb4UBBfW"
      },
      "execution_count": 80,
      "outputs": []
    },
    {
      "cell_type": "code",
      "source": [
        "hired_demand_y_train.shape"
      ],
      "metadata": {
        "colab": {
          "base_uri": "https://localhost:8080/"
        },
        "outputId": "7617953c-0071-4af4-934b-a3991f3ea639",
        "id": "j38UXwJoBBfX"
      },
      "execution_count": 81,
      "outputs": [
        {
          "output_type": "execute_result",
          "data": {
            "text/plain": [
              "(22, 10, 1)"
            ]
          },
          "metadata": {},
          "execution_count": 81
        }
      ]
    },
    {
      "cell_type": "markdown",
      "source": [
        "#Construção da RNN - Demanda Contratada"
      ],
      "metadata": {
        "id": "YfIsGMEIBBfX"
      }
    },
    {
      "cell_type": "markdown",
      "source": [
        "##Importação das Bibliotecas"
      ],
      "metadata": {
        "id": "eiUG_-LsBBfX"
      }
    },
    {
      "cell_type": "code",
      "source": [
        "from keras.models import Sequential\n",
        "from keras.layers import Dense\n",
        "from keras.layers import LSTM\n",
        "from keras.layers import Dropout"
      ],
      "metadata": {
        "id": "uvAEX7wTBBfX"
      },
      "execution_count": 82,
      "outputs": []
    },
    {
      "cell_type": "markdown",
      "source": [
        "##Construção da Rede Completa"
      ],
      "metadata": {
        "id": "gvRq0mfFBBfY"
      }
    },
    {
      "cell_type": "code",
      "source": [
        "# Inicializar a RNN\n",
        "regressor = Sequential()\n",
        "\n",
        "# Adicionar a primeira camada LSTM e Dropout \n",
        "regressor.add(LSTM(units = 100, return_sequences = True, input_shape = (hired_demand_X_train.shape[1], 1)))\n",
        " \n",
        "# Adicionar a segunda camada LSTM e Dropout\n",
        "regressor.add(LSTM(units = 20))\n",
        "regressor.add(Dropout(0.3))\n",
        " \n",
        "# camada de saída\n",
        "regressor.add(Dense(units = 1))\n",
        " \n",
        "# Compilar a rede\n",
        "regressor.compile(optimizer = 'adam', loss = 'mean_squared_error')\n",
        "\n",
        "# Visualizar a rede\n",
        "regressor.summary()"
      ],
      "metadata": {
        "colab": {
          "base_uri": "https://localhost:8080/"
        },
        "outputId": "c81642cd-408a-4246-fc0f-5ef0d767e860",
        "id": "G3_I3wuiBBfY"
      },
      "execution_count": 94,
      "outputs": [
        {
          "output_type": "stream",
          "name": "stdout",
          "text": [
            "Model: \"sequential_6\"\n",
            "_________________________________________________________________\n",
            " Layer (type)                Output Shape              Param #   \n",
            "=================================================================\n",
            " lstm_12 (LSTM)              (None, 10, 100)           40800     \n",
            "                                                                 \n",
            " lstm_13 (LSTM)              (None, 20)                9680      \n",
            "                                                                 \n",
            " dropout_6 (Dropout)         (None, 20)                0         \n",
            "                                                                 \n",
            " dense_6 (Dense)             (None, 1)                 21        \n",
            "                                                                 \n",
            "=================================================================\n",
            "Total params: 50,501\n",
            "Trainable params: 50,501\n",
            "Non-trainable params: 0\n",
            "_________________________________________________________________\n"
          ]
        }
      ]
    },
    {
      "cell_type": "markdown",
      "source": [
        "##Treinamento"
      ],
      "metadata": {
        "id": "CjPzFU7QBBfY"
      }
    },
    {
      "cell_type": "code",
      "source": [
        "regressor.fit(hired_demand_X_train, hired_demand_y_train, epochs = 200, batch_size = 7)"
      ],
      "metadata": {
        "colab": {
          "base_uri": "https://localhost:8080/"
        },
        "outputId": "941376b2-e246-4104-e3b3-57b169f35d69",
        "id": "MPEYH6NGBBfY"
      },
      "execution_count": 95,
      "outputs": [
        {
          "output_type": "stream",
          "name": "stdout",
          "text": [
            "Epoch 1/200\n",
            "4/4 [==============================] - 3s 8ms/step - loss: 0.0000e+00\n",
            "Epoch 2/200\n",
            "4/4 [==============================] - 0s 8ms/step - loss: 0.0000e+00\n",
            "Epoch 3/200\n",
            "4/4 [==============================] - 0s 8ms/step - loss: 0.0000e+00\n",
            "Epoch 4/200\n",
            "4/4 [==============================] - 0s 8ms/step - loss: 0.0000e+00\n",
            "Epoch 5/200\n",
            "4/4 [==============================] - 0s 9ms/step - loss: 0.0000e+00\n",
            "Epoch 6/200\n",
            "4/4 [==============================] - 0s 8ms/step - loss: 0.0000e+00\n",
            "Epoch 7/200\n",
            "4/4 [==============================] - 0s 10ms/step - loss: 0.0000e+00\n",
            "Epoch 8/200\n",
            "4/4 [==============================] - 0s 7ms/step - loss: 0.0000e+00\n",
            "Epoch 9/200\n",
            "4/4 [==============================] - 0s 8ms/step - loss: 0.0000e+00\n",
            "Epoch 10/200\n",
            "4/4 [==============================] - 0s 8ms/step - loss: 0.0000e+00\n",
            "Epoch 11/200\n",
            "4/4 [==============================] - 0s 8ms/step - loss: 0.0000e+00\n",
            "Epoch 12/200\n",
            "4/4 [==============================] - 0s 10ms/step - loss: 0.0000e+00\n",
            "Epoch 13/200\n",
            "4/4 [==============================] - 0s 10ms/step - loss: 0.0000e+00\n",
            "Epoch 14/200\n",
            "4/4 [==============================] - 0s 13ms/step - loss: 0.0000e+00\n",
            "Epoch 15/200\n",
            "4/4 [==============================] - 0s 11ms/step - loss: 0.0000e+00\n",
            "Epoch 16/200\n",
            "4/4 [==============================] - 0s 11ms/step - loss: 0.0000e+00\n",
            "Epoch 17/200\n",
            "4/4 [==============================] - 0s 11ms/step - loss: 0.0000e+00\n",
            "Epoch 18/200\n",
            "4/4 [==============================] - 0s 11ms/step - loss: 0.0000e+00\n",
            "Epoch 19/200\n",
            "4/4 [==============================] - 0s 11ms/step - loss: 0.0000e+00\n",
            "Epoch 20/200\n",
            "4/4 [==============================] - 0s 12ms/step - loss: 0.0000e+00\n",
            "Epoch 21/200\n",
            "4/4 [==============================] - 0s 10ms/step - loss: 0.0000e+00\n",
            "Epoch 22/200\n",
            "4/4 [==============================] - 0s 10ms/step - loss: 0.0000e+00\n",
            "Epoch 23/200\n",
            "4/4 [==============================] - 0s 10ms/step - loss: 0.0000e+00\n",
            "Epoch 24/200\n",
            "4/4 [==============================] - 0s 10ms/step - loss: 0.0000e+00\n",
            "Epoch 25/200\n",
            "4/4 [==============================] - 0s 10ms/step - loss: 0.0000e+00\n",
            "Epoch 26/200\n",
            "4/4 [==============================] - 0s 10ms/step - loss: 0.0000e+00\n",
            "Epoch 27/200\n",
            "4/4 [==============================] - 0s 10ms/step - loss: 0.0000e+00\n",
            "Epoch 28/200\n",
            "4/4 [==============================] - 0s 10ms/step - loss: 0.0000e+00\n",
            "Epoch 29/200\n",
            "4/4 [==============================] - 0s 10ms/step - loss: 0.0000e+00\n",
            "Epoch 30/200\n",
            "4/4 [==============================] - 0s 10ms/step - loss: 0.0000e+00\n",
            "Epoch 31/200\n",
            "4/4 [==============================] - 0s 11ms/step - loss: 0.0000e+00\n",
            "Epoch 32/200\n",
            "4/4 [==============================] - 0s 11ms/step - loss: 0.0000e+00\n",
            "Epoch 33/200\n",
            "4/4 [==============================] - 0s 11ms/step - loss: 0.0000e+00\n",
            "Epoch 34/200\n",
            "4/4 [==============================] - 0s 10ms/step - loss: 0.0000e+00\n",
            "Epoch 35/200\n",
            "4/4 [==============================] - 0s 11ms/step - loss: 0.0000e+00\n",
            "Epoch 36/200\n",
            "4/4 [==============================] - 0s 11ms/step - loss: 0.0000e+00\n",
            "Epoch 37/200\n",
            "4/4 [==============================] - 0s 11ms/step - loss: 0.0000e+00\n",
            "Epoch 38/200\n",
            "4/4 [==============================] - 0s 11ms/step - loss: 0.0000e+00\n",
            "Epoch 39/200\n",
            "4/4 [==============================] - 0s 11ms/step - loss: 0.0000e+00\n",
            "Epoch 40/200\n",
            "4/4 [==============================] - 0s 11ms/step - loss: 0.0000e+00\n",
            "Epoch 41/200\n",
            "4/4 [==============================] - 0s 10ms/step - loss: 0.0000e+00\n",
            "Epoch 42/200\n",
            "4/4 [==============================] - 0s 11ms/step - loss: 0.0000e+00\n",
            "Epoch 43/200\n",
            "4/4 [==============================] - 0s 10ms/step - loss: 0.0000e+00\n",
            "Epoch 44/200\n",
            "4/4 [==============================] - 0s 10ms/step - loss: 0.0000e+00\n",
            "Epoch 45/200\n",
            "4/4 [==============================] - 0s 10ms/step - loss: 0.0000e+00\n",
            "Epoch 46/200\n",
            "4/4 [==============================] - 0s 10ms/step - loss: 0.0000e+00\n",
            "Epoch 47/200\n",
            "4/4 [==============================] - 0s 12ms/step - loss: 0.0000e+00\n",
            "Epoch 48/200\n",
            "4/4 [==============================] - 0s 11ms/step - loss: 0.0000e+00\n",
            "Epoch 49/200\n",
            "4/4 [==============================] - 0s 10ms/step - loss: 0.0000e+00\n",
            "Epoch 50/200\n",
            "4/4 [==============================] - 0s 11ms/step - loss: 0.0000e+00\n",
            "Epoch 51/200\n",
            "4/4 [==============================] - 0s 10ms/step - loss: 0.0000e+00\n",
            "Epoch 52/200\n",
            "4/4 [==============================] - 0s 10ms/step - loss: 0.0000e+00\n",
            "Epoch 53/200\n",
            "4/4 [==============================] - 0s 10ms/step - loss: 0.0000e+00\n",
            "Epoch 54/200\n",
            "4/4 [==============================] - 0s 13ms/step - loss: 0.0000e+00\n",
            "Epoch 55/200\n",
            "4/4 [==============================] - 0s 11ms/step - loss: 0.0000e+00\n",
            "Epoch 56/200\n",
            "4/4 [==============================] - 0s 9ms/step - loss: 0.0000e+00\n",
            "Epoch 57/200\n",
            "4/4 [==============================] - 0s 9ms/step - loss: 0.0000e+00\n",
            "Epoch 58/200\n",
            "4/4 [==============================] - 0s 8ms/step - loss: 0.0000e+00\n",
            "Epoch 59/200\n",
            "4/4 [==============================] - 0s 9ms/step - loss: 0.0000e+00\n",
            "Epoch 60/200\n",
            "4/4 [==============================] - 0s 8ms/step - loss: 0.0000e+00\n",
            "Epoch 61/200\n",
            "4/4 [==============================] - 0s 9ms/step - loss: 0.0000e+00\n",
            "Epoch 62/200\n",
            "4/4 [==============================] - 0s 11ms/step - loss: 0.0000e+00\n",
            "Epoch 63/200\n",
            "4/4 [==============================] - 0s 9ms/step - loss: 0.0000e+00\n",
            "Epoch 64/200\n",
            "4/4 [==============================] - 0s 8ms/step - loss: 0.0000e+00\n",
            "Epoch 65/200\n",
            "4/4 [==============================] - 0s 10ms/step - loss: 0.0000e+00\n",
            "Epoch 66/200\n",
            "4/4 [==============================] - 0s 8ms/step - loss: 0.0000e+00\n",
            "Epoch 67/200\n",
            "4/4 [==============================] - 0s 7ms/step - loss: 0.0000e+00\n",
            "Epoch 68/200\n",
            "4/4 [==============================] - 0s 7ms/step - loss: 0.0000e+00\n",
            "Epoch 69/200\n",
            "4/4 [==============================] - 0s 7ms/step - loss: 0.0000e+00\n",
            "Epoch 70/200\n",
            "4/4 [==============================] - 0s 7ms/step - loss: 0.0000e+00\n",
            "Epoch 71/200\n",
            "4/4 [==============================] - 0s 8ms/step - loss: 0.0000e+00\n",
            "Epoch 72/200\n",
            "4/4 [==============================] - 0s 10ms/step - loss: 0.0000e+00\n",
            "Epoch 73/200\n",
            "4/4 [==============================] - 0s 9ms/step - loss: 0.0000e+00\n",
            "Epoch 74/200\n",
            "4/4 [==============================] - 0s 9ms/step - loss: 0.0000e+00\n",
            "Epoch 75/200\n",
            "4/4 [==============================] - 0s 8ms/step - loss: 0.0000e+00\n",
            "Epoch 76/200\n",
            "4/4 [==============================] - 0s 8ms/step - loss: 0.0000e+00\n",
            "Epoch 77/200\n",
            "4/4 [==============================] - 0s 8ms/step - loss: 0.0000e+00\n",
            "Epoch 78/200\n",
            "4/4 [==============================] - 0s 10ms/step - loss: 0.0000e+00\n",
            "Epoch 79/200\n",
            "4/4 [==============================] - 0s 9ms/step - loss: 0.0000e+00\n",
            "Epoch 80/200\n",
            "4/4 [==============================] - 0s 8ms/step - loss: 0.0000e+00\n",
            "Epoch 81/200\n",
            "4/4 [==============================] - 0s 9ms/step - loss: 0.0000e+00\n",
            "Epoch 82/200\n",
            "4/4 [==============================] - 0s 8ms/step - loss: 0.0000e+00\n",
            "Epoch 83/200\n",
            "4/4 [==============================] - 0s 8ms/step - loss: 0.0000e+00\n",
            "Epoch 84/200\n",
            "4/4 [==============================] - 0s 9ms/step - loss: 0.0000e+00\n",
            "Epoch 85/200\n",
            "4/4 [==============================] - 0s 9ms/step - loss: 0.0000e+00\n",
            "Epoch 86/200\n",
            "4/4 [==============================] - 0s 9ms/step - loss: 0.0000e+00\n",
            "Epoch 87/200\n",
            "4/4 [==============================] - 0s 8ms/step - loss: 0.0000e+00\n",
            "Epoch 88/200\n",
            "4/4 [==============================] - 0s 11ms/step - loss: 0.0000e+00\n",
            "Epoch 89/200\n",
            "4/4 [==============================] - 0s 8ms/step - loss: 0.0000e+00\n",
            "Epoch 90/200\n",
            "4/4 [==============================] - 0s 8ms/step - loss: 0.0000e+00\n",
            "Epoch 91/200\n",
            "4/4 [==============================] - 0s 10ms/step - loss: 0.0000e+00\n",
            "Epoch 92/200\n",
            "4/4 [==============================] - 0s 8ms/step - loss: 0.0000e+00\n",
            "Epoch 93/200\n",
            "4/4 [==============================] - 0s 8ms/step - loss: 0.0000e+00\n",
            "Epoch 94/200\n",
            "4/4 [==============================] - 0s 8ms/step - loss: 0.0000e+00\n",
            "Epoch 95/200\n",
            "4/4 [==============================] - 0s 9ms/step - loss: 0.0000e+00\n",
            "Epoch 96/200\n",
            "4/4 [==============================] - 0s 8ms/step - loss: 0.0000e+00\n",
            "Epoch 97/200\n",
            "4/4 [==============================] - 0s 8ms/step - loss: 0.0000e+00\n",
            "Epoch 98/200\n",
            "4/4 [==============================] - 0s 8ms/step - loss: 0.0000e+00\n",
            "Epoch 99/200\n",
            "4/4 [==============================] - 0s 8ms/step - loss: 0.0000e+00\n",
            "Epoch 100/200\n",
            "4/4 [==============================] - 0s 8ms/step - loss: 0.0000e+00\n",
            "Epoch 101/200\n",
            "4/4 [==============================] - 0s 8ms/step - loss: 0.0000e+00\n",
            "Epoch 102/200\n",
            "4/4 [==============================] - 0s 8ms/step - loss: 0.0000e+00\n",
            "Epoch 103/200\n",
            "4/4 [==============================] - 0s 8ms/step - loss: 0.0000e+00\n",
            "Epoch 104/200\n",
            "4/4 [==============================] - 0s 7ms/step - loss: 0.0000e+00\n",
            "Epoch 105/200\n",
            "4/4 [==============================] - 0s 8ms/step - loss: 0.0000e+00\n",
            "Epoch 106/200\n",
            "4/4 [==============================] - 0s 8ms/step - loss: 0.0000e+00\n",
            "Epoch 107/200\n",
            "4/4 [==============================] - 0s 7ms/step - loss: 0.0000e+00\n",
            "Epoch 108/200\n",
            "4/4 [==============================] - 0s 7ms/step - loss: 0.0000e+00\n",
            "Epoch 109/200\n",
            "4/4 [==============================] - 0s 7ms/step - loss: 0.0000e+00\n",
            "Epoch 110/200\n",
            "4/4 [==============================] - 0s 9ms/step - loss: 0.0000e+00\n",
            "Epoch 111/200\n",
            "4/4 [==============================] - 0s 8ms/step - loss: 0.0000e+00\n",
            "Epoch 112/200\n",
            "4/4 [==============================] - 0s 8ms/step - loss: 0.0000e+00\n",
            "Epoch 113/200\n",
            "4/4 [==============================] - 0s 8ms/step - loss: 0.0000e+00\n",
            "Epoch 114/200\n",
            "4/4 [==============================] - 0s 7ms/step - loss: 0.0000e+00\n",
            "Epoch 115/200\n",
            "4/4 [==============================] - 0s 9ms/step - loss: 0.0000e+00\n",
            "Epoch 116/200\n",
            "4/4 [==============================] - 0s 9ms/step - loss: 0.0000e+00\n",
            "Epoch 117/200\n",
            "4/4 [==============================] - 0s 7ms/step - loss: 0.0000e+00\n",
            "Epoch 118/200\n",
            "4/4 [==============================] - 0s 11ms/step - loss: 0.0000e+00\n",
            "Epoch 119/200\n",
            "4/4 [==============================] - 0s 8ms/step - loss: 0.0000e+00\n",
            "Epoch 120/200\n",
            "4/4 [==============================] - 0s 7ms/step - loss: 0.0000e+00\n",
            "Epoch 121/200\n",
            "4/4 [==============================] - 0s 7ms/step - loss: 0.0000e+00\n",
            "Epoch 122/200\n",
            "4/4 [==============================] - 0s 8ms/step - loss: 0.0000e+00\n",
            "Epoch 123/200\n",
            "4/4 [==============================] - 0s 8ms/step - loss: 0.0000e+00\n",
            "Epoch 124/200\n",
            "4/4 [==============================] - 0s 7ms/step - loss: 0.0000e+00\n",
            "Epoch 125/200\n",
            "4/4 [==============================] - 0s 8ms/step - loss: 0.0000e+00\n",
            "Epoch 126/200\n",
            "4/4 [==============================] - 0s 11ms/step - loss: 0.0000e+00\n",
            "Epoch 127/200\n",
            "4/4 [==============================] - 0s 8ms/step - loss: 0.0000e+00\n",
            "Epoch 128/200\n",
            "4/4 [==============================] - 0s 8ms/step - loss: 0.0000e+00\n",
            "Epoch 129/200\n",
            "4/4 [==============================] - 0s 8ms/step - loss: 0.0000e+00\n",
            "Epoch 130/200\n",
            "4/4 [==============================] - 0s 8ms/step - loss: 0.0000e+00\n",
            "Epoch 131/200\n",
            "4/4 [==============================] - 0s 7ms/step - loss: 0.0000e+00\n",
            "Epoch 132/200\n",
            "4/4 [==============================] - 0s 8ms/step - loss: 0.0000e+00\n",
            "Epoch 133/200\n",
            "4/4 [==============================] - 0s 8ms/step - loss: 0.0000e+00\n",
            "Epoch 134/200\n",
            "4/4 [==============================] - 0s 8ms/step - loss: 0.0000e+00\n",
            "Epoch 135/200\n",
            "4/4 [==============================] - 0s 9ms/step - loss: 0.0000e+00\n",
            "Epoch 136/200\n",
            "4/4 [==============================] - 0s 8ms/step - loss: 0.0000e+00\n",
            "Epoch 137/200\n",
            "4/4 [==============================] - 0s 8ms/step - loss: 0.0000e+00\n",
            "Epoch 138/200\n",
            "4/4 [==============================] - 0s 8ms/step - loss: 0.0000e+00\n",
            "Epoch 139/200\n",
            "4/4 [==============================] - 0s 8ms/step - loss: 0.0000e+00\n",
            "Epoch 140/200\n",
            "4/4 [==============================] - 0s 10ms/step - loss: 0.0000e+00\n",
            "Epoch 141/200\n",
            "4/4 [==============================] - 0s 9ms/step - loss: 0.0000e+00\n",
            "Epoch 142/200\n",
            "4/4 [==============================] - 0s 9ms/step - loss: 0.0000e+00\n",
            "Epoch 143/200\n",
            "4/4 [==============================] - 0s 9ms/step - loss: 0.0000e+00\n",
            "Epoch 144/200\n",
            "4/4 [==============================] - 0s 9ms/step - loss: 0.0000e+00\n",
            "Epoch 145/200\n",
            "4/4 [==============================] - 0s 9ms/step - loss: 0.0000e+00\n",
            "Epoch 146/200\n",
            "4/4 [==============================] - 0s 9ms/step - loss: 0.0000e+00\n",
            "Epoch 147/200\n",
            "4/4 [==============================] - 0s 9ms/step - loss: 0.0000e+00\n",
            "Epoch 148/200\n",
            "4/4 [==============================] - 0s 8ms/step - loss: 0.0000e+00\n",
            "Epoch 149/200\n",
            "4/4 [==============================] - 0s 8ms/step - loss: 0.0000e+00\n",
            "Epoch 150/200\n",
            "4/4 [==============================] - 0s 8ms/step - loss: 0.0000e+00\n",
            "Epoch 151/200\n",
            "4/4 [==============================] - 0s 10ms/step - loss: 0.0000e+00\n",
            "Epoch 152/200\n",
            "4/4 [==============================] - 0s 7ms/step - loss: 0.0000e+00\n",
            "Epoch 153/200\n",
            "4/4 [==============================] - 0s 7ms/step - loss: 0.0000e+00\n",
            "Epoch 154/200\n",
            "4/4 [==============================] - 0s 10ms/step - loss: 0.0000e+00\n",
            "Epoch 155/200\n",
            "4/4 [==============================] - 0s 8ms/step - loss: 0.0000e+00\n",
            "Epoch 156/200\n",
            "4/4 [==============================] - 0s 9ms/step - loss: 0.0000e+00\n",
            "Epoch 157/200\n",
            "4/4 [==============================] - 0s 8ms/step - loss: 0.0000e+00\n",
            "Epoch 158/200\n",
            "4/4 [==============================] - 0s 7ms/step - loss: 0.0000e+00\n",
            "Epoch 159/200\n",
            "4/4 [==============================] - 0s 8ms/step - loss: 0.0000e+00\n",
            "Epoch 160/200\n",
            "4/4 [==============================] - 0s 8ms/step - loss: 0.0000e+00\n",
            "Epoch 161/200\n",
            "4/4 [==============================] - 0s 9ms/step - loss: 0.0000e+00\n",
            "Epoch 162/200\n",
            "4/4 [==============================] - 0s 8ms/step - loss: 0.0000e+00\n",
            "Epoch 163/200\n",
            "4/4 [==============================] - 0s 9ms/step - loss: 0.0000e+00\n",
            "Epoch 164/200\n",
            "4/4 [==============================] - 0s 9ms/step - loss: 0.0000e+00\n",
            "Epoch 165/200\n",
            "4/4 [==============================] - 0s 8ms/step - loss: 0.0000e+00\n",
            "Epoch 166/200\n",
            "4/4 [==============================] - 0s 9ms/step - loss: 0.0000e+00\n",
            "Epoch 167/200\n",
            "4/4 [==============================] - 0s 8ms/step - loss: 0.0000e+00\n",
            "Epoch 168/200\n",
            "4/4 [==============================] - 0s 8ms/step - loss: 0.0000e+00\n",
            "Epoch 169/200\n",
            "4/4 [==============================] - 0s 8ms/step - loss: 0.0000e+00\n",
            "Epoch 170/200\n",
            "4/4 [==============================] - 0s 9ms/step - loss: 0.0000e+00\n",
            "Epoch 171/200\n",
            "4/4 [==============================] - 0s 10ms/step - loss: 0.0000e+00\n",
            "Epoch 172/200\n",
            "4/4 [==============================] - 0s 8ms/step - loss: 0.0000e+00\n",
            "Epoch 173/200\n",
            "4/4 [==============================] - 0s 8ms/step - loss: 0.0000e+00\n",
            "Epoch 174/200\n",
            "4/4 [==============================] - 0s 8ms/step - loss: 0.0000e+00\n",
            "Epoch 175/200\n",
            "4/4 [==============================] - 0s 8ms/step - loss: 0.0000e+00\n",
            "Epoch 176/200\n",
            "4/4 [==============================] - 0s 8ms/step - loss: 0.0000e+00\n",
            "Epoch 177/200\n",
            "4/4 [==============================] - 0s 9ms/step - loss: 0.0000e+00\n",
            "Epoch 178/200\n",
            "4/4 [==============================] - 0s 9ms/step - loss: 0.0000e+00\n",
            "Epoch 179/200\n",
            "4/4 [==============================] - 0s 9ms/step - loss: 0.0000e+00\n",
            "Epoch 180/200\n",
            "4/4 [==============================] - 0s 9ms/step - loss: 0.0000e+00\n",
            "Epoch 181/200\n",
            "4/4 [==============================] - 0s 9ms/step - loss: 0.0000e+00\n",
            "Epoch 182/200\n",
            "4/4 [==============================] - 0s 11ms/step - loss: 0.0000e+00\n",
            "Epoch 183/200\n",
            "4/4 [==============================] - 0s 9ms/step - loss: 0.0000e+00\n",
            "Epoch 184/200\n",
            "4/4 [==============================] - 0s 9ms/step - loss: 0.0000e+00\n",
            "Epoch 185/200\n",
            "4/4 [==============================] - 0s 9ms/step - loss: 0.0000e+00\n",
            "Epoch 186/200\n",
            "4/4 [==============================] - 0s 9ms/step - loss: 0.0000e+00\n",
            "Epoch 187/200\n",
            "4/4 [==============================] - 0s 9ms/step - loss: 0.0000e+00\n",
            "Epoch 188/200\n",
            "4/4 [==============================] - 0s 10ms/step - loss: 0.0000e+00\n",
            "Epoch 189/200\n",
            "4/4 [==============================] - 0s 8ms/step - loss: 0.0000e+00\n",
            "Epoch 190/200\n",
            "4/4 [==============================] - 0s 9ms/step - loss: 0.0000e+00\n",
            "Epoch 191/200\n",
            "4/4 [==============================] - 0s 9ms/step - loss: 0.0000e+00\n",
            "Epoch 192/200\n",
            "4/4 [==============================] - 0s 9ms/step - loss: 0.0000e+00\n",
            "Epoch 193/200\n",
            "4/4 [==============================] - 0s 9ms/step - loss: 0.0000e+00\n",
            "Epoch 194/200\n",
            "4/4 [==============================] - 0s 8ms/step - loss: 0.0000e+00\n",
            "Epoch 195/200\n",
            "4/4 [==============================] - 0s 10ms/step - loss: 0.0000e+00\n",
            "Epoch 196/200\n",
            "4/4 [==============================] - 0s 9ms/step - loss: 0.0000e+00\n",
            "Epoch 197/200\n",
            "4/4 [==============================] - 0s 9ms/step - loss: 0.0000e+00\n",
            "Epoch 198/200\n",
            "4/4 [==============================] - 0s 8ms/step - loss: 0.0000e+00\n",
            "Epoch 199/200\n",
            "4/4 [==============================] - 0s 9ms/step - loss: 0.0000e+00\n",
            "Epoch 200/200\n",
            "4/4 [==============================] - 0s 9ms/step - loss: 0.0000e+00\n"
          ]
        },
        {
          "output_type": "execute_result",
          "data": {
            "text/plain": [
              "<keras.callbacks.History at 0x7f554527b0a0>"
            ]
          },
          "metadata": {},
          "execution_count": 95
        }
      ]
    },
    {
      "cell_type": "markdown",
      "source": [
        "#Previsão e Análise dos Resultados - Demanda Contratada"
      ],
      "metadata": {
        "id": "6WexXM3YBBfZ"
      }
    },
    {
      "cell_type": "markdown",
      "source": [
        "##Dados de Teste"
      ],
      "metadata": {
        "id": "iCONPidwBBfZ"
      }
    },
    {
      "cell_type": "code",
      "source": [
        "hired_demand_test_set = dataset_all.iloc[42:,4:5].values"
      ],
      "metadata": {
        "id": "PR-Va8J2BBfZ"
      },
      "execution_count": 96,
      "outputs": []
    },
    {
      "cell_type": "markdown",
      "source": [
        "##Construção da Estrutura para Teste"
      ],
      "metadata": {
        "id": "TmtnHtKDBBfZ"
      }
    },
    {
      "cell_type": "code",
      "source": [
        "hired_demand_total = pd.concat((dataset_consume_demand.iloc[:42,1:2], dataset_consume_demand.iloc[42:,1:2]), axis = 0)\n",
        "dcd_testLength = len(dataset_consume_demand.iloc[42:,:])\n",
        "inputs = hired_demand_total[len(hired_demand_total) - dcd_testLength - window:].values\n",
        "inputs = inputs.reshape(-1,1)\n",
        "inputs = sc.transform(inputs)\n",
        "hired_demand_X_test = []\n",
        "for i in range(window, dcd_testLength + window): \n",
        "    hired_demand_X_test.append(inputs[i-window:i, 0])\n",
        "hired_demand_X_test = np.array(hired_demand_X_test)\n",
        "hired_demand_X_test = np.reshape(hired_demand_X_test, (hired_demand_X_test.shape[0], hired_demand_X_test.shape[1], 1))"
      ],
      "metadata": {
        "id": "XeAe16mbBBfZ"
      },
      "execution_count": 97,
      "outputs": []
    },
    {
      "cell_type": "markdown",
      "source": [
        "##Realização das previsões"
      ],
      "metadata": {
        "id": "bCOzd2fmBBfa"
      }
    },
    {
      "cell_type": "code",
      "source": [
        "predicted_hired_demand = regressor.predict(hired_demand_X_test)\n",
        "predicted_hired_demand = sc.inverse_transform(predicted_hired_demand)"
      ],
      "metadata": {
        "colab": {
          "base_uri": "https://localhost:8080/"
        },
        "outputId": "84af87a3-6220-448d-b6f1-6e3c8dd30fb9",
        "id": "mthCft6EBBfa"
      },
      "execution_count": 98,
      "outputs": [
        {
          "output_type": "stream",
          "name": "stderr",
          "text": [
            "WARNING:tensorflow:5 out of the last 9 calls to <function Model.make_predict_function.<locals>.predict_function at 0x7f55442184c0> triggered tf.function retracing. Tracing is expensive and the excessive number of tracings could be due to (1) creating @tf.function repeatedly in a loop, (2) passing tensors with different shapes, (3) passing Python objects instead of tensors. For (1), please define your @tf.function outside of the loop. For (2), @tf.function has reduce_retracing=True option that can avoid unnecessary retracing. For (3), please refer to https://www.tensorflow.org/guide/function#controlling_retracing and https://www.tensorflow.org/api_docs/python/tf/function for  more details.\n"
          ]
        },
        {
          "output_type": "stream",
          "name": "stdout",
          "text": [
            "1/1 [==============================] - 1s 543ms/step\n"
          ]
        }
      ]
    },
    {
      "cell_type": "code",
      "source": [
        "df_hired_demand_training_set = pd.DataFrame(hired_demand_training_set)"
      ],
      "metadata": {
        "id": "7jMO7NIjBBfa"
      },
      "execution_count": 99,
      "outputs": []
    },
    {
      "cell_type": "markdown",
      "source": [
        "##Visualização dos Resultados de Treino e Teste"
      ],
      "metadata": {
        "id": "RLBFbyhLBBfa"
      }
    },
    {
      "cell_type": "code",
      "source": [
        "allTarget_hired_demand = np.vstack((dataset_consume_demand.iloc[:42,1:2], dataset_consume_demand.iloc[42:,1:2]))\n",
        "training_predicted_hired_demand = regressor.predict(hired_demand_X_train)\n",
        "training_predicted_hired_demand = sc.inverse_transform(training_predicted_hired_demand)\n",
        "allForecasted_hired_demand = np.vstack((df_hired_demand_training_set[0:window], training_predicted_hired_demand, predicted_hired_demand))\n",
        "plt.plot(allTarget_hired_demand, color = 'red', label = 'Real')\n",
        "plt.plot(allForecasted_hired_demand, color = 'blue', label = 'Previsto')\n",
        "plt.title('Previsão de série temporal')\n",
        "plt.xlabel('Tempo')\n",
        "plt.ylabel('Demanda Contratada (kW)')\n",
        "plt.legend()\n",
        "plt.savefig('predictions_training_test.svg')\n",
        "plt.show()"
      ],
      "metadata": {
        "colab": {
          "base_uri": "https://localhost:8080/",
          "height": 489
        },
        "outputId": "5fa2a766-b0b5-498e-8e00-3b6b39db5989",
        "id": "JiyV4AW3BBfa"
      },
      "execution_count": 100,
      "outputs": [
        {
          "output_type": "stream",
          "name": "stdout",
          "text": [
            "1/1 [==============================] - 0s 18ms/step\n"
          ]
        },
        {
          "output_type": "display_data",
          "data": {
            "text/plain": [
              "<Figure size 640x480 with 1 Axes>"
            ],
            "image/png": "[encoded data removed]"
          },
          "metadata": {}
        }
      ]
    },
    {
      "cell_type": "markdown",
      "source": [
        "#Métricas de Avaliação - Demanda Contratada"
      ],
      "metadata": {
        "id": "GkObrf41BBfb"
      }
    },
    {
      "cell_type": "code",
      "source": [
        "import math\n",
        "from sklearn.metrics import mean_squared_error\n",
        "rmse = math.sqrt(mean_squared_error(hired_demand_test_set, predicted_hired_demand))\n",
        "print('RMSE: ', rmse)"
      ],
      "metadata": {
        "colab": {
          "base_uri": "https://localhost:8080/"
        },
        "outputId": "d06016e7-7e8a-49d0-d79a-22c93f612e83",
        "id": "KgAwVjBoBBfb"
      },
      "execution_count": 101,
      "outputs": [
        {
          "output_type": "stream",
          "name": "stdout",
          "text": [
            "RMSE:  0.0\n"
          ]
        }
      ]
    },
    {
      "cell_type": "code",
      "source": [
        "mse = mean_squared_error(hired_demand_test_set, predicted_hired_demand)\n",
        "print('MSE: ',mse)"
      ],
      "metadata": {
        "colab": {
          "base_uri": "https://localhost:8080/"
        },
        "outputId": "b2be2ac9-d289-4b3a-a6ac-d667a5fe7e8f",
        "id": "P2Gt9-FFBBfb"
      },
      "execution_count": 102,
      "outputs": [
        {
          "output_type": "stream",
          "name": "stdout",
          "text": [
            "MSE:  0.0\n"
          ]
        }
      ]
    },
    {
      "cell_type": "code",
      "source": [
        "mape = np.mean(np.abs((hired_demand_test_set - predicted_hired_demand) / hired_demand_test_set)) * 100\n",
        "print('MAPE: ',mape)"
      ],
      "metadata": {
        "colab": {
          "base_uri": "https://localhost:8080/"
        },
        "outputId": "d92d47e5-585b-49d9-c805-fe4a79fa9d46",
        "id": "cyQ3MriwBBfb"
      },
      "execution_count": 103,
      "outputs": [
        {
          "output_type": "stream",
          "name": "stdout",
          "text": [
            "MAPE:  0.0\n"
          ]
        }
      ]
    },
    {
      "cell_type": "markdown",
      "source": [
        "#Processamento de Dados para a Previsão do Consumo de Ponta"
      ],
      "metadata": {
        "id": "Tb_WIbaxB35e"
      }
    },
    {
      "cell_type": "markdown",
      "source": [
        "##Dados de Treinamento - Consumo Ponta"
      ],
      "metadata": {
        "id": "s4E11iZ5CCZg"
      }
    },
    {
      "cell_type": "code",
      "source": [
        "highprice_consume_training_set = dataset_consume_demand.iloc[:42,2:3].values"
      ],
      "metadata": {
        "id": "-aRNRINOCCZg"
      },
      "execution_count": 105,
      "outputs": []
    },
    {
      "cell_type": "code",
      "source": [
        "highprice_consume_training_set"
      ],
      "metadata": {
        "colab": {
          "base_uri": "https://localhost:8080/"
        },
        "outputId": "0e78186d-0911-42f1-991c-3a5a30b73e80",
        "id": "d3Wl56XzCCZg"
      },
      "execution_count": 106,
      "outputs": [
        {
          "output_type": "execute_result",
          "data": {
            "text/plain": [
              "array([[ 61433.3  ],\n",
              "       [ 63043.2  ],\n",
              "       [ 97689.65 ],\n",
              "       [ 84809.875],\n",
              "       [ 74067.725],\n",
              "       [ 41276.05 ],\n",
              "       [ 29482.575],\n",
              "       [ 47900.075],\n",
              "       [ 62565.25 ],\n",
              "       [ 61263.375],\n",
              "       [  8593.85 ],\n",
              "       [101203.05 ],\n",
              "       [ 94446.6  ],\n",
              "       [101139.625],\n",
              "       [131702.325],\n",
              "       [131368.275],\n",
              "       [110574.525],\n",
              "       [102553.8  ],\n",
              "       [ 86218.6  ],\n",
              "       [116285.65 ],\n",
              "       [114013.725],\n",
              "       [117193.   ],\n",
              "       [116550.75 ],\n",
              "       [ 91621.175],\n",
              "       [ 49078.1  ],\n",
              "       [ 62600.   ],\n",
              "       [ 95227.25 ],\n",
              "       [ 78413.65 ],\n",
              "       [ 75548.075],\n",
              "       [ 44936.875],\n",
              "       [ 14394.05 ],\n",
              "       [ 63129.65 ],\n",
              "       [ 78664.325],\n",
              "       [ 71539.4  ],\n",
              "       [ 58680.475],\n",
              "       [ 65410.725],\n",
              "       [ 82898.   ],\n",
              "       [ 82095.   ],\n",
              "       [105844.   ],\n",
              "       [157722.   ],\n",
              "       [131371.   ],\n",
              "       [121908.   ]])"
            ]
          },
          "metadata": {},
          "execution_count": 106
        }
      ]
    },
    {
      "cell_type": "markdown",
      "source": [
        "##Gráfico da Série Temporal - Consumo Ponta"
      ],
      "metadata": {
        "id": "UHYVzMNsCCZg"
      }
    },
    {
      "cell_type": "code",
      "source": [
        "plt.plot(highprice_consume_training_set)\n",
        "plt.xlabel(\"Meses\")\n",
        "plt.ylabel(\"Kilowatts\")\n",
        "plt.title(\"Consumo Ponta\")\n",
        "plt.show()"
      ],
      "metadata": {
        "colab": {
          "base_uri": "https://localhost:8080/",
          "height": 472
        },
        "outputId": "0de59c17-6b5b-405d-e0db-ccf5a12ac049",
        "id": "_FAUvqnACCZh"
      },
      "execution_count": 107,
      "outputs": [
        {
          "output_type": "display_data",
          "data": {
            "text/plain": [
              "<Figure size 640x480 with 1 Axes>"
            ],
            "image/png": "[encoded data removed]"
          },
          "metadata": {}
        }
      ]
    },
    {
      "cell_type": "markdown",
      "source": [
        "##Normalização - Consumo Ponta"
      ],
      "metadata": {
        "id": "nUR8VxcjCCZh"
      }
    },
    {
      "cell_type": "code",
      "source": [
        "from sklearn.preprocessing import MinMaxScaler\n",
        "sc = MinMaxScaler(feature_range = (0, 1))\n",
        "highprice_consume_training_set_scaled = sc.fit_transform(highprice_consume_training_set)"
      ],
      "metadata": {
        "id": "FmLEJfnQCCZh"
      },
      "execution_count": 108,
      "outputs": []
    },
    {
      "cell_type": "markdown",
      "source": [
        "##Criação da Estrutura de Dados - Consumo Ponta"
      ],
      "metadata": {
        "id": "Jscg8teOCCZh"
      }
    },
    {
      "cell_type": "code",
      "source": [
        "window = 10\n",
        "trainSize = len(highprice_consume_training_set_scaled)\n",
        "horizon = 10\n",
        "highprice_consume_X_train = []\n",
        "highprice_consume_y_train = []\n",
        "for i in range(window, trainSize-horizon):\n",
        "    highprice_consume_X_train.append(highprice_consume_training_set_scaled[i-window:i, 0])\n",
        "    highprice_consume_y_train.append(highprice_consume_training_set_scaled[i:i+window, 0])\n",
        "highprice_consume_X_train, highprice_consume_y_train = np.array(highprice_consume_X_train), np.array(highprice_consume_y_train)"
      ],
      "metadata": {
        "id": "MU3dKzsHCCZh"
      },
      "execution_count": 109,
      "outputs": []
    },
    {
      "cell_type": "markdown",
      "source": [
        "##Reshaping - Consumo Ponta"
      ],
      "metadata": {
        "id": "sS67moOzCCZi"
      }
    },
    {
      "cell_type": "code",
      "source": [
        "highprice_consume_X_train.shape"
      ],
      "metadata": {
        "colab": {
          "base_uri": "https://localhost:8080/"
        },
        "outputId": "db8b5e39-b6df-47af-9764-0aed9956eb0f",
        "id": "gYznRryuCCZi"
      },
      "execution_count": 110,
      "outputs": [
        {
          "output_type": "execute_result",
          "data": {
            "text/plain": [
              "(22, 10)"
            ]
          },
          "metadata": {},
          "execution_count": 110
        }
      ]
    },
    {
      "cell_type": "code",
      "source": [
        "highprice_consume_y_train.shape"
      ],
      "metadata": {
        "colab": {
          "base_uri": "https://localhost:8080/"
        },
        "outputId": "9bbe7e6e-6ea9-4b5f-ec0c-34b0eddfc1cb",
        "id": "7_xn0VC-CCZi"
      },
      "execution_count": 111,
      "outputs": [
        {
          "output_type": "execute_result",
          "data": {
            "text/plain": [
              "(22, 10)"
            ]
          },
          "metadata": {},
          "execution_count": 111
        }
      ]
    },
    {
      "cell_type": "code",
      "source": [
        "highprice_consume_X_train = np.reshape(highprice_consume_X_train, (highprice_consume_X_train.shape[0], highprice_consume_X_train.shape[1], 1))"
      ],
      "metadata": {
        "id": "rkmE_18CCCZi"
      },
      "execution_count": 112,
      "outputs": []
    },
    {
      "cell_type": "code",
      "source": [
        "highprice_consume_X_train.shape"
      ],
      "metadata": {
        "colab": {
          "base_uri": "https://localhost:8080/"
        },
        "outputId": "def316a3-6225-43e2-b81f-86f5f4430de8",
        "id": "kJue9bUKCCZi"
      },
      "execution_count": 113,
      "outputs": [
        {
          "output_type": "execute_result",
          "data": {
            "text/plain": [
              "(22, 10, 1)"
            ]
          },
          "metadata": {},
          "execution_count": 113
        }
      ]
    },
    {
      "cell_type": "code",
      "source": [
        "highprice_consume_y_train = np.reshape(highprice_consume_y_train, (highprice_consume_y_train.shape[0], highprice_consume_y_train.shape[1], 1))"
      ],
      "metadata": {
        "id": "3uJUIkerCCZj"
      },
      "execution_count": 114,
      "outputs": []
    },
    {
      "cell_type": "code",
      "source": [
        "highprice_consume_y_train.shape"
      ],
      "metadata": {
        "colab": {
          "base_uri": "https://localhost:8080/"
        },
        "outputId": "fea1b876-8114-432b-bda9-a55df7bfe919",
        "id": "ALqRX_dPCCZj"
      },
      "execution_count": 115,
      "outputs": [
        {
          "output_type": "execute_result",
          "data": {
            "text/plain": [
              "(22, 10, 1)"
            ]
          },
          "metadata": {},
          "execution_count": 115
        }
      ]
    },
    {
      "cell_type": "markdown",
      "source": [
        "#Construção da RNN - Consumo Ponta"
      ],
      "metadata": {
        "id": "R5N-s6DZCCZj"
      }
    },
    {
      "cell_type": "markdown",
      "source": [
        "##Importação das Bibliotecas"
      ],
      "metadata": {
        "id": "2nL1_XHYCCZj"
      }
    },
    {
      "cell_type": "code",
      "source": [
        "from keras.models import Sequential\n",
        "from keras.layers import Dense\n",
        "from keras.layers import LSTM\n",
        "from keras.layers import Dropout"
      ],
      "metadata": {
        "id": "6jkpuHzlCCZk"
      },
      "execution_count": 116,
      "outputs": []
    },
    {
      "cell_type": "markdown",
      "source": [
        "##Construção da Rede Completa"
      ],
      "metadata": {
        "id": "dz5RrjvdCCZk"
      }
    },
    {
      "cell_type": "code",
      "source": [
        "# Inicializar a RNN\n",
        "regressor = Sequential()\n",
        "\n",
        "# Adicionar a primeira camada LSTM e Dropout \n",
        "regressor.add(LSTM(units = 100, return_sequences = True, input_shape = (highprice_consume_X_train.shape[1], 1)))\n",
        " \n",
        "# Adicionar a segunda camada LSTM e Dropout\n",
        "regressor.add(LSTM(units = 20))\n",
        "regressor.add(Dropout(0.3))\n",
        " \n",
        "# camada de saída\n",
        "regressor.add(Dense(units = 1))\n",
        " \n",
        "# Compilar a rede\n",
        "regressor.compile(optimizer = 'adam', loss = 'mean_squared_error')\n",
        "\n",
        "# Visualizar a rede\n",
        "regressor.summary()"
      ],
      "metadata": {
        "colab": {
          "base_uri": "https://localhost:8080/"
        },
        "outputId": "2a008027-35eb-4d42-d216-7669bc41a298",
        "id": "tEKeoXG2CCZk"
      },
      "execution_count": 128,
      "outputs": [
        {
          "output_type": "stream",
          "name": "stdout",
          "text": [
            "Model: \"sequential_9\"\n",
            "_________________________________________________________________\n",
            " Layer (type)                Output Shape              Param #   \n",
            "=================================================================\n",
            " lstm_18 (LSTM)              (None, 10, 100)           40800     \n",
            "                                                                 \n",
            " lstm_19 (LSTM)              (None, 20)                9680      \n",
            "                                                                 \n",
            " dropout_9 (Dropout)         (None, 20)                0         \n",
            "                                                                 \n",
            " dense_9 (Dense)             (None, 1)                 21        \n",
            "                                                                 \n",
            "=================================================================\n",
            "Total params: 50,501\n",
            "Trainable params: 50,501\n",
            "Non-trainable params: 0\n",
            "_________________________________________________________________\n"
          ]
        }
      ]
    },
    {
      "cell_type": "markdown",
      "source": [
        "##Treinamento"
      ],
      "metadata": {
        "id": "oZySFuxoCCZk"
      }
    },
    {
      "cell_type": "code",
      "source": [
        "regressor.fit(highprice_consume_X_train, highprice_consume_y_train, epochs = 200, batch_size = 7)"
      ],
      "metadata": {
        "colab": {
          "base_uri": "https://localhost:8080/"
        },
        "outputId": "16abcb96-726a-4fe8-f7d7-f1ba086ce5b7",
        "id": "gbL9l_9MCCZk"
      },
      "execution_count": 129,
      "outputs": [
        {
          "output_type": "stream",
          "name": "stdout",
          "text": [
            "Epoch 1/200\n",
            "4/4 [==============================] - 3s 8ms/step - loss: 0.2771\n",
            "Epoch 2/200\n",
            "4/4 [==============================] - 0s 8ms/step - loss: 0.1450\n",
            "Epoch 3/200\n",
            "4/4 [==============================] - 0s 8ms/step - loss: 0.0824\n",
            "Epoch 4/200\n",
            "4/4 [==============================] - 0s 9ms/step - loss: 0.0950\n",
            "Epoch 5/200\n",
            "4/4 [==============================] - 0s 9ms/step - loss: 0.0804\n",
            "Epoch 6/200\n",
            "4/4 [==============================] - 0s 8ms/step - loss: 0.0743\n",
            "Epoch 7/200\n",
            "4/4 [==============================] - 0s 10ms/step - loss: 0.0709\n",
            "Epoch 8/200\n",
            "4/4 [==============================] - 0s 10ms/step - loss: 0.0673\n",
            "Epoch 9/200\n",
            "4/4 [==============================] - 0s 8ms/step - loss: 0.0652\n",
            "Epoch 10/200\n",
            "4/4 [==============================] - 0s 8ms/step - loss: 0.0681\n",
            "Epoch 11/200\n",
            "4/4 [==============================] - 0s 8ms/step - loss: 0.0683\n",
            "Epoch 12/200\n",
            "4/4 [==============================] - 0s 8ms/step - loss: 0.0566\n",
            "Epoch 13/200\n",
            "4/4 [==============================] - 0s 7ms/step - loss: 0.0704\n",
            "Epoch 14/200\n",
            "4/4 [==============================] - 0s 8ms/step - loss: 0.0723\n",
            "Epoch 15/200\n",
            "4/4 [==============================] - 0s 10ms/step - loss: 0.0608\n",
            "Epoch 16/200\n",
            "4/4 [==============================] - 0s 9ms/step - loss: 0.0605\n",
            "Epoch 17/200\n",
            "4/4 [==============================] - 0s 8ms/step - loss: 0.0759\n",
            "Epoch 18/200\n",
            "4/4 [==============================] - 0s 8ms/step - loss: 0.0616\n",
            "Epoch 19/200\n",
            "4/4 [==============================] - 0s 8ms/step - loss: 0.0597\n",
            "Epoch 20/200\n",
            "4/4 [==============================] - 0s 8ms/step - loss: 0.0532\n",
            "Epoch 21/200\n",
            "4/4 [==============================] - 0s 8ms/step - loss: 0.0600\n",
            "Epoch 22/200\n",
            "4/4 [==============================] - 0s 11ms/step - loss: 0.0560\n",
            "Epoch 23/200\n",
            "4/4 [==============================] - 0s 8ms/step - loss: 0.0589\n",
            "Epoch 24/200\n",
            "4/4 [==============================] - 0s 7ms/step - loss: 0.0522\n",
            "Epoch 25/200\n",
            "4/4 [==============================] - 0s 9ms/step - loss: 0.0475\n",
            "Epoch 26/200\n",
            "4/4 [==============================] - 0s 8ms/step - loss: 0.0535\n",
            "Epoch 27/200\n",
            "4/4 [==============================] - 0s 7ms/step - loss: 0.0562\n",
            "Epoch 28/200\n",
            "4/4 [==============================] - 0s 8ms/step - loss: 0.0540\n",
            "Epoch 29/200\n",
            "4/4 [==============================] - 0s 8ms/step - loss: 0.0586\n",
            "Epoch 30/200\n",
            "4/4 [==============================] - 0s 10ms/step - loss: 0.0539\n",
            "Epoch 31/200\n",
            "4/4 [==============================] - 0s 7ms/step - loss: 0.0511\n",
            "Epoch 32/200\n",
            "4/4 [==============================] - 0s 7ms/step - loss: 0.0476\n",
            "Epoch 33/200\n",
            "4/4 [==============================] - 0s 7ms/step - loss: 0.0441\n",
            "Epoch 34/200\n",
            "4/4 [==============================] - 0s 8ms/step - loss: 0.0485\n",
            "Epoch 35/200\n",
            "4/4 [==============================] - 0s 7ms/step - loss: 0.0493\n",
            "Epoch 36/200\n",
            "4/4 [==============================] - 0s 8ms/step - loss: 0.0503\n",
            "Epoch 37/200\n",
            "4/4 [==============================] - 0s 9ms/step - loss: 0.0358\n",
            "Epoch 38/200\n",
            "4/4 [==============================] - 0s 8ms/step - loss: 0.0421\n",
            "Epoch 39/200\n",
            "4/4 [==============================] - 0s 8ms/step - loss: 0.0402\n",
            "Epoch 40/200\n",
            "4/4 [==============================] - 0s 9ms/step - loss: 0.0434\n",
            "Epoch 41/200\n",
            "4/4 [==============================] - 0s 9ms/step - loss: 0.0333\n",
            "Epoch 42/200\n",
            "4/4 [==============================] - 0s 8ms/step - loss: 0.0348\n",
            "Epoch 43/200\n",
            "4/4 [==============================] - 0s 8ms/step - loss: 0.0399\n",
            "Epoch 44/200\n",
            "4/4 [==============================] - 0s 9ms/step - loss: 0.0328\n",
            "Epoch 45/200\n",
            "4/4 [==============================] - 0s 8ms/step - loss: 0.0335\n",
            "Epoch 46/200\n",
            "4/4 [==============================] - 0s 8ms/step - loss: 0.0319\n",
            "Epoch 47/200\n",
            "4/4 [==============================] - 0s 8ms/step - loss: 0.0294\n",
            "Epoch 48/200\n",
            "4/4 [==============================] - 0s 8ms/step - loss: 0.0299\n",
            "Epoch 49/200\n",
            "4/4 [==============================] - 0s 7ms/step - loss: 0.0347\n",
            "Epoch 50/200\n",
            "4/4 [==============================] - 0s 7ms/step - loss: 0.0361\n",
            "Epoch 51/200\n",
            "4/4 [==============================] - 0s 8ms/step - loss: 0.0374\n",
            "Epoch 52/200\n",
            "4/4 [==============================] - 0s 10ms/step - loss: 0.0288\n",
            "Epoch 53/200\n",
            "4/4 [==============================] - 0s 9ms/step - loss: 0.0360\n",
            "Epoch 54/200\n",
            "4/4 [==============================] - 0s 9ms/step - loss: 0.0320\n",
            "Epoch 55/200\n",
            "4/4 [==============================] - 0s 9ms/step - loss: 0.0324\n",
            "Epoch 56/200\n",
            "4/4 [==============================] - 0s 8ms/step - loss: 0.0326\n",
            "Epoch 57/200\n",
            "4/4 [==============================] - 0s 8ms/step - loss: 0.0294\n",
            "Epoch 58/200\n",
            "4/4 [==============================] - 0s 8ms/step - loss: 0.0336\n",
            "Epoch 59/200\n",
            "4/4 [==============================] - 0s 9ms/step - loss: 0.0354\n",
            "Epoch 60/200\n",
            "4/4 [==============================] - 0s 11ms/step - loss: 0.0370\n",
            "Epoch 61/200\n",
            "4/4 [==============================] - 0s 9ms/step - loss: 0.0342\n",
            "Epoch 62/200\n",
            "4/4 [==============================] - 0s 10ms/step - loss: 0.0330\n",
            "Epoch 63/200\n",
            "4/4 [==============================] - 0s 10ms/step - loss: 0.0292\n",
            "Epoch 64/200\n",
            "4/4 [==============================] - 0s 9ms/step - loss: 0.0327\n",
            "Epoch 65/200\n",
            "4/4 [==============================] - 0s 9ms/step - loss: 0.0318\n",
            "Epoch 66/200\n",
            "4/4 [==============================] - 0s 10ms/step - loss: 0.0362\n",
            "Epoch 67/200\n",
            "4/4 [==============================] - 0s 11ms/step - loss: 0.0311\n",
            "Epoch 68/200\n",
            "4/4 [==============================] - 0s 8ms/step - loss: 0.0336\n",
            "Epoch 69/200\n",
            "4/4 [==============================] - 0s 7ms/step - loss: 0.0323\n",
            "Epoch 70/200\n",
            "4/4 [==============================] - 0s 7ms/step - loss: 0.0325\n",
            "Epoch 71/200\n",
            "4/4 [==============================] - 0s 9ms/step - loss: 0.0340\n",
            "Epoch 72/200\n",
            "4/4 [==============================] - 0s 9ms/step - loss: 0.0333\n",
            "Epoch 73/200\n",
            "4/4 [==============================] - 0s 10ms/step - loss: 0.0329\n",
            "Epoch 74/200\n",
            "4/4 [==============================] - 0s 9ms/step - loss: 0.0359\n",
            "Epoch 75/200\n",
            "4/4 [==============================] - 0s 8ms/step - loss: 0.0370\n",
            "Epoch 76/200\n",
            "4/4 [==============================] - 0s 8ms/step - loss: 0.0329\n",
            "Epoch 77/200\n",
            "4/4 [==============================] - 0s 8ms/step - loss: 0.0354\n",
            "Epoch 78/200\n",
            "4/4 [==============================] - 0s 8ms/step - loss: 0.0348\n",
            "Epoch 79/200\n",
            "4/4 [==============================] - 0s 8ms/step - loss: 0.0531\n",
            "Epoch 80/200\n",
            "4/4 [==============================] - 0s 8ms/step - loss: 0.0383\n",
            "Epoch 81/200\n",
            "4/4 [==============================] - 0s 8ms/step - loss: 0.0418\n",
            "Epoch 82/200\n",
            "4/4 [==============================] - 0s 10ms/step - loss: 0.0420\n",
            "Epoch 83/200\n",
            "4/4 [==============================] - 0s 8ms/step - loss: 0.0306\n",
            "Epoch 84/200\n",
            "4/4 [==============================] - 0s 8ms/step - loss: 0.0328\n",
            "Epoch 85/200\n",
            "4/4 [==============================] - 0s 9ms/step - loss: 0.0311\n",
            "Epoch 86/200\n",
            "4/4 [==============================] - 0s 7ms/step - loss: 0.0291\n",
            "Epoch 87/200\n",
            "4/4 [==============================] - 0s 7ms/step - loss: 0.0295\n",
            "Epoch 88/200\n",
            "4/4 [==============================] - 0s 7ms/step - loss: 0.0361\n",
            "Epoch 89/200\n",
            "4/4 [==============================] - 0s 11ms/step - loss: 0.0334\n",
            "Epoch 90/200\n",
            "4/4 [==============================] - 0s 8ms/step - loss: 0.0276\n",
            "Epoch 91/200\n",
            "4/4 [==============================] - 0s 7ms/step - loss: 0.0338\n",
            "Epoch 92/200\n",
            "4/4 [==============================] - 0s 8ms/step - loss: 0.0308\n",
            "Epoch 93/200\n",
            "4/4 [==============================] - 0s 8ms/step - loss: 0.0327\n",
            "Epoch 94/200\n",
            "4/4 [==============================] - 0s 7ms/step - loss: 0.0303\n",
            "Epoch 95/200\n",
            "4/4 [==============================] - 0s 8ms/step - loss: 0.0297\n",
            "Epoch 96/200\n",
            "4/4 [==============================] - 0s 7ms/step - loss: 0.0352\n",
            "Epoch 97/200\n",
            "4/4 [==============================] - 0s 9ms/step - loss: 0.0355\n",
            "Epoch 98/200\n",
            "4/4 [==============================] - 0s 7ms/step - loss: 0.0328\n",
            "Epoch 99/200\n",
            "4/4 [==============================] - 0s 7ms/step - loss: 0.0316\n",
            "Epoch 100/200\n",
            "4/4 [==============================] - 0s 8ms/step - loss: 0.0293\n",
            "Epoch 101/200\n",
            "4/4 [==============================] - 0s 8ms/step - loss: 0.0306\n",
            "Epoch 102/200\n",
            "4/4 [==============================] - 0s 7ms/step - loss: 0.0314\n",
            "Epoch 103/200\n",
            "4/4 [==============================] - 0s 7ms/step - loss: 0.0364\n",
            "Epoch 104/200\n",
            "4/4 [==============================] - 0s 7ms/step - loss: 0.0294\n",
            "Epoch 105/200\n",
            "4/4 [==============================] - 0s 9ms/step - loss: 0.0332\n",
            "Epoch 106/200\n",
            "4/4 [==============================] - 0s 7ms/step - loss: 0.0334\n",
            "Epoch 107/200\n",
            "4/4 [==============================] - 0s 8ms/step - loss: 0.0310\n",
            "Epoch 108/200\n",
            "4/4 [==============================] - 0s 8ms/step - loss: 0.0324\n",
            "Epoch 109/200\n",
            "4/4 [==============================] - 0s 8ms/step - loss: 0.0314\n",
            "Epoch 110/200\n",
            "4/4 [==============================] - 0s 9ms/step - loss: 0.0313\n",
            "Epoch 111/200\n",
            "4/4 [==============================] - 0s 8ms/step - loss: 0.0321\n",
            "Epoch 112/200\n",
            "4/4 [==============================] - 0s 7ms/step - loss: 0.0292\n",
            "Epoch 113/200\n",
            "4/4 [==============================] - 0s 9ms/step - loss: 0.0309\n",
            "Epoch 114/200\n",
            "4/4 [==============================] - 0s 7ms/step - loss: 0.0329\n",
            "Epoch 115/200\n",
            "4/4 [==============================] - 0s 8ms/step - loss: 0.0300\n",
            "Epoch 116/200\n",
            "4/4 [==============================] - 0s 9ms/step - loss: 0.0299\n",
            "Epoch 117/200\n",
            "4/4 [==============================] - 0s 9ms/step - loss: 0.0331\n",
            "Epoch 118/200\n",
            "4/4 [==============================] - 0s 8ms/step - loss: 0.0415\n",
            "Epoch 119/200\n",
            "4/4 [==============================] - 0s 8ms/step - loss: 0.0324\n",
            "Epoch 120/200\n",
            "4/4 [==============================] - 0s 10ms/step - loss: 0.0327\n",
            "Epoch 121/200\n",
            "4/4 [==============================] - 0s 8ms/step - loss: 0.0342\n",
            "Epoch 122/200\n",
            "4/4 [==============================] - 0s 8ms/step - loss: 0.0333\n",
            "Epoch 123/200\n",
            "4/4 [==============================] - 0s 9ms/step - loss: 0.0373\n",
            "Epoch 124/200\n",
            "4/4 [==============================] - 0s 8ms/step - loss: 0.0303\n",
            "Epoch 125/200\n",
            "4/4 [==============================] - 0s 8ms/step - loss: 0.0298\n",
            "Epoch 126/200\n",
            "4/4 [==============================] - 0s 8ms/step - loss: 0.0301\n",
            "Epoch 127/200\n",
            "4/4 [==============================] - 0s 8ms/step - loss: 0.0310\n",
            "Epoch 128/200\n",
            "4/4 [==============================] - 0s 7ms/step - loss: 0.0295\n",
            "Epoch 129/200\n",
            "4/4 [==============================] - 0s 7ms/step - loss: 0.0304\n",
            "Epoch 130/200\n",
            "4/4 [==============================] - 0s 6ms/step - loss: 0.0310\n",
            "Epoch 131/200\n",
            "4/4 [==============================] - 0s 12ms/step - loss: 0.0331\n",
            "Epoch 132/200\n",
            "4/4 [==============================] - 0s 12ms/step - loss: 0.0303\n",
            "Epoch 133/200\n",
            "4/4 [==============================] - 0s 11ms/step - loss: 0.0320\n",
            "Epoch 134/200\n",
            "4/4 [==============================] - 0s 11ms/step - loss: 0.0299\n",
            "Epoch 135/200\n",
            "4/4 [==============================] - 0s 13ms/step - loss: 0.0329\n",
            "Epoch 136/200\n",
            "4/4 [==============================] - 0s 12ms/step - loss: 0.0336\n",
            "Epoch 137/200\n",
            "4/4 [==============================] - 0s 11ms/step - loss: 0.0314\n",
            "Epoch 138/200\n",
            "4/4 [==============================] - 0s 12ms/step - loss: 0.0300\n",
            "Epoch 139/200\n",
            "4/4 [==============================] - 0s 12ms/step - loss: 0.0327\n",
            "Epoch 140/200\n",
            "4/4 [==============================] - 0s 22ms/step - loss: 0.0309\n",
            "Epoch 141/200\n",
            "4/4 [==============================] - 0s 12ms/step - loss: 0.0319\n",
            "Epoch 142/200\n",
            "4/4 [==============================] - 0s 18ms/step - loss: 0.0322\n",
            "Epoch 143/200\n",
            "4/4 [==============================] - 0s 26ms/step - loss: 0.0393\n",
            "Epoch 144/200\n",
            "4/4 [==============================] - 0s 24ms/step - loss: 0.0343\n",
            "Epoch 145/200\n",
            "4/4 [==============================] - 0s 15ms/step - loss: 0.0307\n",
            "Epoch 146/200\n",
            "4/4 [==============================] - 0s 12ms/step - loss: 0.0298\n",
            "Epoch 147/200\n",
            "4/4 [==============================] - 0s 20ms/step - loss: 0.0297\n",
            "Epoch 148/200\n",
            "4/4 [==============================] - 0s 13ms/step - loss: 0.0327\n",
            "Epoch 149/200\n",
            "4/4 [==============================] - 0s 23ms/step - loss: 0.0303\n",
            "Epoch 150/200\n",
            "4/4 [==============================] - 0s 12ms/step - loss: 0.0336\n",
            "Epoch 151/200\n",
            "4/4 [==============================] - 0s 25ms/step - loss: 0.0311\n",
            "Epoch 152/200\n",
            "4/4 [==============================] - 0s 12ms/step - loss: 0.0314\n",
            "Epoch 153/200\n",
            "4/4 [==============================] - 0s 9ms/step - loss: 0.0299\n",
            "Epoch 154/200\n",
            "4/4 [==============================] - 0s 9ms/step - loss: 0.0324\n",
            "Epoch 155/200\n",
            "4/4 [==============================] - 0s 10ms/step - loss: 0.0308\n",
            "Epoch 156/200\n",
            "4/4 [==============================] - 0s 10ms/step - loss: 0.0316\n",
            "Epoch 157/200\n",
            "4/4 [==============================] - 0s 8ms/step - loss: 0.0305\n",
            "Epoch 158/200\n",
            "4/4 [==============================] - 0s 8ms/step - loss: 0.0315\n",
            "Epoch 159/200\n",
            "4/4 [==============================] - 0s 8ms/step - loss: 0.0322\n",
            "Epoch 160/200\n",
            "4/4 [==============================] - 0s 7ms/step - loss: 0.0335\n",
            "Epoch 161/200\n",
            "4/4 [==============================] - 0s 8ms/step - loss: 0.0323\n",
            "Epoch 162/200\n",
            "4/4 [==============================] - 0s 9ms/step - loss: 0.0298\n",
            "Epoch 163/200\n",
            "4/4 [==============================] - 0s 12ms/step - loss: 0.0312\n",
            "Epoch 164/200\n",
            "4/4 [==============================] - 0s 8ms/step - loss: 0.0300\n",
            "Epoch 165/200\n",
            "4/4 [==============================] - 0s 10ms/step - loss: 0.0307\n",
            "Epoch 166/200\n",
            "4/4 [==============================] - 0s 9ms/step - loss: 0.0301\n",
            "Epoch 167/200\n",
            "4/4 [==============================] - 0s 9ms/step - loss: 0.0291\n",
            "Epoch 168/200\n",
            "4/4 [==============================] - 0s 10ms/step - loss: 0.0305\n",
            "Epoch 169/200\n",
            "4/4 [==============================] - 0s 8ms/step - loss: 0.0288\n",
            "Epoch 170/200\n",
            "4/4 [==============================] - 0s 8ms/step - loss: 0.0315\n",
            "Epoch 171/200\n",
            "4/4 [==============================] - 0s 9ms/step - loss: 0.0310\n",
            "Epoch 172/200\n",
            "4/4 [==============================] - 0s 9ms/step - loss: 0.0314\n",
            "Epoch 173/200\n",
            "4/4 [==============================] - 0s 8ms/step - loss: 0.0308\n",
            "Epoch 174/200\n",
            "4/4 [==============================] - 0s 8ms/step - loss: 0.0320\n",
            "Epoch 175/200\n",
            "4/4 [==============================] - 0s 11ms/step - loss: 0.0326\n",
            "Epoch 176/200\n",
            "4/4 [==============================] - 0s 8ms/step - loss: 0.0293\n",
            "Epoch 177/200\n",
            "4/4 [==============================] - 0s 9ms/step - loss: 0.0298\n",
            "Epoch 178/200\n",
            "4/4 [==============================] - 0s 8ms/step - loss: 0.0287\n",
            "Epoch 179/200\n",
            "4/4 [==============================] - 0s 10ms/step - loss: 0.0301\n",
            "Epoch 180/200\n",
            "4/4 [==============================] - 0s 9ms/step - loss: 0.0276\n",
            "Epoch 181/200\n",
            "4/4 [==============================] - 0s 12ms/step - loss: 0.0290\n",
            "Epoch 182/200\n",
            "4/4 [==============================] - 0s 9ms/step - loss: 0.0326\n",
            "Epoch 183/200\n",
            "4/4 [==============================] - 0s 8ms/step - loss: 0.0300\n",
            "Epoch 184/200\n",
            "4/4 [==============================] - 0s 10ms/step - loss: 0.0289\n",
            "Epoch 185/200\n",
            "4/4 [==============================] - 0s 10ms/step - loss: 0.0296\n",
            "Epoch 186/200\n",
            "4/4 [==============================] - 0s 10ms/step - loss: 0.0330\n",
            "Epoch 187/200\n",
            "4/4 [==============================] - 0s 11ms/step - loss: 0.0299\n",
            "Epoch 188/200\n",
            "4/4 [==============================] - 0s 10ms/step - loss: 0.0324\n",
            "Epoch 189/200\n",
            "4/4 [==============================] - 0s 8ms/step - loss: 0.0318\n",
            "Epoch 190/200\n",
            "4/4 [==============================] - 0s 8ms/step - loss: 0.0314\n",
            "Epoch 191/200\n",
            "4/4 [==============================] - 0s 8ms/step - loss: 0.0349\n",
            "Epoch 192/200\n",
            "4/4 [==============================] - 0s 9ms/step - loss: 0.0308\n",
            "Epoch 193/200\n",
            "4/4 [==============================] - 0s 8ms/step - loss: 0.0294\n",
            "Epoch 194/200\n",
            "4/4 [==============================] - 0s 9ms/step - loss: 0.0305\n",
            "Epoch 195/200\n",
            "4/4 [==============================] - 0s 9ms/step - loss: 0.0328\n",
            "Epoch 196/200\n",
            "4/4 [==============================] - 0s 9ms/step - loss: 0.0299\n",
            "Epoch 197/200\n",
            "4/4 [==============================] - 0s 8ms/step - loss: 0.0312\n",
            "Epoch 198/200\n",
            "4/4 [==============================] - 0s 7ms/step - loss: 0.0319\n",
            "Epoch 199/200\n",
            "4/4 [==============================] - 0s 8ms/step - loss: 0.0338\n",
            "Epoch 200/200\n",
            "4/4 [==============================] - 0s 9ms/step - loss: 0.0319\n"
          ]
        },
        {
          "output_type": "execute_result",
          "data": {
            "text/plain": [
              "<keras.callbacks.History at 0x7f55433963b0>"
            ]
          },
          "metadata": {},
          "execution_count": 129
        }
      ]
    },
    {
      "cell_type": "markdown",
      "source": [
        "#Previsão e Análise dos Resultados - Consumo Ponta"
      ],
      "metadata": {
        "id": "CfbREz3DCCZm"
      }
    },
    {
      "cell_type": "markdown",
      "source": [
        "##Dados de Teste"
      ],
      "metadata": {
        "id": "ml2JpkwZCCZm"
      }
    },
    {
      "cell_type": "code",
      "source": [
        "highprice_consume_test_set = dataset_all.iloc[42:,2:3].values"
      ],
      "metadata": {
        "id": "XElgksAfCCZm"
      },
      "execution_count": 130,
      "outputs": []
    },
    {
      "cell_type": "markdown",
      "source": [
        "##Construção da Estrutura para Teste"
      ],
      "metadata": {
        "id": "yRVsCo8aCCZn"
      }
    },
    {
      "cell_type": "code",
      "source": [
        "highprice_consume_total = pd.concat((dataset_consume_demand.iloc[:42,2:3], dataset_consume_demand.iloc[42:,2:3]), axis = 0)\n",
        "dcd_testLength = len(dataset_consume_demand.iloc[42:,:])\n",
        "inputs = highprice_consume_total[len(highprice_consume_total) - dcd_testLength - window:].values\n",
        "inputs = inputs.reshape(-1,1)\n",
        "inputs = sc.transform(inputs)\n",
        "highprice_consume_X_test = []\n",
        "for i in range(window, dcd_testLength + window): \n",
        "    highprice_consume_X_test.append(inputs[i-window:i, 0])\n",
        "highprice_consume_X_test = np.array(highprice_consume_X_test)\n",
        "highprice_consume_X_test = np.reshape(highprice_consume_X_test, (highprice_consume_X_test.shape[0], highprice_consume_X_test.shape[1], 1))"
      ],
      "metadata": {
        "id": "UoFV8_b6CCZn"
      },
      "execution_count": 131,
      "outputs": []
    },
    {
      "cell_type": "markdown",
      "source": [
        "##Realização das previsões"
      ],
      "metadata": {
        "id": "qE98OtxNCCZn"
      }
    },
    {
      "cell_type": "code",
      "source": [
        "predicted_highprice_consume = regressor.predict(highprice_consume_X_test)\n",
        "predicted_highprice_consume = sc.inverse_transform(predicted_highprice_consume)"
      ],
      "metadata": {
        "colab": {
          "base_uri": "https://localhost:8080/"
        },
        "outputId": "6099d5c5-2e4d-42d8-e1dd-1600b2faee14",
        "id": "1MyjuyJXCCZn"
      },
      "execution_count": 132,
      "outputs": [
        {
          "output_type": "stream",
          "name": "stdout",
          "text": [
            "1/1 [==============================] - 1s 687ms/step\n"
          ]
        }
      ]
    },
    {
      "cell_type": "code",
      "source": [
        "df_highprice_consume_training_set = pd.DataFrame(highprice_consume_training_set)"
      ],
      "metadata": {
        "id": "W7udPG8HCCZn"
      },
      "execution_count": 133,
      "outputs": []
    },
    {
      "cell_type": "markdown",
      "source": [
        "##Visualização dos Resultados de Treino e Teste"
      ],
      "metadata": {
        "id": "8h2kgAdLCCZo"
      }
    },
    {
      "cell_type": "code",
      "source": [
        "allTarget_highprice_consume = np.vstack((dataset_consume_demand.iloc[:42,2:3], dataset_consume_demand.iloc[42:,2:3]))\n",
        "training_predicted_highprice_consume = regressor.predict(highprice_consume_X_train)\n",
        "training_predicted_highprice_consume = sc.inverse_transform(training_predicted_highprice_consume)\n",
        "allForecasted_highprice_consume = np.vstack((df_highprice_consume_training_set[0:window], training_predicted_highprice_consume, predicted_highprice_consume))\n",
        "plt.plot(allTarget_highprice_consume, color = 'red', label = 'Real')\n",
        "plt.plot(allForecasted_highprice_consume, color = 'blue', label = 'Previsto')\n",
        "plt.title('Previsão de série temporal')\n",
        "plt.xlabel('Tempo')\n",
        "plt.ylabel('Consumo Ponta (kWh)')\n",
        "plt.legend()\n",
        "plt.savefig('predictions_training_test.svg')\n",
        "plt.show()"
      ],
      "metadata": {
        "colab": {
          "base_uri": "https://localhost:8080/",
          "height": 489
        },
        "outputId": "39f43a6a-bdd0-4eb5-9492-d9ce8b007cc8",
        "id": "j-Vtd4EOCCZo"
      },
      "execution_count": 134,
      "outputs": [
        {
          "output_type": "stream",
          "name": "stdout",
          "text": [
            "1/1 [==============================] - 0s 21ms/step\n"
          ]
        },
        {
          "output_type": "display_data",
          "data": {
            "text/plain": [
              "<Figure size 640x480 with 1 Axes>"
            ],
            "image/png": "[encoded data removed]"
          },
          "metadata": {}
        }
      ]
    },
    {
      "cell_type": "markdown",
      "source": [
        "#Métricas de Avaliação - Consumo Ponta"
      ],
      "metadata": {
        "id": "kFl98wsNCCZo"
      }
    },
    {
      "cell_type": "code",
      "source": [
        "import math\n",
        "from sklearn.metrics import mean_squared_error\n",
        "rmse = math.sqrt(mean_squared_error(highprice_consume_test_set, predicted_highprice_consume))\n",
        "print('RMSE: ', rmse)"
      ],
      "metadata": {
        "colab": {
          "base_uri": "https://localhost:8080/"
        },
        "outputId": "9b94c1ab-eeff-494f-b8ea-d86d962c9ce1",
        "id": "-m-NZXE2CCZo"
      },
      "execution_count": 135,
      "outputs": [
        {
          "output_type": "stream",
          "name": "stdout",
          "text": [
            "RMSE:  78190.39084525342\n"
          ]
        }
      ]
    },
    {
      "cell_type": "code",
      "source": [
        "mse = mean_squared_error(highprice_consume_test_set, predicted_highprice_consume)\n",
        "print('MSE: ',mse)"
      ],
      "metadata": {
        "colab": {
          "base_uri": "https://localhost:8080/"
        },
        "outputId": "270470ab-c5cd-4f3b-fcd8-9866d944ef49",
        "id": "exO0ITopCCZp"
      },
      "execution_count": 136,
      "outputs": [
        {
          "output_type": "stream",
          "name": "stdout",
          "text": [
            "MSE:  6113737220.53349\n"
          ]
        }
      ]
    },
    {
      "cell_type": "code",
      "source": [
        "mape = np.mean(np.abs((highprice_consume_test_set - predicted_highprice_consume) / highprice_consume_test_set)) * 100\n",
        "print('MAPE: ',mape)"
      ],
      "metadata": {
        "colab": {
          "base_uri": "https://localhost:8080/"
        },
        "outputId": "e51d7542-4dd0-4c55-ff42-1ba6e812ff5e",
        "id": "XOLFhjGSCCZp"
      },
      "execution_count": 137,
      "outputs": [
        {
          "output_type": "stream",
          "name": "stdout",
          "text": [
            "MAPE:  253264.63247647852\n"
          ]
        }
      ]
    },
    {
      "cell_type": "markdown",
      "source": [
        "#Processamento de Dados para a Previsão do Consumo Fora de Ponta"
      ],
      "metadata": {
        "id": "qHQVo1ceCn6k"
      }
    },
    {
      "cell_type": "markdown",
      "source": [
        "##Dados de Treinamento - Consumo Fora de Ponta"
      ],
      "metadata": {
        "id": "P6gz7xVpCumI"
      }
    },
    {
      "cell_type": "code",
      "source": [
        "lowprice_consume_training_set = dataset_consume_demand.iloc[:42,3:].values"
      ],
      "metadata": {
        "id": "e8ScUZMiCumI"
      },
      "execution_count": 139,
      "outputs": []
    },
    {
      "cell_type": "code",
      "source": [
        "lowprice_consume_training_set"
      ],
      "metadata": {
        "colab": {
          "base_uri": "https://localhost:8080/"
        },
        "outputId": "9c3b7059-efde-49c8-dfd7-2bf880b03564",
        "id": "hnfLtPKUCumI"
      },
      "execution_count": 140,
      "outputs": [
        {
          "output_type": "execute_result",
          "data": {
            "text/plain": [
              "array([[ 874408.3  ],\n",
              "       [ 832833.025],\n",
              "       [1145070.825],\n",
              "       [ 784432.125],\n",
              "       [ 908939.525],\n",
              "       [ 720235.675],\n",
              "       [ 725713.5  ],\n",
              "       [ 819731.8  ],\n",
              "       [ 835885.4  ],\n",
              "       [ 830062.025],\n",
              "       [  57412.9  ],\n",
              "       [ 872838.625],\n",
              "       [ 816289.875],\n",
              "       [ 942560.275],\n",
              "       [ 980245.1  ],\n",
              "       [ 989672.   ],\n",
              "       [ 901454.5  ],\n",
              "       [ 765679.85 ],\n",
              "       [ 673743.725],\n",
              "       [ 861699.   ],\n",
              "       [ 800527.4  ],\n",
              "       [ 902710.575],\n",
              "       [ 844562.775],\n",
              "       [ 787717.525],\n",
              "       [ 871894.525],\n",
              "       [ 827345.975],\n",
              "       [1104860.625],\n",
              "       [1011231.675],\n",
              "       [ 934715.925],\n",
              "       [ 596641.15 ],\n",
              "       [ 201275.2  ],\n",
              "       [ 851892.175],\n",
              "       [ 933425.25 ],\n",
              "       [1012204.55 ],\n",
              "       [ 853562.175],\n",
              "       [ 824799.25 ],\n",
              "       [ 888552.   ],\n",
              "       [ 845544.   ],\n",
              "       [1003296.   ],\n",
              "       [1269408.   ],\n",
              "       [1069320.   ],\n",
              "       [ 947520.   ]])"
            ]
          },
          "metadata": {},
          "execution_count": 140
        }
      ]
    },
    {
      "cell_type": "markdown",
      "source": [
        "##Gráfico da Série Temporal - Consumo Fora de Ponta"
      ],
      "metadata": {
        "id": "KfxIX_ApCumI"
      }
    },
    {
      "cell_type": "code",
      "source": [
        "plt.plot(lowprice_consume_training_set)\n",
        "plt.xlabel(\"Meses\")\n",
        "plt.ylabel(\"kWh\")\n",
        "plt.title(\"Consumo Fora de Ponta\")\n",
        "plt.show()"
      ],
      "metadata": {
        "colab": {
          "base_uri": "https://localhost:8080/",
          "height": 472
        },
        "outputId": "88fbeddd-4b55-4429-a225-27d039e766ba",
        "id": "KBzRFdv_CumI"
      },
      "execution_count": 141,
      "outputs": [
        {
          "output_type": "display_data",
          "data": {
            "text/plain": [
              "<Figure size 640x480 with 1 Axes>"
            ],
            "image/png": "[encoded data removed]"
          },
          "metadata": {}
        }
      ]
    },
    {
      "cell_type": "markdown",
      "source": [
        "##Normalização - Consumo Fora de Ponta"
      ],
      "metadata": {
        "id": "9gbZMA4JCumJ"
      }
    },
    {
      "cell_type": "code",
      "source": [
        "from sklearn.preprocessing import MinMaxScaler\n",
        "sc = MinMaxScaler(feature_range = (0, 1))\n",
        "lowprice_consume_training_set_scaled = sc.fit_transform(lowprice_consume_training_set)"
      ],
      "metadata": {
        "id": "kWbZqK3NCumJ"
      },
      "execution_count": 142,
      "outputs": []
    },
    {
      "cell_type": "markdown",
      "source": [
        "##Criação da Estrutura de Dados - Consumo Fora de Ponta"
      ],
      "metadata": {
        "id": "oTX-ZH0HCumJ"
      }
    },
    {
      "cell_type": "code",
      "source": [
        "window = 10\n",
        "trainSize = len(lowprice_consume_training_set_scaled)\n",
        "horizon = 10\n",
        "lowprice_consume_X_train = []\n",
        "lowprice_consume_y_train = []\n",
        "for i in range(window, trainSize-horizon):\n",
        "    lowprice_consume_X_train.append(lowprice_consume_training_set_scaled[i-window:i, 0])\n",
        "    lowprice_consume_y_train.append(lowprice_consume_training_set_scaled[i:i+window, 0])\n",
        "lowprice_consume_X_train, lowprice_consume_y_train = np.array(lowprice_consume_X_train), np.array(lowprice_consume_y_train)"
      ],
      "metadata": {
        "id": "f7c1SWvECumJ"
      },
      "execution_count": 143,
      "outputs": []
    },
    {
      "cell_type": "markdown",
      "source": [
        "##Reshaping - Consumo Fora de Ponta"
      ],
      "metadata": {
        "id": "n091OoDGCumK"
      }
    },
    {
      "cell_type": "code",
      "source": [
        "lowprice_consume_X_train.shape"
      ],
      "metadata": {
        "colab": {
          "base_uri": "https://localhost:8080/"
        },
        "outputId": "72241d32-0109-4337-9321-f9b848916e7f",
        "id": "PsjVCJE8CumK"
      },
      "execution_count": 144,
      "outputs": [
        {
          "output_type": "execute_result",
          "data": {
            "text/plain": [
              "(22, 10)"
            ]
          },
          "metadata": {},
          "execution_count": 144
        }
      ]
    },
    {
      "cell_type": "code",
      "source": [
        "lowprice_consume_y_train.shape"
      ],
      "metadata": {
        "colab": {
          "base_uri": "https://localhost:8080/"
        },
        "outputId": "87cbd90e-1003-4b45-ce2d-45c1e525f499",
        "id": "ajhb7lckCumK"
      },
      "execution_count": 145,
      "outputs": [
        {
          "output_type": "execute_result",
          "data": {
            "text/plain": [
              "(22, 10)"
            ]
          },
          "metadata": {},
          "execution_count": 145
        }
      ]
    },
    {
      "cell_type": "code",
      "source": [
        "lowprice_consume_X_train = np.reshape(lowprice_consume_X_train, (lowprice_consume_X_train.shape[0], lowprice_consume_X_train.shape[1], 1))"
      ],
      "metadata": {
        "id": "8ZrxI5a3CumK"
      },
      "execution_count": 146,
      "outputs": []
    },
    {
      "cell_type": "code",
      "source": [
        "lowprice_consume_X_train.shape"
      ],
      "metadata": {
        "colab": {
          "base_uri": "https://localhost:8080/"
        },
        "outputId": "21ddf6ea-415b-45f6-ccf5-5227ee376a3a",
        "id": "LGJ8VKfdCumK"
      },
      "execution_count": 147,
      "outputs": [
        {
          "output_type": "execute_result",
          "data": {
            "text/plain": [
              "(22, 10, 1)"
            ]
          },
          "metadata": {},
          "execution_count": 147
        }
      ]
    },
    {
      "cell_type": "code",
      "source": [
        "lowprice_consume_y_train = np.reshape(lowprice_consume_y_train, (lowprice_consume_y_train.shape[0], lowprice_consume_y_train.shape[1], 1))"
      ],
      "metadata": {
        "id": "GcHNC09zCumL"
      },
      "execution_count": 148,
      "outputs": []
    },
    {
      "cell_type": "code",
      "source": [
        "lowprice_consume_y_train.shape"
      ],
      "metadata": {
        "colab": {
          "base_uri": "https://localhost:8080/"
        },
        "outputId": "c4c72934-e752-4cb6-ee90-2d9b55c8b93f",
        "id": "pSrx3mTgCumL"
      },
      "execution_count": 149,
      "outputs": [
        {
          "output_type": "execute_result",
          "data": {
            "text/plain": [
              "(22, 10, 1)"
            ]
          },
          "metadata": {},
          "execution_count": 149
        }
      ]
    },
    {
      "cell_type": "markdown",
      "source": [
        "#Construção da RNN - Consumo Fora de Ponta"
      ],
      "metadata": {
        "id": "k_TVABYoCumL"
      }
    },
    {
      "cell_type": "markdown",
      "source": [
        "##Importação das Bibliotecas"
      ],
      "metadata": {
        "id": "s6u2LwDbCumL"
      }
    },
    {
      "cell_type": "code",
      "source": [
        "from keras.models import Sequential\n",
        "from keras.layers import Dense\n",
        "from keras.layers import LSTM\n",
        "from keras.layers import Dropout"
      ],
      "metadata": {
        "id": "KTfOBdvrCumL"
      },
      "execution_count": 150,
      "outputs": []
    },
    {
      "cell_type": "markdown",
      "source": [
        "##Construção da Rede Completa"
      ],
      "metadata": {
        "id": "flqMKNzHCumN"
      }
    },
    {
      "cell_type": "code",
      "source": [
        "# Inicializar a RNN\n",
        "regressor = Sequential()\n",
        "\n",
        "# Adicionar a primeira camada LSTM e Dropout \n",
        "regressor.add(LSTM(units = 100, return_sequences = True, input_shape = (lowprice_consume_X_train.shape[1], 1)))\n",
        "#regressor.add(Dropout(0.2))\n",
        " \n",
        "# Adicionar a segunda camada LSTM e Dropout\n",
        "#regressor.add(LSTM(units = 80, return_sequences = True))\n",
        "#regressor.add(Dropout(0.2))\n",
        " \n",
        "# Adicionar a terceira camada LSTM e Dropout\n",
        "regressor.add(LSTM(units = 20))\n",
        "regressor.add(Dropout(0.3))\n",
        " \n",
        "# camada de saída\n",
        "regressor.add(Dense(units = 1))\n",
        " \n",
        "# Compilar a rede\n",
        "regressor.compile(optimizer = 'adam', loss = 'mean_squared_error')\n",
        "\n",
        "# Visualizar a rede\n",
        "regressor.summary()"
      ],
      "metadata": {
        "colab": {
          "base_uri": "https://localhost:8080/"
        },
        "outputId": "5ba3920e-f5d6-4b6f-ad67-0439bf795d83",
        "id": "o5oWMjd3CumN"
      },
      "execution_count": 151,
      "outputs": [
        {
          "output_type": "stream",
          "name": "stdout",
          "text": [
            "Model: \"sequential_10\"\n",
            "_________________________________________________________________\n",
            " Layer (type)                Output Shape              Param #   \n",
            "=================================================================\n",
            " lstm_20 (LSTM)              (None, 10, 100)           40800     \n",
            "                                                                 \n",
            " lstm_21 (LSTM)              (None, 20)                9680      \n",
            "                                                                 \n",
            " dropout_10 (Dropout)        (None, 20)                0         \n",
            "                                                                 \n",
            " dense_10 (Dense)            (None, 1)                 21        \n",
            "                                                                 \n",
            "=================================================================\n",
            "Total params: 50,501\n",
            "Trainable params: 50,501\n",
            "Non-trainable params: 0\n",
            "_________________________________________________________________\n"
          ]
        }
      ]
    },
    {
      "cell_type": "markdown",
      "source": [
        "##Treinamento"
      ],
      "metadata": {
        "id": "SBQKrmMXCumN"
      }
    },
    {
      "cell_type": "code",
      "source": [
        "regressor.fit(lowprice_consume_X_train, lowprice_consume_y_train, epochs = 200, batch_size = 7)"
      ],
      "metadata": {
        "colab": {
          "base_uri": "https://localhost:8080/"
        },
        "outputId": "47ceb2ea-f5d4-40f7-c99c-31b5a513d5cf",
        "id": "i-umq6JRCumN"
      },
      "execution_count": 152,
      "outputs": [
        {
          "output_type": "stream",
          "name": "stdout",
          "text": [
            "Epoch 1/200\n",
            "4/4 [==============================] - 3s 8ms/step - loss: 0.4357\n",
            "Epoch 2/200\n",
            "4/4 [==============================] - 0s 7ms/step - loss: 0.1337\n",
            "Epoch 3/200\n",
            "4/4 [==============================] - 0s 11ms/step - loss: 0.0490\n",
            "Epoch 4/200\n",
            "4/4 [==============================] - 0s 8ms/step - loss: 0.0563\n",
            "Epoch 5/200\n",
            "4/4 [==============================] - 0s 8ms/step - loss: 0.0508\n",
            "Epoch 6/200\n",
            "4/4 [==============================] - 0s 11ms/step - loss: 0.0467\n",
            "Epoch 7/200\n",
            "4/4 [==============================] - 0s 8ms/step - loss: 0.0446\n",
            "Epoch 8/200\n",
            "4/4 [==============================] - 0s 7ms/step - loss: 0.0476\n",
            "Epoch 9/200\n",
            "4/4 [==============================] - 0s 8ms/step - loss: 0.0341\n",
            "Epoch 10/200\n",
            "4/4 [==============================] - 0s 7ms/step - loss: 0.0356\n",
            "Epoch 11/200\n",
            "4/4 [==============================] - 0s 7ms/step - loss: 0.0351\n",
            "Epoch 12/200\n",
            "4/4 [==============================] - 0s 7ms/step - loss: 0.0381\n",
            "Epoch 13/200\n",
            "4/4 [==============================] - 0s 8ms/step - loss: 0.0306\n",
            "Epoch 14/200\n",
            "4/4 [==============================] - 0s 11ms/step - loss: 0.0369\n",
            "Epoch 15/200\n",
            "4/4 [==============================] - 0s 9ms/step - loss: 0.0381\n",
            "Epoch 16/200\n",
            "4/4 [==============================] - 0s 9ms/step - loss: 0.0295\n",
            "Epoch 17/200\n",
            "4/4 [==============================] - 0s 9ms/step - loss: 0.0453\n",
            "Epoch 18/200\n",
            "4/4 [==============================] - 0s 9ms/step - loss: 0.0298\n",
            "Epoch 19/200\n",
            "4/4 [==============================] - 0s 8ms/step - loss: 0.0400\n",
            "Epoch 20/200\n",
            "4/4 [==============================] - 0s 10ms/step - loss: 0.0288\n",
            "Epoch 21/200\n",
            "4/4 [==============================] - 0s 7ms/step - loss: 0.0345\n",
            "Epoch 22/200\n",
            "4/4 [==============================] - 0s 7ms/step - loss: 0.0319\n",
            "Epoch 23/200\n",
            "4/4 [==============================] - 0s 7ms/step - loss: 0.0342\n",
            "Epoch 24/200\n",
            "4/4 [==============================] - 0s 9ms/step - loss: 0.0378\n",
            "Epoch 25/200\n",
            "4/4 [==============================] - 0s 8ms/step - loss: 0.0340\n",
            "Epoch 26/200\n",
            "4/4 [==============================] - 0s 7ms/step - loss: 0.0389\n",
            "Epoch 27/200\n",
            "4/4 [==============================] - 0s 8ms/step - loss: 0.0378\n",
            "Epoch 28/200\n",
            "4/4 [==============================] - 0s 10ms/step - loss: 0.0340\n",
            "Epoch 29/200\n",
            "4/4 [==============================] - 0s 7ms/step - loss: 0.0358\n",
            "Epoch 30/200\n",
            "4/4 [==============================] - 0s 8ms/step - loss: 0.0333\n",
            "Epoch 31/200\n",
            "4/4 [==============================] - 0s 8ms/step - loss: 0.0332\n",
            "Epoch 32/200\n",
            "4/4 [==============================] - 0s 8ms/step - loss: 0.0387\n",
            "Epoch 33/200\n",
            "4/4 [==============================] - 0s 9ms/step - loss: 0.0342\n",
            "Epoch 34/200\n",
            "4/4 [==============================] - 0s 8ms/step - loss: 0.0442\n",
            "Epoch 35/200\n",
            "4/4 [==============================] - 0s 10ms/step - loss: 0.0360\n",
            "Epoch 36/200\n",
            "4/4 [==============================] - 0s 8ms/step - loss: 0.0430\n",
            "Epoch 37/200\n",
            "4/4 [==============================] - 0s 9ms/step - loss: 0.0383\n",
            "Epoch 38/200\n",
            "4/4 [==============================] - 0s 8ms/step - loss: 0.0392\n",
            "Epoch 39/200\n",
            "4/4 [==============================] - 0s 7ms/step - loss: 0.0359\n",
            "Epoch 40/200\n",
            "4/4 [==============================] - 0s 8ms/step - loss: 0.0340\n",
            "Epoch 41/200\n",
            "4/4 [==============================] - 0s 8ms/step - loss: 0.0338\n",
            "Epoch 42/200\n",
            "4/4 [==============================] - 0s 7ms/step - loss: 0.0340\n",
            "Epoch 43/200\n",
            "4/4 [==============================] - 0s 10ms/step - loss: 0.0353\n",
            "Epoch 44/200\n",
            "4/4 [==============================] - 0s 10ms/step - loss: 0.0343\n",
            "Epoch 45/200\n",
            "4/4 [==============================] - 0s 9ms/step - loss: 0.0362\n",
            "Epoch 46/200\n",
            "4/4 [==============================] - 0s 9ms/step - loss: 0.0344\n",
            "Epoch 47/200\n",
            "4/4 [==============================] - 0s 7ms/step - loss: 0.0382\n",
            "Epoch 48/200\n",
            "4/4 [==============================] - 0s 8ms/step - loss: 0.0374\n",
            "Epoch 49/200\n",
            "4/4 [==============================] - 0s 8ms/step - loss: 0.0379\n",
            "Epoch 50/200\n",
            "4/4 [==============================] - 0s 8ms/step - loss: 0.0345\n",
            "Epoch 51/200\n",
            "4/4 [==============================] - 0s 8ms/step - loss: 0.0327\n",
            "Epoch 52/200\n",
            "4/4 [==============================] - 0s 7ms/step - loss: 0.0380\n",
            "Epoch 53/200\n",
            "4/4 [==============================] - 0s 7ms/step - loss: 0.0360\n",
            "Epoch 54/200\n",
            "4/4 [==============================] - 0s 8ms/step - loss: 0.0342\n",
            "Epoch 55/200\n",
            "4/4 [==============================] - 0s 9ms/step - loss: 0.0407\n",
            "Epoch 56/200\n",
            "4/4 [==============================] - 0s 9ms/step - loss: 0.0341\n",
            "Epoch 57/200\n",
            "4/4 [==============================] - 0s 10ms/step - loss: 0.0338\n",
            "Epoch 58/200\n",
            "4/4 [==============================] - 0s 9ms/step - loss: 0.0355\n",
            "Epoch 59/200\n",
            "4/4 [==============================] - 0s 9ms/step - loss: 0.0322\n",
            "Epoch 60/200\n",
            "4/4 [==============================] - 0s 8ms/step - loss: 0.0346\n",
            "Epoch 61/200\n",
            "4/4 [==============================] - 0s 9ms/step - loss: 0.0368\n",
            "Epoch 62/200\n",
            "4/4 [==============================] - 0s 9ms/step - loss: 0.0376\n",
            "Epoch 63/200\n",
            "4/4 [==============================] - 0s 8ms/step - loss: 0.0408\n",
            "Epoch 64/200\n",
            "4/4 [==============================] - 0s 11ms/step - loss: 0.0441\n",
            "Epoch 65/200\n",
            "4/4 [==============================] - 0s 9ms/step - loss: 0.0331\n",
            "Epoch 66/200\n",
            "4/4 [==============================] - 0s 10ms/step - loss: 0.0331\n",
            "Epoch 67/200\n",
            "4/4 [==============================] - 0s 10ms/step - loss: 0.0318\n",
            "Epoch 68/200\n",
            "4/4 [==============================] - 0s 8ms/step - loss: 0.0325\n",
            "Epoch 69/200\n",
            "4/4 [==============================] - 0s 9ms/step - loss: 0.0342\n",
            "Epoch 70/200\n",
            "4/4 [==============================] - 0s 8ms/step - loss: 0.0367\n",
            "Epoch 71/200\n",
            "4/4 [==============================] - 0s 9ms/step - loss: 0.0340\n",
            "Epoch 72/200\n",
            "4/4 [==============================] - 0s 8ms/step - loss: 0.0341\n",
            "Epoch 73/200\n",
            "4/4 [==============================] - 0s 8ms/step - loss: 0.0338\n",
            "Epoch 74/200\n",
            "4/4 [==============================] - 0s 8ms/step - loss: 0.0388\n",
            "Epoch 75/200\n",
            "4/4 [==============================] - 0s 8ms/step - loss: 0.0374\n",
            "Epoch 76/200\n",
            "4/4 [==============================] - 0s 8ms/step - loss: 0.0373\n",
            "Epoch 77/200\n",
            "4/4 [==============================] - 0s 8ms/step - loss: 0.0289\n",
            "Epoch 78/200\n",
            "4/4 [==============================] - 0s 8ms/step - loss: 0.0346\n",
            "Epoch 79/200\n",
            "4/4 [==============================] - 0s 10ms/step - loss: 0.0377\n",
            "Epoch 80/200\n",
            "4/4 [==============================] - 0s 8ms/step - loss: 0.0359\n",
            "Epoch 81/200\n",
            "4/4 [==============================] - 0s 8ms/step - loss: 0.0338\n",
            "Epoch 82/200\n",
            "4/4 [==============================] - 0s 8ms/step - loss: 0.0403\n",
            "Epoch 83/200\n",
            "4/4 [==============================] - 0s 9ms/step - loss: 0.0337\n",
            "Epoch 84/200\n",
            "4/4 [==============================] - 0s 8ms/step - loss: 0.0358\n",
            "Epoch 85/200\n",
            "4/4 [==============================] - 0s 9ms/step - loss: 0.0359\n",
            "Epoch 86/200\n",
            "4/4 [==============================] - 0s 8ms/step - loss: 0.0316\n",
            "Epoch 87/200\n",
            "4/4 [==============================] - 0s 11ms/step - loss: 0.0346\n",
            "Epoch 88/200\n",
            "4/4 [==============================] - 0s 8ms/step - loss: 0.0299\n",
            "Epoch 89/200\n",
            "4/4 [==============================] - 0s 9ms/step - loss: 0.0371\n",
            "Epoch 90/200\n",
            "4/4 [==============================] - 0s 8ms/step - loss: 0.0294\n",
            "Epoch 91/200\n",
            "4/4 [==============================] - 0s 9ms/step - loss: 0.0350\n",
            "Epoch 92/200\n",
            "4/4 [==============================] - 0s 8ms/step - loss: 0.0298\n",
            "Epoch 93/200\n",
            "4/4 [==============================] - 0s 9ms/step - loss: 0.0327\n",
            "Epoch 94/200\n",
            "4/4 [==============================] - 0s 10ms/step - loss: 0.0382\n",
            "Epoch 95/200\n",
            "4/4 [==============================] - 0s 9ms/step - loss: 0.0333\n",
            "Epoch 96/200\n",
            "4/4 [==============================] - 0s 9ms/step - loss: 0.0352\n",
            "Epoch 97/200\n",
            "4/4 [==============================] - 0s 8ms/step - loss: 0.0322\n",
            "Epoch 98/200\n",
            "4/4 [==============================] - 0s 9ms/step - loss: 0.0283\n",
            "Epoch 99/200\n",
            "4/4 [==============================] - 0s 9ms/step - loss: 0.0310\n",
            "Epoch 100/200\n",
            "4/4 [==============================] - 0s 8ms/step - loss: 0.0331\n",
            "Epoch 101/200\n",
            "4/4 [==============================] - 0s 8ms/step - loss: 0.0311\n",
            "Epoch 102/200\n",
            "4/4 [==============================] - 0s 9ms/step - loss: 0.0408\n",
            "Epoch 103/200\n",
            "4/4 [==============================] - 0s 10ms/step - loss: 0.0350\n",
            "Epoch 104/200\n",
            "4/4 [==============================] - 0s 8ms/step - loss: 0.0325\n",
            "Epoch 105/200\n",
            "4/4 [==============================] - 0s 8ms/step - loss: 0.0407\n",
            "Epoch 106/200\n",
            "4/4 [==============================] - 0s 8ms/step - loss: 0.0283\n",
            "Epoch 107/200\n",
            "4/4 [==============================] - 0s 7ms/step - loss: 0.0340\n",
            "Epoch 108/200\n",
            "4/4 [==============================] - 0s 7ms/step - loss: 0.0322\n",
            "Epoch 109/200\n",
            "4/4 [==============================] - 0s 8ms/step - loss: 0.0331\n",
            "Epoch 110/200\n",
            "4/4 [==============================] - 0s 8ms/step - loss: 0.0272\n",
            "Epoch 111/200\n",
            "4/4 [==============================] - 0s 11ms/step - loss: 0.0327\n",
            "Epoch 112/200\n",
            "4/4 [==============================] - 0s 8ms/step - loss: 0.0391\n",
            "Epoch 113/200\n",
            "4/4 [==============================] - 0s 10ms/step - loss: 0.0322\n",
            "Epoch 114/200\n",
            "4/4 [==============================] - 0s 8ms/step - loss: 0.0372\n",
            "Epoch 115/200\n",
            "4/4 [==============================] - 0s 7ms/step - loss: 0.0340\n",
            "Epoch 116/200\n",
            "4/4 [==============================] - 0s 8ms/step - loss: 0.0326\n",
            "Epoch 117/200\n",
            "4/4 [==============================] - 0s 9ms/step - loss: 0.0314\n",
            "Epoch 118/200\n",
            "4/4 [==============================] - 0s 8ms/step - loss: 0.0322\n",
            "Epoch 119/200\n",
            "4/4 [==============================] - 0s 10ms/step - loss: 0.0327\n",
            "Epoch 120/200\n",
            "4/4 [==============================] - 0s 9ms/step - loss: 0.0308\n",
            "Epoch 121/200\n",
            "4/4 [==============================] - 0s 7ms/step - loss: 0.0355\n",
            "Epoch 122/200\n",
            "4/4 [==============================] - 0s 9ms/step - loss: 0.0359\n",
            "Epoch 123/200\n",
            "4/4 [==============================] - 0s 9ms/step - loss: 0.0386\n",
            "Epoch 124/200\n",
            "4/4 [==============================] - 0s 8ms/step - loss: 0.0352\n",
            "Epoch 125/200\n",
            "4/4 [==============================] - 0s 9ms/step - loss: 0.0299\n",
            "Epoch 126/200\n",
            "4/4 [==============================] - 0s 14ms/step - loss: 0.0314\n",
            "Epoch 127/200\n",
            "4/4 [==============================] - 0s 12ms/step - loss: 0.0323\n",
            "Epoch 128/200\n",
            "4/4 [==============================] - 0s 11ms/step - loss: 0.0350\n",
            "Epoch 129/200\n",
            "4/4 [==============================] - 0s 11ms/step - loss: 0.0347\n",
            "Epoch 130/200\n",
            "4/4 [==============================] - 0s 14ms/step - loss: 0.0322\n",
            "Epoch 131/200\n",
            "4/4 [==============================] - 0s 10ms/step - loss: 0.0342\n",
            "Epoch 132/200\n",
            "4/4 [==============================] - 0s 10ms/step - loss: 0.0315\n",
            "Epoch 133/200\n",
            "4/4 [==============================] - 0s 10ms/step - loss: 0.0315\n",
            "Epoch 134/200\n",
            "4/4 [==============================] - 0s 10ms/step - loss: 0.0340\n",
            "Epoch 135/200\n",
            "4/4 [==============================] - 0s 10ms/step - loss: 0.0336\n",
            "Epoch 136/200\n",
            "4/4 [==============================] - 0s 10ms/step - loss: 0.0367\n",
            "Epoch 137/200\n",
            "4/4 [==============================] - 0s 10ms/step - loss: 0.0321\n",
            "Epoch 138/200\n",
            "4/4 [==============================] - 0s 11ms/step - loss: 0.0366\n",
            "Epoch 139/200\n",
            "4/4 [==============================] - 0s 12ms/step - loss: 0.0368\n",
            "Epoch 140/200\n",
            "4/4 [==============================] - 0s 11ms/step - loss: 0.0334\n",
            "Epoch 141/200\n",
            "4/4 [==============================] - 0s 10ms/step - loss: 0.0282\n",
            "Epoch 142/200\n",
            "4/4 [==============================] - 0s 12ms/step - loss: 0.0333\n",
            "Epoch 143/200\n",
            "4/4 [==============================] - 0s 10ms/step - loss: 0.0317\n",
            "Epoch 144/200\n",
            "4/4 [==============================] - 0s 9ms/step - loss: 0.0284\n",
            "Epoch 145/200\n",
            "4/4 [==============================] - 0s 12ms/step - loss: 0.0349\n",
            "Epoch 146/200\n",
            "4/4 [==============================] - 0s 10ms/step - loss: 0.0348\n",
            "Epoch 147/200\n",
            "4/4 [==============================] - 0s 11ms/step - loss: 0.0331\n",
            "Epoch 148/200\n",
            "4/4 [==============================] - 0s 13ms/step - loss: 0.0270\n",
            "Epoch 149/200\n",
            "4/4 [==============================] - 0s 11ms/step - loss: 0.0306\n",
            "Epoch 150/200\n",
            "4/4 [==============================] - 0s 10ms/step - loss: 0.0299\n",
            "Epoch 151/200\n",
            "4/4 [==============================] - 0s 9ms/step - loss: 0.0318\n",
            "Epoch 152/200\n",
            "4/4 [==============================] - 0s 9ms/step - loss: 0.0353\n",
            "Epoch 153/200\n",
            "4/4 [==============================] - 0s 13ms/step - loss: 0.0339\n",
            "Epoch 154/200\n",
            "4/4 [==============================] - 0s 11ms/step - loss: 0.0308\n",
            "Epoch 155/200\n",
            "4/4 [==============================] - 0s 11ms/step - loss: 0.0355\n",
            "Epoch 156/200\n",
            "4/4 [==============================] - 0s 10ms/step - loss: 0.0332\n",
            "Epoch 157/200\n",
            "4/4 [==============================] - 0s 10ms/step - loss: 0.0347\n",
            "Epoch 158/200\n",
            "4/4 [==============================] - 0s 10ms/step - loss: 0.0304\n",
            "Epoch 159/200\n",
            "4/4 [==============================] - 0s 11ms/step - loss: 0.0325\n",
            "Epoch 160/200\n",
            "4/4 [==============================] - 0s 10ms/step - loss: 0.0346\n",
            "Epoch 161/200\n",
            "4/4 [==============================] - 0s 11ms/step - loss: 0.0295\n",
            "Epoch 162/200\n",
            "4/4 [==============================] - 0s 13ms/step - loss: 0.0327\n",
            "Epoch 163/200\n",
            "4/4 [==============================] - 0s 12ms/step - loss: 0.0300\n",
            "Epoch 164/200\n",
            "4/4 [==============================] - 0s 9ms/step - loss: 0.0321\n",
            "Epoch 165/200\n",
            "4/4 [==============================] - 0s 10ms/step - loss: 0.0329\n",
            "Epoch 166/200\n",
            "4/4 [==============================] - 0s 9ms/step - loss: 0.0261\n",
            "Epoch 167/200\n",
            "4/4 [==============================] - 0s 11ms/step - loss: 0.0347\n",
            "Epoch 168/200\n",
            "4/4 [==============================] - 0s 10ms/step - loss: 0.0280\n",
            "Epoch 169/200\n",
            "4/4 [==============================] - 0s 11ms/step - loss: 0.0317\n",
            "Epoch 170/200\n",
            "4/4 [==============================] - 0s 13ms/step - loss: 0.0308\n",
            "Epoch 171/200\n",
            "4/4 [==============================] - 0s 10ms/step - loss: 0.0313\n",
            "Epoch 172/200\n",
            "4/4 [==============================] - 0s 7ms/step - loss: 0.0370\n",
            "Epoch 173/200\n",
            "4/4 [==============================] - 0s 8ms/step - loss: 0.0370\n",
            "Epoch 174/200\n",
            "4/4 [==============================] - 0s 10ms/step - loss: 0.0361\n",
            "Epoch 175/200\n",
            "4/4 [==============================] - 0s 9ms/step - loss: 0.0321\n",
            "Epoch 176/200\n",
            "4/4 [==============================] - 0s 9ms/step - loss: 0.0311\n",
            "Epoch 177/200\n",
            "4/4 [==============================] - 0s 10ms/step - loss: 0.0298\n",
            "Epoch 178/200\n",
            "4/4 [==============================] - 0s 10ms/step - loss: 0.0321\n",
            "Epoch 179/200\n",
            "4/4 [==============================] - 0s 9ms/step - loss: 0.0303\n",
            "Epoch 180/200\n",
            "4/4 [==============================] - 0s 9ms/step - loss: 0.0312\n",
            "Epoch 181/200\n",
            "4/4 [==============================] - 0s 8ms/step - loss: 0.0320\n",
            "Epoch 182/200\n",
            "4/4 [==============================] - 0s 8ms/step - loss: 0.0325\n",
            "Epoch 183/200\n",
            "4/4 [==============================] - 0s 8ms/step - loss: 0.0295\n",
            "Epoch 184/200\n",
            "4/4 [==============================] - 0s 8ms/step - loss: 0.0326\n",
            "Epoch 185/200\n",
            "4/4 [==============================] - 0s 12ms/step - loss: 0.0366\n",
            "Epoch 186/200\n",
            "4/4 [==============================] - 0s 9ms/step - loss: 0.0319\n",
            "Epoch 187/200\n",
            "4/4 [==============================] - 0s 9ms/step - loss: 0.0282\n",
            "Epoch 188/200\n",
            "4/4 [==============================] - 0s 9ms/step - loss: 0.0300\n",
            "Epoch 189/200\n",
            "4/4 [==============================] - 0s 10ms/step - loss: 0.0305\n",
            "Epoch 190/200\n",
            "4/4 [==============================] - 0s 8ms/step - loss: 0.0293\n",
            "Epoch 191/200\n",
            "4/4 [==============================] - 0s 8ms/step - loss: 0.0309\n",
            "Epoch 192/200\n",
            "4/4 [==============================] - 0s 8ms/step - loss: 0.0328\n",
            "Epoch 193/200\n",
            "4/4 [==============================] - 0s 9ms/step - loss: 0.0326\n",
            "Epoch 194/200\n",
            "4/4 [==============================] - 0s 9ms/step - loss: 0.0309\n",
            "Epoch 195/200\n",
            "4/4 [==============================] - 0s 9ms/step - loss: 0.0305\n",
            "Epoch 196/200\n",
            "4/4 [==============================] - 0s 8ms/step - loss: 0.0291\n",
            "Epoch 197/200\n",
            "4/4 [==============================] - 0s 8ms/step - loss: 0.0269\n",
            "Epoch 198/200\n",
            "4/4 [==============================] - 0s 8ms/step - loss: 0.0310\n",
            "Epoch 199/200\n",
            "4/4 [==============================] - 0s 8ms/step - loss: 0.0319\n",
            "Epoch 200/200\n",
            "4/4 [==============================] - 0s 9ms/step - loss: 0.0276\n"
          ]
        },
        {
          "output_type": "execute_result",
          "data": {
            "text/plain": [
              "<keras.callbacks.History at 0x7f554080f310>"
            ]
          },
          "metadata": {},
          "execution_count": 152
        }
      ]
    },
    {
      "cell_type": "markdown",
      "source": [
        "#Previsão e Análise dos Resultados - Consumo Fora de Ponta"
      ],
      "metadata": {
        "id": "vYtHMQkQCumO"
      }
    },
    {
      "cell_type": "markdown",
      "source": [
        "##Dados de Teste"
      ],
      "metadata": {
        "id": "puf8CG1GCumO"
      }
    },
    {
      "cell_type": "code",
      "source": [
        "dataset_all.head()"
      ],
      "metadata": {
        "colab": {
          "base_uri": "https://localhost:8080/",
          "height": 403
        },
        "id": "IgHTnnjV9E4F",
        "outputId": "20f47fd7-d26a-45a6-f80b-26acfb5a8612"
      },
      "execution_count": 153,
      "outputs": [
        {
          "output_type": "execute_result",
          "data": {
            "text/plain": [
              "    Ano        Mês  Dias do mês  Demanda máxima (kW)  Demanda Contratada (kW)  \\\n",
              "0  2010    Janeiro           31               3087.4                   3800.0   \n",
              "1  2010  Fevereiro           28               3191.0                   3800.0   \n",
              "2  2010      Março           31               3916.8                   3800.0   \n",
              "3  2010      Abril           30               3732.5                   3800.0   \n",
              "4  2010       Maio           31               3237.1                   3800.0   \n",
              "\n",
              "   Consumo Ponta (kWh)  Consumo Fora de Ponta (kWh)  \\\n",
              "0            61433.300                   874408.300   \n",
              "1            63043.200                   832833.025   \n",
              "2            97689.650                  1145070.825   \n",
              "3            84809.875                   784432.125   \n",
              "4            74067.725                   908939.525   \n",
              "\n",
              "   Tarifa de Energia Ponta (R$/MWh)  Tarifa de Energia Fora de Ponta (R$/MWh)  \\\n",
              "0                           1079.78                                    369.86   \n",
              "1                           1079.78                                    369.86   \n",
              "2                           1079.78                                    369.86   \n",
              "3                           1079.78                                    369.86   \n",
              "4                           1079.78                                    369.86   \n",
              "\n",
              "   Tarifa de Demanda Ponta e Fora de Ponta (R$/kW)  ...  \\\n",
              "0                                            12.35  ...   \n",
              "1                                            12.35  ...   \n",
              "2                                            12.35  ...   \n",
              "3                                            12.35  ...   \n",
              "4                                            12.35  ...   \n",
              "\n",
              "   Preço Contratado no ACL (R$/MWh)  PLDmed  Perdas na Rede Básica (%)  \\\n",
              "0                            202.41   12.91                          3   \n",
              "1                            202.41   13.82                          3   \n",
              "2                            202.41   27.24                          3   \n",
              "3                            202.41   21.47                          3   \n",
              "4                            202.41   32.34                          3   \n",
              "\n",
              "      Mwmed  Mwmed Contratado  PIS (%)  COFINS (%)  ICMS(%)  \\\n",
              "0  1.257852               1.6     1.65         7.6     29.0   \n",
              "1  1.333149               1.6     1.65         7.6     29.0   \n",
              "2  1.670377               1.6     1.65         7.6     29.0   \n",
              "3  1.207281               1.6     1.65         7.6     29.0   \n",
              "4  1.321246               1.6     1.65         7.6     29.0   \n",
              "\n",
              "   Flexibilidade do Contrato Inferior  Flexibilidade do Contrato Superior  \n",
              "0                                 0.6                                 1.3  \n",
              "1                                 0.6                                 1.3  \n",
              "2                                 0.6                                 1.3  \n",
              "3                                 0.6                                 1.3  \n",
              "4                                 0.6                                 1.3  \n",
              "\n",
              "[5 rows x 26 columns]"
            ],
            "text/html": [
              "\n",
              "  <div id=\"df-9a47db7a-cf3a-45b0-aa34-3d91b6350ff4\">\n",
              "    <div class=\"colab-df-container\">\n",
              "      <div>\n",
              "<style scoped>\n",
              "    .dataframe tbody tr th:only-of-type {\n",
              "        vertical-align: middle;\n",
              "    }\n",
              "\n",
              "    .dataframe tbody tr th {\n",
              "        vertical-align: top;\n",
              "    }\n",
              "\n",
              "    .dataframe thead th {\n",
              "        text-align: right;\n",
              "    }\n",
              "</style>\n",
              "<table border=\"1\" class=\"dataframe\">\n",
              "  <thead>\n",
              "    <tr style=\"text-align: right;\">\n",
              "      <th></th>\n",
              "      <th>Ano</th>\n",
              "      <th>Mês</th>\n",
              "      <th>Dias do mês</th>\n",
              "      <th>Demanda máxima (kW)</th>\n",
              "      <th>Demanda Contratada (kW)</th>\n",
              "      <th>Consumo Ponta (kWh)</th>\n",
              "      <th>Consumo Fora de Ponta (kWh)</th>\n",
              "      <th>Tarifa de Energia Ponta (R$/MWh)</th>\n",
              "      <th>Tarifa de Energia Fora de Ponta (R$/MWh)</th>\n",
              "      <th>Tarifa de Demanda Ponta e Fora de Ponta (R$/kW)</th>\n",
              "      <th>...</th>\n",
              "      <th>Preço Contratado no ACL (R$/MWh)</th>\n",
              "      <th>PLDmed</th>\n",
              "      <th>Perdas na Rede Básica (%)</th>\n",
              "      <th>Mwmed</th>\n",
              "      <th>Mwmed Contratado</th>\n",
              "      <th>PIS (%)</th>\n",
              "      <th>COFINS (%)</th>\n",
              "      <th>ICMS(%)</th>\n",
              "      <th>Flexibilidade do Contrato Inferior</th>\n",
              "      <th>Flexibilidade do Contrato Superior</th>\n",
              "    </tr>\n",
              "  </thead>\n",
              "  <tbody>\n",
              "    <tr>\n",
              "      <th>0</th>\n",
              "      <td>2010</td>\n",
              "      <td>Janeiro</td>\n",
              "      <td>31</td>\n",
              "      <td>3087.4</td>\n",
              "      <td>3800.0</td>\n",
              "      <td>61433.300</td>\n",
              "      <td>874408.300</td>\n",
              "      <td>1079.78</td>\n",
              "      <td>369.86</td>\n",
              "      <td>12.35</td>\n",
              "      <td>...</td>\n",
              "      <td>202.41</td>\n",
              "      <td>12.91</td>\n",
              "      <td>3</td>\n",
              "      <td>1.257852</td>\n",
              "      <td>1.6</td>\n",
              "      <td>1.65</td>\n",
              "      <td>7.6</td>\n",
              "      <td>29.0</td>\n",
              "      <td>0.6</td>\n",
              "      <td>1.3</td>\n",
              "    </tr>\n",
              "    <tr>\n",
              "      <th>1</th>\n",
              "      <td>2010</td>\n",
              "      <td>Fevereiro</td>\n",
              "      <td>28</td>\n",
              "      <td>3191.0</td>\n",
              "      <td>3800.0</td>\n",
              "      <td>63043.200</td>\n",
              "      <td>832833.025</td>\n",
              "      <td>1079.78</td>\n",
              "      <td>369.86</td>\n",
              "      <td>12.35</td>\n",
              "      <td>...</td>\n",
              "      <td>202.41</td>\n",
              "      <td>13.82</td>\n",
              "      <td>3</td>\n",
              "      <td>1.333149</td>\n",
              "      <td>1.6</td>\n",
              "      <td>1.65</td>\n",
              "      <td>7.6</td>\n",
              "      <td>29.0</td>\n",
              "      <td>0.6</td>\n",
              "      <td>1.3</td>\n",
              "    </tr>\n",
              "    <tr>\n",
              "      <th>2</th>\n",
              "      <td>2010</td>\n",
              "      <td>Março</td>\n",
              "      <td>31</td>\n",
              "      <td>3916.8</td>\n",
              "      <td>3800.0</td>\n",
              "      <td>97689.650</td>\n",
              "      <td>1145070.825</td>\n",
              "      <td>1079.78</td>\n",
              "      <td>369.86</td>\n",
              "      <td>12.35</td>\n",
              "      <td>...</td>\n",
              "      <td>202.41</td>\n",
              "      <td>27.24</td>\n",
              "      <td>3</td>\n",
              "      <td>1.670377</td>\n",
              "      <td>1.6</td>\n",
              "      <td>1.65</td>\n",
              "      <td>7.6</td>\n",
              "      <td>29.0</td>\n",
              "      <td>0.6</td>\n",
              "      <td>1.3</td>\n",
              "    </tr>\n",
              "    <tr>\n",
              "      <th>3</th>\n",
              "      <td>2010</td>\n",
              "      <td>Abril</td>\n",
              "      <td>30</td>\n",
              "      <td>3732.5</td>\n",
              "      <td>3800.0</td>\n",
              "      <td>84809.875</td>\n",
              "      <td>784432.125</td>\n",
              "      <td>1079.78</td>\n",
              "      <td>369.86</td>\n",
              "      <td>12.35</td>\n",
              "      <td>...</td>\n",
              "      <td>202.41</td>\n",
              "      <td>21.47</td>\n",
              "      <td>3</td>\n",
              "      <td>1.207281</td>\n",
              "      <td>1.6</td>\n",
              "      <td>1.65</td>\n",
              "      <td>7.6</td>\n",
              "      <td>29.0</td>\n",
              "      <td>0.6</td>\n",
              "      <td>1.3</td>\n",
              "    </tr>\n",
              "    <tr>\n",
              "      <th>4</th>\n",
              "      <td>2010</td>\n",
              "      <td>Maio</td>\n",
              "      <td>31</td>\n",
              "      <td>3237.1</td>\n",
              "      <td>3800.0</td>\n",
              "      <td>74067.725</td>\n",
              "      <td>908939.525</td>\n",
              "      <td>1079.78</td>\n",
              "      <td>369.86</td>\n",
              "      <td>12.35</td>\n",
              "      <td>...</td>\n",
              "      <td>202.41</td>\n",
              "      <td>32.34</td>\n",
              "      <td>3</td>\n",
              "      <td>1.321246</td>\n",
              "      <td>1.6</td>\n",
              "      <td>1.65</td>\n",
              "      <td>7.6</td>\n",
              "      <td>29.0</td>\n",
              "      <td>0.6</td>\n",
              "      <td>1.3</td>\n",
              "    </tr>\n",
              "  </tbody>\n",
              "</table>\n",
              "<p>5 rows × 26 columns</p>\n",
              "</div>\n",
              "      <button class=\"colab-df-convert\" onclick=\"convertToInteractive('df-9a47db7a-cf3a-45b0-aa34-3d91b6350ff4')\"\n",
              "              title=\"Convert this dataframe to an interactive table.\"\n",
              "              style=\"display:none;\">\n",
              "        \n",
              "  <svg xmlns=\"http://www.w3.org/2000/svg\" height=\"24px\"viewBox=\"0 0 24 24\"\n",
              "       width=\"24px\">\n",
              "    <path d=\"M0 0h24v24H0V0z\" fill=\"none\"/>\n",
              "    <path d=\"M18.56 5.44l.94 2.06.94-2.06 2.06-.94-2.06-.94-.94-2.06-.94 2.06-2.06.94zm-11 1L8.5 8.5l.94-2.06 2.06-.94-2.06-.94L8.5 2.5l-.94 2.06-2.06.94zm10 10l.94 2.06.94-2.06 2.06-.94-2.06-.94-.94-2.06-.94 2.06-2.06.94z\"/><path d=\"M17.41 7.96l-1.37-1.37c-.4-.4-.92-.59-1.43-.59-.52 0-1.04.2-1.43.59L10.3 9.45l-7.72 7.72c-.78.78-.78 2.05 0 2.83L4 21.41c.39.39.9.59 1.41.59.51 0 1.02-.2 1.41-.59l7.78-7.78 2.81-2.81c.8-.78.8-2.07 0-2.86zM5.41 20L4 18.59l7.72-7.72 1.47 1.35L5.41 20z\"/>\n",
              "  </svg>\n",
              "      </button>\n",
              "      \n",
              "  <style>\n",
              "    .colab-df-container {\n",
              "      display:flex;\n",
              "      flex-wrap:wrap;\n",
              "      gap: 12px;\n",
              "    }\n",
              "\n",
              "    .colab-df-convert {\n",
              "      background-color: #E8F0FE;\n",
              "      border: none;\n",
              "      border-radius: 50%;\n",
              "      cursor: pointer;\n",
              "      display: none;\n",
              "      fill: #1967D2;\n",
              "      height: 32px;\n",
              "      padding: 0 0 0 0;\n",
              "      width: 32px;\n",
              "    }\n",
              "\n",
              "    .colab-df-convert:hover {\n",
              "      background-color: #E2EBFA;\n",
              "      box-shadow: 0px 1px 2px rgba(60, 64, 67, 0.3), 0px 1px 3px 1px rgba(60, 64, 67, 0.15);\n",
              "      fill: #174EA6;\n",
              "    }\n",
              "\n",
              "    [theme=dark] .colab-df-convert {\n",
              "      background-color: #3B4455;\n",
              "      fill: #D2E3FC;\n",
              "    }\n",
              "\n",
              "    [theme=dark] .colab-df-convert:hover {\n",
              "      background-color: #434B5C;\n",
              "      box-shadow: 0px 1px 3px 1px rgba(0, 0, 0, 0.15);\n",
              "      filter: drop-shadow(0px 1px 2px rgba(0, 0, 0, 0.3));\n",
              "      fill: #FFFFFF;\n",
              "    }\n",
              "  </style>\n",
              "\n",
              "      <script>\n",
              "        const buttonEl =\n",
              "          document.querySelector('#df-9a47db7a-cf3a-45b0-aa34-3d91b6350ff4 button.colab-df-convert');\n",
              "        buttonEl.style.display =\n",
              "          google.colab.kernel.accessAllowed ? 'block' : 'none';\n",
              "\n",
              "        async function convertToInteractive(key) {\n",
              "          const element = document.querySelector('#df-9a47db7a-cf3a-45b0-aa34-3d91b6350ff4');\n",
              "          const dataTable =\n",
              "            await google.colab.kernel.invokeFunction('convertToInteractive',\n",
              "                                                     [key], {});\n",
              "          if (!dataTable) return;\n",
              "\n",
              "          const docLinkHtml = 'Like what you see? Visit the ' +\n",
              "            '<a target=\"_blank\" href=https://colab.research.google.com/notebooks/data_table.ipynb>data table notebook</a>'\n",
              "            + ' to learn more about interactive tables.';\n",
              "          element.innerHTML = '';\n",
              "          dataTable['output_type'] = 'display_data';\n",
              "          await google.colab.output.renderOutput(dataTable, element);\n",
              "          const docLink = document.createElement('div');\n",
              "          docLink.innerHTML = docLinkHtml;\n",
              "          element.appendChild(docLink);\n",
              "        }\n",
              "      </script>\n",
              "    </div>\n",
              "  </div>\n",
              "  "
            ]
          },
          "metadata": {},
          "execution_count": 153
        }
      ]
    },
    {
      "cell_type": "code",
      "source": [
        "lowprice_consume_test_set = dataset_all.iloc[42:,6:7].values"
      ],
      "metadata": {
        "id": "Z6plku_ECumO"
      },
      "execution_count": 154,
      "outputs": []
    },
    {
      "cell_type": "markdown",
      "source": [
        "##Construção da Estrutura para Teste"
      ],
      "metadata": {
        "id": "yIRWDf1-CumO"
      }
    },
    {
      "cell_type": "code",
      "source": [
        "lowprice_consume_total = pd.concat((dataset_consume_demand.iloc[:42,3:], dataset_consume_demand.iloc[42:,3:]), axis = 0)\n",
        "dcd_testLength = len(dataset_consume_demand.iloc[42:,:])\n",
        "inputs = lowprice_consume_total[len(lowprice_consume_total) - dcd_testLength - window:].values\n",
        "inputs = inputs.reshape(-1,1)\n",
        "inputs = sc.transform(inputs)\n",
        "lowprice_consume_X_test = []\n",
        "for i in range(window, dcd_testLength + window): \n",
        "    lowprice_consume_X_test.append(inputs[i-window:i, 0])\n",
        "lowprice_consume_X_test = np.array(lowprice_consume_X_test)\n",
        "lowprice_consume_X_test = np.reshape(lowprice_consume_X_test, (lowprice_consume_X_test.shape[0], lowprice_consume_X_test.shape[1], 1))"
      ],
      "metadata": {
        "id": "UPD2O4y6CumP"
      },
      "execution_count": 155,
      "outputs": []
    },
    {
      "cell_type": "markdown",
      "source": [
        "##Realização das previsões"
      ],
      "metadata": {
        "id": "xiIbhhUkCumP"
      }
    },
    {
      "cell_type": "code",
      "source": [
        "predicted_lowprice_consume = regressor.predict(lowprice_consume_X_test)\n",
        "predicted_lowprice_consume = sc.inverse_transform(predicted_lowprice_consume)"
      ],
      "metadata": {
        "colab": {
          "base_uri": "https://localhost:8080/"
        },
        "outputId": "5c3b34ef-99b5-4875-d278-f2c43a8514e7",
        "id": "VxsL5fk_CumP"
      },
      "execution_count": 156,
      "outputs": [
        {
          "output_type": "stream",
          "name": "stdout",
          "text": [
            "1/1 [==============================] - 1s 554ms/step\n"
          ]
        }
      ]
    },
    {
      "cell_type": "code",
      "source": [
        "df_lowprice_consume_training_set = pd.DataFrame(lowprice_consume_training_set)"
      ],
      "metadata": {
        "id": "zkHLPrVRCumP"
      },
      "execution_count": 157,
      "outputs": []
    },
    {
      "cell_type": "markdown",
      "source": [
        "##Visualização dos Resultados de Treino e Teste"
      ],
      "metadata": {
        "id": "H80MJjjXCumQ"
      }
    },
    {
      "cell_type": "code",
      "source": [
        "allTarget_lowprice_consume = np.vstack((dataset_consume_demand.iloc[:42,3:], dataset_consume_demand.iloc[42:,3:]))\n",
        "training_predicted_lowprice_consume = regressor.predict(lowprice_consume_X_train)\n",
        "training_predicted_lowprice_consume = sc.inverse_transform(training_predicted_lowprice_consume)\n",
        "allForecasted_lowprice_consume = np.vstack((df_lowprice_consume_training_set[0:window], training_predicted_lowprice_consume, predicted_lowprice_consume))\n",
        "plt.plot(allTarget_lowprice_consume, color = 'red', label = 'Real')\n",
        "plt.plot(allForecasted_lowprice_consume, color = 'blue', label = 'Previsto')\n",
        "plt.title('Previsão de série temporal')\n",
        "plt.xlabel('Tempo')\n",
        "plt.ylabel('Consumo Fora de Ponta (kWh)')\n",
        "plt.legend()\n",
        "plt.savefig('predictions_training_test.svg')\n",
        "plt.show()"
      ],
      "metadata": {
        "colab": {
          "base_uri": "https://localhost:8080/",
          "height": 489
        },
        "outputId": "2b66aaa2-af84-4b01-bc12-e0d4acedc3e2",
        "id": "h01Mi0CgCumQ"
      },
      "execution_count": 158,
      "outputs": [
        {
          "output_type": "stream",
          "name": "stdout",
          "text": [
            "1/1 [==============================] - 0s 18ms/step\n"
          ]
        },
        {
          "output_type": "display_data",
          "data": {
            "text/plain": [
              "<Figure size 640x480 with 1 Axes>"
            ],
            "image/png": "[encoded data removed]"
          },
          "metadata": {}
        }
      ]
    },
    {
      "cell_type": "markdown",
      "source": [
        "#Métricas de Avaliação - Consumo Fora de Ponta"
      ],
      "metadata": {
        "id": "-BZvOAyXCumQ"
      }
    },
    {
      "cell_type": "code",
      "source": [
        "import math\n",
        "from sklearn.metrics import mean_squared_error\n",
        "rmse = math.sqrt(mean_squared_error(lowprice_consume_test_set, predicted_lowprice_consume))\n",
        "print('RMSE: ', rmse)"
      ],
      "metadata": {
        "colab": {
          "base_uri": "https://localhost:8080/"
        },
        "outputId": "87f970d3-dee6-445f-f031-57da312e1644",
        "id": "Xj99DoO-CumQ"
      },
      "execution_count": 159,
      "outputs": [
        {
          "output_type": "stream",
          "name": "stdout",
          "text": [
            "RMSE:  157025.16656591927\n"
          ]
        }
      ]
    },
    {
      "cell_type": "code",
      "source": [
        "mse = mean_squared_error(lowprice_consume_test_set, predicted_lowprice_consume)\n",
        "print('MSE: ',mse)"
      ],
      "metadata": {
        "colab": {
          "base_uri": "https://localhost:8080/"
        },
        "outputId": "40cb0ebe-2883-4dfe-9eb6-77fec84ae5b1",
        "id": "MpiGSwHsCumR"
      },
      "execution_count": 160,
      "outputs": [
        {
          "output_type": "stream",
          "name": "stdout",
          "text": [
            "MSE:  24656902935.054688\n"
          ]
        }
      ]
    },
    {
      "cell_type": "code",
      "source": [
        "mape = np.mean(np.abs((lowprice_consume_test_set - predicted_lowprice_consume) / lowprice_consume_test_set)) * 100\n",
        "print('MAPE: ',mape)"
      ],
      "metadata": {
        "colab": {
          "base_uri": "https://localhost:8080/"
        },
        "outputId": "7421e6a6-2afb-43bd-abcf-fa5abbc3ac85",
        "id": "3UeLj1TuCumR"
      },
      "execution_count": 161,
      "outputs": [
        {
          "output_type": "stream",
          "name": "stdout",
          "text": [
            "MAPE:  13.924348820510815\n"
          ]
        }
      ]
    }
  ]
}