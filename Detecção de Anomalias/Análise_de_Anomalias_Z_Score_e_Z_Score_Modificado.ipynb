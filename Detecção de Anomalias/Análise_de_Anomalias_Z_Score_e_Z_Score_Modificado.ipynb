{
  "nbformat": 4,
  "nbformat_minor": 0,
  "metadata": {
    "colab": {
      "provenance": [],
      "collapsed_sections": []
    },
    "kernelspec": {
      "name": "python3",
      "display_name": "Python 3"
    },
    "language_info": {
      "name": "python"
    },
    "accelerator": "GPU"
  },
  "cells": [
    {
      "cell_type": "markdown",
      "source": [
        "#Detecção de Anomalias pelo Z Score e Z Score Modificado\n",
        "\n",
        "No estudo a seguir, serão analisado dois casos para detecção de anomalias ou valores atípicos (outliers) utilizando métodos estatísticos. Para os casos a seguir, serão utilizados os métodos de detecção pelo Z Score e pelo Z Score Modificado.\n",
        "\n",
        "\n",
        "**1º Caso -** Participação dos alunos no exame educacional SAT nos Estados Unidos aplicado a estudantes do ensino médio no ano de 2012. A prova serve de critério para admissão nas universidades norte-americanas. Aqui serão avaliados as escolas cujos alunos tiveram o menor indice de participação.\n",
        "\n",
        "\n",
        "\n",
        "**2º Caso -** Determinar quais foram os jogadores que mais fizeram gols na Copa do Mundo entre 1930 e 2018.\n",
        "\n",
        "\n",
        "Todos os dados foram limpos e salvos como um CSV."
      ],
      "metadata": {
        "id": "x575yYkylzVE"
      }
    },
    {
      "cell_type": "markdown",
      "source": [
        "#Instalação do backend e importação das bibliotecas a serem utilizadas:"
      ],
      "metadata": {
        "id": "IsuRR7MumHvv"
      }
    },
    {
      "cell_type": "code",
      "source": [
        "%matplotlib inline\n",
        "\n",
        "import sys\n",
        "import scipy\n",
        "import scipy.stats as ss\n",
        "import numpy as np\n",
        "import matplotlib\n",
        "import matplotlib.pyplot as plt\n",
        "import pandas as pd\n",
        "import random "
      ],
      "metadata": {
        "id": "3LH6FQuLlzFO"
      },
      "execution_count": 3,
      "outputs": []
    },
    {
      "cell_type": "markdown",
      "source": [
        "##1º Parte - Carregamento do conjuntos de dados\n",
        "Importação e impressão dos dados para o **1º caso**:"
      ],
      "metadata": {
        "id": "kmz-2FIrr0CU"
      }
    },
    {
      "cell_type": "code",
      "source": [
        "ct_test = pd.read_csv('SAT_CT_District_Participation_2012.csv')\n",
        "print(ct_test.shape)\n",
        "ct_test.tail()"
      ],
      "metadata": {
        "colab": {
          "base_uri": "https://localhost:8080/",
          "height": 223
        },
        "id": "mPk6et-blcqb",
        "outputId": "264b25a6-dbd3-42ff-e954-e724eccbc110"
      },
      "execution_count": 4,
      "outputs": [
        {
          "output_type": "stream",
          "name": "stdout",
          "text": [
            "(130, 2)\n"
          ]
        },
        {
          "output_type": "execute_result",
          "data": {
            "text/plain": [
              "                                     District  Participation Rate\n",
              "125                          Stamford Academy                0.28\n",
              "126  Connecticut Technical High School System                0.49\n",
              "127                      Norwich Free Academy                0.70\n",
              "128                        The Gilbert School                0.71\n",
              "129                         Woodstock Academy                0.76"
            ],
            "text/html": [
              "\n",
              "  <div id=\"df-32a83c34-e489-476d-b8cb-aceb2cef2a83\">\n",
              "    <div class=\"colab-df-container\">\n",
              "      <div>\n",
              "<style scoped>\n",
              "    .dataframe tbody tr th:only-of-type {\n",
              "        vertical-align: middle;\n",
              "    }\n",
              "\n",
              "    .dataframe tbody tr th {\n",
              "        vertical-align: top;\n",
              "    }\n",
              "\n",
              "    .dataframe thead th {\n",
              "        text-align: right;\n",
              "    }\n",
              "</style>\n",
              "<table border=\"1\" class=\"dataframe\">\n",
              "  <thead>\n",
              "    <tr style=\"text-align: right;\">\n",
              "      <th></th>\n",
              "      <th>District</th>\n",
              "      <th>Participation Rate</th>\n",
              "    </tr>\n",
              "  </thead>\n",
              "  <tbody>\n",
              "    <tr>\n",
              "      <th>125</th>\n",
              "      <td>Stamford Academy</td>\n",
              "      <td>0.28</td>\n",
              "    </tr>\n",
              "    <tr>\n",
              "      <th>126</th>\n",
              "      <td>Connecticut Technical High School System</td>\n",
              "      <td>0.49</td>\n",
              "    </tr>\n",
              "    <tr>\n",
              "      <th>127</th>\n",
              "      <td>Norwich Free Academy</td>\n",
              "      <td>0.70</td>\n",
              "    </tr>\n",
              "    <tr>\n",
              "      <th>128</th>\n",
              "      <td>The Gilbert School</td>\n",
              "      <td>0.71</td>\n",
              "    </tr>\n",
              "    <tr>\n",
              "      <th>129</th>\n",
              "      <td>Woodstock Academy</td>\n",
              "      <td>0.76</td>\n",
              "    </tr>\n",
              "  </tbody>\n",
              "</table>\n",
              "</div>\n",
              "      <button class=\"colab-df-convert\" onclick=\"convertToInteractive('df-32a83c34-e489-476d-b8cb-aceb2cef2a83')\"\n",
              "              title=\"Convert this dataframe to an interactive table.\"\n",
              "              style=\"display:none;\">\n",
              "        \n",
              "  <svg xmlns=\"http://www.w3.org/2000/svg\" height=\"24px\"viewBox=\"0 0 24 24\"\n",
              "       width=\"24px\">\n",
              "    <path d=\"M0 0h24v24H0V0z\" fill=\"none\"/>\n",
              "    <path d=\"M18.56 5.44l.94 2.06.94-2.06 2.06-.94-2.06-.94-.94-2.06-.94 2.06-2.06.94zm-11 1L8.5 8.5l.94-2.06 2.06-.94-2.06-.94L8.5 2.5l-.94 2.06-2.06.94zm10 10l.94 2.06.94-2.06 2.06-.94-2.06-.94-.94-2.06-.94 2.06-2.06.94z\"/><path d=\"M17.41 7.96l-1.37-1.37c-.4-.4-.92-.59-1.43-.59-.52 0-1.04.2-1.43.59L10.3 9.45l-7.72 7.72c-.78.78-.78 2.05 0 2.83L4 21.41c.39.39.9.59 1.41.59.51 0 1.02-.2 1.41-.59l7.78-7.78 2.81-2.81c.8-.78.8-2.07 0-2.86zM5.41 20L4 18.59l7.72-7.72 1.47 1.35L5.41 20z\"/>\n",
              "  </svg>\n",
              "      </button>\n",
              "      \n",
              "  <style>\n",
              "    .colab-df-container {\n",
              "      display:flex;\n",
              "      flex-wrap:wrap;\n",
              "      gap: 12px;\n",
              "    }\n",
              "\n",
              "    .colab-df-convert {\n",
              "      background-color: #E8F0FE;\n",
              "      border: none;\n",
              "      border-radius: 50%;\n",
              "      cursor: pointer;\n",
              "      display: none;\n",
              "      fill: #1967D2;\n",
              "      height: 32px;\n",
              "      padding: 0 0 0 0;\n",
              "      width: 32px;\n",
              "    }\n",
              "\n",
              "    .colab-df-convert:hover {\n",
              "      background-color: #E2EBFA;\n",
              "      box-shadow: 0px 1px 2px rgba(60, 64, 67, 0.3), 0px 1px 3px 1px rgba(60, 64, 67, 0.15);\n",
              "      fill: #174EA6;\n",
              "    }\n",
              "\n",
              "    [theme=dark] .colab-df-convert {\n",
              "      background-color: #3B4455;\n",
              "      fill: #D2E3FC;\n",
              "    }\n",
              "\n",
              "    [theme=dark] .colab-df-convert:hover {\n",
              "      background-color: #434B5C;\n",
              "      box-shadow: 0px 1px 3px 1px rgba(0, 0, 0, 0.15);\n",
              "      filter: drop-shadow(0px 1px 2px rgba(0, 0, 0, 0.3));\n",
              "      fill: #FFFFFF;\n",
              "    }\n",
              "  </style>\n",
              "\n",
              "      <script>\n",
              "        const buttonEl =\n",
              "          document.querySelector('#df-32a83c34-e489-476d-b8cb-aceb2cef2a83 button.colab-df-convert');\n",
              "        buttonEl.style.display =\n",
              "          google.colab.kernel.accessAllowed ? 'block' : 'none';\n",
              "\n",
              "        async function convertToInteractive(key) {\n",
              "          const element = document.querySelector('#df-32a83c34-e489-476d-b8cb-aceb2cef2a83');\n",
              "          const dataTable =\n",
              "            await google.colab.kernel.invokeFunction('convertToInteractive',\n",
              "                                                     [key], {});\n",
              "          if (!dataTable) return;\n",
              "\n",
              "          const docLinkHtml = 'Like what you see? Visit the ' +\n",
              "            '<a target=\"_blank\" href=https://colab.research.google.com/notebooks/data_table.ipynb>data table notebook</a>'\n",
              "            + ' to learn more about interactive tables.';\n",
              "          element.innerHTML = '';\n",
              "          dataTable['output_type'] = 'display_data';\n",
              "          await google.colab.output.renderOutput(dataTable, element);\n",
              "          const docLink = document.createElement('div');\n",
              "          docLink.innerHTML = docLinkHtml;\n",
              "          element.appendChild(docLink);\n",
              "        }\n",
              "      </script>\n",
              "    </div>\n",
              "  </div>\n",
              "  "
            ]
          },
          "metadata": {},
          "execution_count": 4
        }
      ]
    },
    {
      "cell_type": "markdown",
      "source": [
        "##Análise das características fundamentais:\n",
        "Após o carregamento dos dados, pode-se calcular valores como a média, desvio padrão e o Z Score. Todos esses valores derivam de análises estatísticas e por meio delas será possível detectar as anomalias."
      ],
      "metadata": {
        "id": "Ps-FXoDWzZfz"
      }
    },
    {
      "cell_type": "code",
      "source": [
        "mean_rate = ct_test['Participation Rate'].mean()\n",
        "stedv_rate = ct_test['Participation Rate'].std(ddof=0)\n",
        "zscore_rate = ss.zscore(ct_test['Participation Rate'], ddof=0)\n",
        "\n",
        "print('Média de participação: {:.3f}'.format(mean_rate))\n",
        "print('Desvio Padrão: {:.3f}'.format(stedv_rate))\n",
        "ct_test = ct_test.assign(zscore=zscore_rate)\n",
        "ct_test.tail()"
      ],
      "metadata": {
        "colab": {
          "base_uri": "https://localhost:8080/",
          "height": 241
        },
        "id": "nI3jlARlzuI5",
        "outputId": "05d5b684-7ba3-47a5-f178-b4da5ec79413"
      },
      "execution_count": 5,
      "outputs": [
        {
          "output_type": "stream",
          "name": "stdout",
          "text": [
            "Média de participação: 0.741\n",
            "Desvio Padrão: 0.136\n"
          ]
        },
        {
          "output_type": "execute_result",
          "data": {
            "text/plain": [
              "                                     District  Participation Rate    zscore\n",
              "125                          Stamford Academy                0.28 -3.395374\n",
              "126  Connecticut Technical High School System                0.49 -1.847124\n",
              "127                      Norwich Free Academy                0.70 -0.298875\n",
              "128                        The Gilbert School                0.71 -0.225148\n",
              "129                         Woodstock Academy                0.76  0.143482"
            ],
            "text/html": [
              "\n",
              "  <div id=\"df-64bedb2b-9e61-471c-ae28-a5400ee07af9\">\n",
              "    <div class=\"colab-df-container\">\n",
              "      <div>\n",
              "<style scoped>\n",
              "    .dataframe tbody tr th:only-of-type {\n",
              "        vertical-align: middle;\n",
              "    }\n",
              "\n",
              "    .dataframe tbody tr th {\n",
              "        vertical-align: top;\n",
              "    }\n",
              "\n",
              "    .dataframe thead th {\n",
              "        text-align: right;\n",
              "    }\n",
              "</style>\n",
              "<table border=\"1\" class=\"dataframe\">\n",
              "  <thead>\n",
              "    <tr style=\"text-align: right;\">\n",
              "      <th></th>\n",
              "      <th>District</th>\n",
              "      <th>Participation Rate</th>\n",
              "      <th>zscore</th>\n",
              "    </tr>\n",
              "  </thead>\n",
              "  <tbody>\n",
              "    <tr>\n",
              "      <th>125</th>\n",
              "      <td>Stamford Academy</td>\n",
              "      <td>0.28</td>\n",
              "      <td>-3.395374</td>\n",
              "    </tr>\n",
              "    <tr>\n",
              "      <th>126</th>\n",
              "      <td>Connecticut Technical High School System</td>\n",
              "      <td>0.49</td>\n",
              "      <td>-1.847124</td>\n",
              "    </tr>\n",
              "    <tr>\n",
              "      <th>127</th>\n",
              "      <td>Norwich Free Academy</td>\n",
              "      <td>0.70</td>\n",
              "      <td>-0.298875</td>\n",
              "    </tr>\n",
              "    <tr>\n",
              "      <th>128</th>\n",
              "      <td>The Gilbert School</td>\n",
              "      <td>0.71</td>\n",
              "      <td>-0.225148</td>\n",
              "    </tr>\n",
              "    <tr>\n",
              "      <th>129</th>\n",
              "      <td>Woodstock Academy</td>\n",
              "      <td>0.76</td>\n",
              "      <td>0.143482</td>\n",
              "    </tr>\n",
              "  </tbody>\n",
              "</table>\n",
              "</div>\n",
              "      <button class=\"colab-df-convert\" onclick=\"convertToInteractive('df-64bedb2b-9e61-471c-ae28-a5400ee07af9')\"\n",
              "              title=\"Convert this dataframe to an interactive table.\"\n",
              "              style=\"display:none;\">\n",
              "        \n",
              "  <svg xmlns=\"http://www.w3.org/2000/svg\" height=\"24px\"viewBox=\"0 0 24 24\"\n",
              "       width=\"24px\">\n",
              "    <path d=\"M0 0h24v24H0V0z\" fill=\"none\"/>\n",
              "    <path d=\"M18.56 5.44l.94 2.06.94-2.06 2.06-.94-2.06-.94-.94-2.06-.94 2.06-2.06.94zm-11 1L8.5 8.5l.94-2.06 2.06-.94-2.06-.94L8.5 2.5l-.94 2.06-2.06.94zm10 10l.94 2.06.94-2.06 2.06-.94-2.06-.94-.94-2.06-.94 2.06-2.06.94z\"/><path d=\"M17.41 7.96l-1.37-1.37c-.4-.4-.92-.59-1.43-.59-.52 0-1.04.2-1.43.59L10.3 9.45l-7.72 7.72c-.78.78-.78 2.05 0 2.83L4 21.41c.39.39.9.59 1.41.59.51 0 1.02-.2 1.41-.59l7.78-7.78 2.81-2.81c.8-.78.8-2.07 0-2.86zM5.41 20L4 18.59l7.72-7.72 1.47 1.35L5.41 20z\"/>\n",
              "  </svg>\n",
              "      </button>\n",
              "      \n",
              "  <style>\n",
              "    .colab-df-container {\n",
              "      display:flex;\n",
              "      flex-wrap:wrap;\n",
              "      gap: 12px;\n",
              "    }\n",
              "\n",
              "    .colab-df-convert {\n",
              "      background-color: #E8F0FE;\n",
              "      border: none;\n",
              "      border-radius: 50%;\n",
              "      cursor: pointer;\n",
              "      display: none;\n",
              "      fill: #1967D2;\n",
              "      height: 32px;\n",
              "      padding: 0 0 0 0;\n",
              "      width: 32px;\n",
              "    }\n",
              "\n",
              "    .colab-df-convert:hover {\n",
              "      background-color: #E2EBFA;\n",
              "      box-shadow: 0px 1px 2px rgba(60, 64, 67, 0.3), 0px 1px 3px 1px rgba(60, 64, 67, 0.15);\n",
              "      fill: #174EA6;\n",
              "    }\n",
              "\n",
              "    [theme=dark] .colab-df-convert {\n",
              "      background-color: #3B4455;\n",
              "      fill: #D2E3FC;\n",
              "    }\n",
              "\n",
              "    [theme=dark] .colab-df-convert:hover {\n",
              "      background-color: #434B5C;\n",
              "      box-shadow: 0px 1px 3px 1px rgba(0, 0, 0, 0.15);\n",
              "      filter: drop-shadow(0px 1px 2px rgba(0, 0, 0, 0.3));\n",
              "      fill: #FFFFFF;\n",
              "    }\n",
              "  </style>\n",
              "\n",
              "      <script>\n",
              "        const buttonEl =\n",
              "          document.querySelector('#df-64bedb2b-9e61-471c-ae28-a5400ee07af9 button.colab-df-convert');\n",
              "        buttonEl.style.display =\n",
              "          google.colab.kernel.accessAllowed ? 'block' : 'none';\n",
              "\n",
              "        async function convertToInteractive(key) {\n",
              "          const element = document.querySelector('#df-64bedb2b-9e61-471c-ae28-a5400ee07af9');\n",
              "          const dataTable =\n",
              "            await google.colab.kernel.invokeFunction('convertToInteractive',\n",
              "                                                     [key], {});\n",
              "          if (!dataTable) return;\n",
              "\n",
              "          const docLinkHtml = 'Like what you see? Visit the ' +\n",
              "            '<a target=\"_blank\" href=https://colab.research.google.com/notebooks/data_table.ipynb>data table notebook</a>'\n",
              "            + ' to learn more about interactive tables.';\n",
              "          element.innerHTML = '';\n",
              "          dataTable['output_type'] = 'display_data';\n",
              "          await google.colab.output.renderOutput(dataTable, element);\n",
              "          const docLink = document.createElement('div');\n",
              "          docLink.innerHTML = docLinkHtml;\n",
              "          element.appendChild(docLink);\n",
              "        }\n",
              "      </script>\n",
              "    </div>\n",
              "  </div>\n",
              "  "
            ]
          },
          "metadata": {},
          "execution_count": 5
        }
      ]
    },
    {
      "cell_type": "markdown",
      "source": [
        "##Construção do gráfico\n",
        "Agora, o gráfico relacionando o Z Score por escola é traçado para que possamos visualmente identificar as anomalias. \n",
        "\n",
        "Pelo estudo em estatística, sabe-se que 95% dos valores em uma distribuição normal se encontram a uma distancia de duas vezes o Z Score em relação a média. \n",
        "\n",
        "Como se quer os menores valores, será utilizado um Z Score negativo como referencia para delimitar o que serão considerados anomalias."
      ],
      "metadata": {
        "id": "ABC-tVK91x0X"
      }
    },
    {
      "cell_type": "code",
      "source": [
        "def plot_anomaly(score_data, threshold):\n",
        "  score_data = score_data.copy().sort_values(ascending=False).values\n",
        "  ranks = np.linspace(1, len(score_data), len(score_data))\n",
        "  mask_outlier = (score_data < threshold)\n",
        "\n",
        "  plt.figure(dpi=150)\n",
        "  plt.plot(ranks[~mask_outlier], score_data[~mask_outlier], 'o', color='b', label='Escolas Dentro do Padrão')\n",
        "  plt.plot(ranks[mask_outlier], score_data[mask_outlier], 'o', color='r', label='Anomalias')\n",
        "  plt.axhline(threshold, color='r', label='Limite', alpha=0.5)\n",
        "  plt.legend(loc = 'lower left')\n",
        "  plt.title('Z-Score x Escolas')\n",
        "  plt.xlabel('Escolas')\n",
        "  plt.ylabel('Z-Score')\n",
        "  plt.show()\n",
        "\n",
        "  "
      ],
      "metadata": {
        "id": "gRAjYWrp2qzR"
      },
      "execution_count": 23,
      "outputs": []
    },
    {
      "cell_type": "code",
      "source": [
        "  plot_anomaly(ct_test['zscore'], -2)"
      ],
      "metadata": {
        "colab": {
          "base_uri": "https://localhost:8080/",
          "height": 594
        },
        "id": "LXPF5VPvb7ap",
        "outputId": "3ed74271-7637-4be8-824e-697bae56753a"
      },
      "execution_count": 24,
      "outputs": [
        {
          "output_type": "display_data",
          "data": {
            "text/plain": [
              "<Figure size 900x600 with 1 Axes>"
            ],
            "image/png": "[encoded data removed]"
          },
          "metadata": {
            "needs_background": "light"
          }
        }
      ]
    },
    {
      "cell_type": "markdown",
      "source": [
        "##Lista de escolas abaixo do limite\n",
        "Com o intuito de ver o nome das escolas que ficaram abaixo do Z Score estimado, é impresso na tela uma tabela contendo o nome delas.\n"
      ],
      "metadata": {
        "id": "2GROzdKT66yH"
      }
    },
    {
      "cell_type": "code",
      "source": [
        "zscore_anomalies = ct_test[(ct_test['zscore'] < -2)]\n",
        "zscore_anomalies"
      ],
      "metadata": {
        "colab": {
          "base_uri": "https://localhost:8080/",
          "height": 175
        },
        "id": "HwbrGrve6_oM",
        "outputId": "69a1f28c-86ec-4fde-9907-481d8b916799"
      },
      "execution_count": 7,
      "outputs": [
        {
          "output_type": "execute_result",
          "data": {
            "text/plain": [
              "                                              District  Participation Rate  \\\n",
              "50                                         New Britain                0.40   \n",
              "99                                             Windham                0.37   \n",
              "121  Eastern Connecticut Regional Educational Servi...                0.39   \n",
              "125                                   Stamford Academy                0.28   \n",
              "\n",
              "       zscore  \n",
              "50  -2.510660  \n",
              "99  -2.731839  \n",
              "121 -2.584386  \n",
              "125 -3.395374  "
            ],
            "text/html": [
              "\n",
              "  <div id=\"df-b156bdaf-3e79-40d4-9835-1e46c532d353\">\n",
              "    <div class=\"colab-df-container\">\n",
              "      <div>\n",
              "<style scoped>\n",
              "    .dataframe tbody tr th:only-of-type {\n",
              "        vertical-align: middle;\n",
              "    }\n",
              "\n",
              "    .dataframe tbody tr th {\n",
              "        vertical-align: top;\n",
              "    }\n",
              "\n",
              "    .dataframe thead th {\n",
              "        text-align: right;\n",
              "    }\n",
              "</style>\n",
              "<table border=\"1\" class=\"dataframe\">\n",
              "  <thead>\n",
              "    <tr style=\"text-align: right;\">\n",
              "      <th></th>\n",
              "      <th>District</th>\n",
              "      <th>Participation Rate</th>\n",
              "      <th>zscore</th>\n",
              "    </tr>\n",
              "  </thead>\n",
              "  <tbody>\n",
              "    <tr>\n",
              "      <th>50</th>\n",
              "      <td>New Britain</td>\n",
              "      <td>0.40</td>\n",
              "      <td>-2.510660</td>\n",
              "    </tr>\n",
              "    <tr>\n",
              "      <th>99</th>\n",
              "      <td>Windham</td>\n",
              "      <td>0.37</td>\n",
              "      <td>-2.731839</td>\n",
              "    </tr>\n",
              "    <tr>\n",
              "      <th>121</th>\n",
              "      <td>Eastern Connecticut Regional Educational Servi...</td>\n",
              "      <td>0.39</td>\n",
              "      <td>-2.584386</td>\n",
              "    </tr>\n",
              "    <tr>\n",
              "      <th>125</th>\n",
              "      <td>Stamford Academy</td>\n",
              "      <td>0.28</td>\n",
              "      <td>-3.395374</td>\n",
              "    </tr>\n",
              "  </tbody>\n",
              "</table>\n",
              "</div>\n",
              "      <button class=\"colab-df-convert\" onclick=\"convertToInteractive('df-b156bdaf-3e79-40d4-9835-1e46c532d353')\"\n",
              "              title=\"Convert this dataframe to an interactive table.\"\n",
              "              style=\"display:none;\">\n",
              "        \n",
              "  <svg xmlns=\"http://www.w3.org/2000/svg\" height=\"24px\"viewBox=\"0 0 24 24\"\n",
              "       width=\"24px\">\n",
              "    <path d=\"M0 0h24v24H0V0z\" fill=\"none\"/>\n",
              "    <path d=\"M18.56 5.44l.94 2.06.94-2.06 2.06-.94-2.06-.94-.94-2.06-.94 2.06-2.06.94zm-11 1L8.5 8.5l.94-2.06 2.06-.94-2.06-.94L8.5 2.5l-.94 2.06-2.06.94zm10 10l.94 2.06.94-2.06 2.06-.94-2.06-.94-.94-2.06-.94 2.06-2.06.94z\"/><path d=\"M17.41 7.96l-1.37-1.37c-.4-.4-.92-.59-1.43-.59-.52 0-1.04.2-1.43.59L10.3 9.45l-7.72 7.72c-.78.78-.78 2.05 0 2.83L4 21.41c.39.39.9.59 1.41.59.51 0 1.02-.2 1.41-.59l7.78-7.78 2.81-2.81c.8-.78.8-2.07 0-2.86zM5.41 20L4 18.59l7.72-7.72 1.47 1.35L5.41 20z\"/>\n",
              "  </svg>\n",
              "      </button>\n",
              "      \n",
              "  <style>\n",
              "    .colab-df-container {\n",
              "      display:flex;\n",
              "      flex-wrap:wrap;\n",
              "      gap: 12px;\n",
              "    }\n",
              "\n",
              "    .colab-df-convert {\n",
              "      background-color: #E8F0FE;\n",
              "      border: none;\n",
              "      border-radius: 50%;\n",
              "      cursor: pointer;\n",
              "      display: none;\n",
              "      fill: #1967D2;\n",
              "      height: 32px;\n",
              "      padding: 0 0 0 0;\n",
              "      width: 32px;\n",
              "    }\n",
              "\n",
              "    .colab-df-convert:hover {\n",
              "      background-color: #E2EBFA;\n",
              "      box-shadow: 0px 1px 2px rgba(60, 64, 67, 0.3), 0px 1px 3px 1px rgba(60, 64, 67, 0.15);\n",
              "      fill: #174EA6;\n",
              "    }\n",
              "\n",
              "    [theme=dark] .colab-df-convert {\n",
              "      background-color: #3B4455;\n",
              "      fill: #D2E3FC;\n",
              "    }\n",
              "\n",
              "    [theme=dark] .colab-df-convert:hover {\n",
              "      background-color: #434B5C;\n",
              "      box-shadow: 0px 1px 3px 1px rgba(0, 0, 0, 0.15);\n",
              "      filter: drop-shadow(0px 1px 2px rgba(0, 0, 0, 0.3));\n",
              "      fill: #FFFFFF;\n",
              "    }\n",
              "  </style>\n",
              "\n",
              "      <script>\n",
              "        const buttonEl =\n",
              "          document.querySelector('#df-b156bdaf-3e79-40d4-9835-1e46c532d353 button.colab-df-convert');\n",
              "        buttonEl.style.display =\n",
              "          google.colab.kernel.accessAllowed ? 'block' : 'none';\n",
              "\n",
              "        async function convertToInteractive(key) {\n",
              "          const element = document.querySelector('#df-b156bdaf-3e79-40d4-9835-1e46c532d353');\n",
              "          const dataTable =\n",
              "            await google.colab.kernel.invokeFunction('convertToInteractive',\n",
              "                                                     [key], {});\n",
              "          if (!dataTable) return;\n",
              "\n",
              "          const docLinkHtml = 'Like what you see? Visit the ' +\n",
              "            '<a target=\"_blank\" href=https://colab.research.google.com/notebooks/data_table.ipynb>data table notebook</a>'\n",
              "            + ' to learn more about interactive tables.';\n",
              "          element.innerHTML = '';\n",
              "          dataTable['output_type'] = 'display_data';\n",
              "          await google.colab.output.renderOutput(dataTable, element);\n",
              "          const docLink = document.createElement('div');\n",
              "          docLink.innerHTML = docLinkHtml;\n",
              "          element.appendChild(docLink);\n",
              "        }\n",
              "      </script>\n",
              "    </div>\n",
              "  </div>\n",
              "  "
            ]
          },
          "metadata": {},
          "execution_count": 7
        }
      ]
    },
    {
      "cell_type": "markdown",
      "source": [
        "##Observações\n",
        "É interessante verificar que mesmo que o conjunto de dados original não possa ser modelado por uma função Gaussiana, o Z Score ainda sim pode ser utilizado para avaliar discrepâncias e anomalias.\n"
      ],
      "metadata": {
        "id": "FBUCRweS7jGw"
      }
    },
    {
      "cell_type": "markdown",
      "source": [
        "##Construção do histograma\n",
        "A partir do histograma poderemos verificar que o cojunto de dados não segue o modelo de distribuição normal."
      ],
      "metadata": {
        "id": "uu6ejhxqei17"
      }
    },
    {
      "cell_type": "code",
      "source": [
        "nbins=20\n",
        "n_hist, bins_hist, patches_hist = plt.hist(ct_test['Participation Rate'], nbins, density=False, cumulative=False, linewidth=1.0, label='data')"
      ],
      "metadata": {
        "colab": {
          "base_uri": "https://localhost:8080/",
          "height": 265
        },
        "id": "7gLYsOa-7N0v",
        "outputId": "35200053-6036-4dda-aa96-fd6caae74d56"
      },
      "execution_count": 8,
      "outputs": [
        {
          "output_type": "display_data",
          "data": {
            "text/plain": [
              "<Figure size 432x288 with 1 Axes>"
            ],
            "image/png": "[encoded data removed]"
          },
          "metadata": {
            "needs_background": "light"
          }
        }
      ]
    },
    {
      "cell_type": "markdown",
      "source": [
        "##Construção de gráfico de função de distribuição acumulada\n",
        "\n",
        "Agora, será comparado a função de distribuição acumulada dos dados com a da distribuição normal utilizando a mesma média e desvio padrão:"
      ],
      "metadata": {
        "id": "p2X38-8X8O-c"
      }
    },
    {
      "cell_type": "code",
      "source": [
        "num_bins=130\n",
        "normal_dist =[random.gauss(mean_rate, stedv_rate) for _ in range (500)]\n",
        "n, bins, patches = plt.hist(ct_test['Participation Rate'], num_bins, density = True, histtype = 'step', cumulative=True, linewidth = 1.0, label = 'Dados')\n",
        "plt.hist(normal_dist, num_bins, density = True, histtype = 'step', cumulative = True, linewidth = 1.0, label = 'Distribuição Normal')\n",
        "plt.grid(True)\n",
        "plt.legend(loc = 'upper left')\n",
        "axes = plt.gca()\n",
        "axes.set_xlim([0.2,1.0])\n",
        "plt.xlabel('Taxa de Participação')\n",
        "plt.ylabel('Probabilidade Acumulada')\n",
        "plt.show()"
      ],
      "metadata": {
        "colab": {
          "base_uri": "https://localhost:8080/",
          "height": 279
        },
        "id": "qSctroQh9GZh",
        "outputId": "8c482be1-0cce-4ec8-a34d-da36002c69f5"
      },
      "execution_count": 9,
      "outputs": [
        {
          "output_type": "display_data",
          "data": {
            "text/plain": [
              "<Figure size 432x288 with 1 Axes>"
            ],
            "image/png": "[encoded data removed]"
          },
          "metadata": {
            "needs_background": "light"
          }
        }
      ]
    },
    {
      "cell_type": "markdown",
      "source": [
        "##Conclusão da primeira parte\n",
        "Embora nossos dados sejam inconsistentes com uma distribuição normal, o Z Score nos ajudou a identificar discrepâncias. \n",
        "\n",
        "Portanto, embora não possamos fazer nenhuma afirmação probabilística com base nos escores z, podemos focar com segurança nossas quatro escolas."
      ],
      "metadata": {
        "id": "A50xxIu-AcDy"
      }
    },
    {
      "cell_type": "markdown",
      "source": [
        "##2º Parte - Carregamento do conjuntos de dados\n",
        "Importação e impressão dos dados para o **2º caso**:"
      ],
      "metadata": {
        "id": "HpA2Z2XiAqNu"
      }
    },
    {
      "cell_type": "code",
      "source": [
        "top_goals = pd.read_csv('world_cup_top_goal_scorers.csv', encoding = 'utf-8', names = ['Year', 'Player(s)', 'Goals'], skiprows = 1)\n",
        "top_goals.head()"
      ],
      "metadata": {
        "colab": {
          "base_uri": "https://localhost:8080/",
          "height": 206
        },
        "id": "hvaPbZ6Y8CIQ",
        "outputId": "b8ffbb87-d621-4a07-dbcb-d912944e8b8a"
      },
      "execution_count": 10,
      "outputs": [
        {
          "output_type": "execute_result",
          "data": {
            "text/plain": [
              "   Year          Player(s)  Goals\n",
              "0  1930  Guillermo Stábile      8\n",
              "1  1934    Oldřich Nejedlý      5\n",
              "2  1938           Leônidas      7\n",
              "3  1950             Ademir      8\n",
              "4  1954      Sándor Kocsis     11"
            ],
            "text/html": [
              "\n",
              "  <div id=\"df-c95f8ef5-2313-482f-a9d0-20d66ff7b269\">\n",
              "    <div class=\"colab-df-container\">\n",
              "      <div>\n",
              "<style scoped>\n",
              "    .dataframe tbody tr th:only-of-type {\n",
              "        vertical-align: middle;\n",
              "    }\n",
              "\n",
              "    .dataframe tbody tr th {\n",
              "        vertical-align: top;\n",
              "    }\n",
              "\n",
              "    .dataframe thead th {\n",
              "        text-align: right;\n",
              "    }\n",
              "</style>\n",
              "<table border=\"1\" class=\"dataframe\">\n",
              "  <thead>\n",
              "    <tr style=\"text-align: right;\">\n",
              "      <th></th>\n",
              "      <th>Year</th>\n",
              "      <th>Player(s)</th>\n",
              "      <th>Goals</th>\n",
              "    </tr>\n",
              "  </thead>\n",
              "  <tbody>\n",
              "    <tr>\n",
              "      <th>0</th>\n",
              "      <td>1930</td>\n",
              "      <td>Guillermo Stábile</td>\n",
              "      <td>8</td>\n",
              "    </tr>\n",
              "    <tr>\n",
              "      <th>1</th>\n",
              "      <td>1934</td>\n",
              "      <td>Oldřich Nejedlý</td>\n",
              "      <td>5</td>\n",
              "    </tr>\n",
              "    <tr>\n",
              "      <th>2</th>\n",
              "      <td>1938</td>\n",
              "      <td>Leônidas</td>\n",
              "      <td>7</td>\n",
              "    </tr>\n",
              "    <tr>\n",
              "      <th>3</th>\n",
              "      <td>1950</td>\n",
              "      <td>Ademir</td>\n",
              "      <td>8</td>\n",
              "    </tr>\n",
              "    <tr>\n",
              "      <th>4</th>\n",
              "      <td>1954</td>\n",
              "      <td>Sándor Kocsis</td>\n",
              "      <td>11</td>\n",
              "    </tr>\n",
              "  </tbody>\n",
              "</table>\n",
              "</div>\n",
              "      <button class=\"colab-df-convert\" onclick=\"convertToInteractive('df-c95f8ef5-2313-482f-a9d0-20d66ff7b269')\"\n",
              "              title=\"Convert this dataframe to an interactive table.\"\n",
              "              style=\"display:none;\">\n",
              "        \n",
              "  <svg xmlns=\"http://www.w3.org/2000/svg\" height=\"24px\"viewBox=\"0 0 24 24\"\n",
              "       width=\"24px\">\n",
              "    <path d=\"M0 0h24v24H0V0z\" fill=\"none\"/>\n",
              "    <path d=\"M18.56 5.44l.94 2.06.94-2.06 2.06-.94-2.06-.94-.94-2.06-.94 2.06-2.06.94zm-11 1L8.5 8.5l.94-2.06 2.06-.94-2.06-.94L8.5 2.5l-.94 2.06-2.06.94zm10 10l.94 2.06.94-2.06 2.06-.94-2.06-.94-.94-2.06-.94 2.06-2.06.94z\"/><path d=\"M17.41 7.96l-1.37-1.37c-.4-.4-.92-.59-1.43-.59-.52 0-1.04.2-1.43.59L10.3 9.45l-7.72 7.72c-.78.78-.78 2.05 0 2.83L4 21.41c.39.39.9.59 1.41.59.51 0 1.02-.2 1.41-.59l7.78-7.78 2.81-2.81c.8-.78.8-2.07 0-2.86zM5.41 20L4 18.59l7.72-7.72 1.47 1.35L5.41 20z\"/>\n",
              "  </svg>\n",
              "      </button>\n",
              "      \n",
              "  <style>\n",
              "    .colab-df-container {\n",
              "      display:flex;\n",
              "      flex-wrap:wrap;\n",
              "      gap: 12px;\n",
              "    }\n",
              "\n",
              "    .colab-df-convert {\n",
              "      background-color: #E8F0FE;\n",
              "      border: none;\n",
              "      border-radius: 50%;\n",
              "      cursor: pointer;\n",
              "      display: none;\n",
              "      fill: #1967D2;\n",
              "      height: 32px;\n",
              "      padding: 0 0 0 0;\n",
              "      width: 32px;\n",
              "    }\n",
              "\n",
              "    .colab-df-convert:hover {\n",
              "      background-color: #E2EBFA;\n",
              "      box-shadow: 0px 1px 2px rgba(60, 64, 67, 0.3), 0px 1px 3px 1px rgba(60, 64, 67, 0.15);\n",
              "      fill: #174EA6;\n",
              "    }\n",
              "\n",
              "    [theme=dark] .colab-df-convert {\n",
              "      background-color: #3B4455;\n",
              "      fill: #D2E3FC;\n",
              "    }\n",
              "\n",
              "    [theme=dark] .colab-df-convert:hover {\n",
              "      background-color: #434B5C;\n",
              "      box-shadow: 0px 1px 3px 1px rgba(0, 0, 0, 0.15);\n",
              "      filter: drop-shadow(0px 1px 2px rgba(0, 0, 0, 0.3));\n",
              "      fill: #FFFFFF;\n",
              "    }\n",
              "  </style>\n",
              "\n",
              "      <script>\n",
              "        const buttonEl =\n",
              "          document.querySelector('#df-c95f8ef5-2313-482f-a9d0-20d66ff7b269 button.colab-df-convert');\n",
              "        buttonEl.style.display =\n",
              "          google.colab.kernel.accessAllowed ? 'block' : 'none';\n",
              "\n",
              "        async function convertToInteractive(key) {\n",
              "          const element = document.querySelector('#df-c95f8ef5-2313-482f-a9d0-20d66ff7b269');\n",
              "          const dataTable =\n",
              "            await google.colab.kernel.invokeFunction('convertToInteractive',\n",
              "                                                     [key], {});\n",
              "          if (!dataTable) return;\n",
              "\n",
              "          const docLinkHtml = 'Like what you see? Visit the ' +\n",
              "            '<a target=\"_blank\" href=https://colab.research.google.com/notebooks/data_table.ipynb>data table notebook</a>'\n",
              "            + ' to learn more about interactive tables.';\n",
              "          element.innerHTML = '';\n",
              "          dataTable['output_type'] = 'display_data';\n",
              "          await google.colab.output.renderOutput(dataTable, element);\n",
              "          const docLink = document.createElement('div');\n",
              "          docLink.innerHTML = docLinkHtml;\n",
              "          element.appendChild(docLink);\n",
              "        }\n",
              "      </script>\n",
              "    </div>\n",
              "  </div>\n",
              "  "
            ]
          },
          "metadata": {},
          "execution_count": 10
        }
      ]
    },
    {
      "cell_type": "markdown",
      "source": [
        "##Análise das características fundamentais:\n",
        "Após o carregamento dos dados, pode-se calcular valores como a média, desvio padrão e o Z Score."
      ],
      "metadata": {
        "id": "ITWzHH1oBjIR"
      }
    },
    {
      "cell_type": "code",
      "source": [
        "mean_goals = top_goals['Goals'].mean()\n",
        "stdev_goals = top_goals['Goals'].std(ddof = 0)\n",
        "zscore_goals = ss.zscore(top_goals['Goals'], ddof = 0)\n",
        "\n",
        "print('Média de número de gols: {:.2f}'.format(mean_goals))\n",
        "print('Desvio Padrão: {:.2f}'.format(stedv_rate))\n",
        "top_goals = top_goals.assign(zscore = zscore_goals)\n",
        "top_goals.head()"
      ],
      "metadata": {
        "colab": {
          "base_uri": "https://localhost:8080/",
          "height": 241
        },
        "id": "RhW_yQTiBNB_",
        "outputId": "58866863-5ee0-4280-d841-d485883d0e2c"
      },
      "execution_count": 11,
      "outputs": [
        {
          "output_type": "stream",
          "name": "stdout",
          "text": [
            "Média de número de gols: 7.05\n",
            "Desvio Padrão: 0.14\n"
          ]
        },
        {
          "output_type": "execute_result",
          "data": {
            "text/plain": [
              "   Year          Player(s)  Goals    zscore\n",
              "0  1930  Guillermo Stábile      8  0.443242\n",
              "1  1934    Oldřich Nejedlý      5 -0.952971\n",
              "2  1938           Leônidas      7 -0.022162\n",
              "3  1950             Ademir      8  0.443242\n",
              "4  1954      Sándor Kocsis     11  1.839455"
            ],
            "text/html": [
              "\n",
              "  <div id=\"df-03f2b1ee-993f-49a0-9906-fd2cbbae33b7\">\n",
              "    <div class=\"colab-df-container\">\n",
              "      <div>\n",
              "<style scoped>\n",
              "    .dataframe tbody tr th:only-of-type {\n",
              "        vertical-align: middle;\n",
              "    }\n",
              "\n",
              "    .dataframe tbody tr th {\n",
              "        vertical-align: top;\n",
              "    }\n",
              "\n",
              "    .dataframe thead th {\n",
              "        text-align: right;\n",
              "    }\n",
              "</style>\n",
              "<table border=\"1\" class=\"dataframe\">\n",
              "  <thead>\n",
              "    <tr style=\"text-align: right;\">\n",
              "      <th></th>\n",
              "      <th>Year</th>\n",
              "      <th>Player(s)</th>\n",
              "      <th>Goals</th>\n",
              "      <th>zscore</th>\n",
              "    </tr>\n",
              "  </thead>\n",
              "  <tbody>\n",
              "    <tr>\n",
              "      <th>0</th>\n",
              "      <td>1930</td>\n",
              "      <td>Guillermo Stábile</td>\n",
              "      <td>8</td>\n",
              "      <td>0.443242</td>\n",
              "    </tr>\n",
              "    <tr>\n",
              "      <th>1</th>\n",
              "      <td>1934</td>\n",
              "      <td>Oldřich Nejedlý</td>\n",
              "      <td>5</td>\n",
              "      <td>-0.952971</td>\n",
              "    </tr>\n",
              "    <tr>\n",
              "      <th>2</th>\n",
              "      <td>1938</td>\n",
              "      <td>Leônidas</td>\n",
              "      <td>7</td>\n",
              "      <td>-0.022162</td>\n",
              "    </tr>\n",
              "    <tr>\n",
              "      <th>3</th>\n",
              "      <td>1950</td>\n",
              "      <td>Ademir</td>\n",
              "      <td>8</td>\n",
              "      <td>0.443242</td>\n",
              "    </tr>\n",
              "    <tr>\n",
              "      <th>4</th>\n",
              "      <td>1954</td>\n",
              "      <td>Sándor Kocsis</td>\n",
              "      <td>11</td>\n",
              "      <td>1.839455</td>\n",
              "    </tr>\n",
              "  </tbody>\n",
              "</table>\n",
              "</div>\n",
              "      <button class=\"colab-df-convert\" onclick=\"convertToInteractive('df-03f2b1ee-993f-49a0-9906-fd2cbbae33b7')\"\n",
              "              title=\"Convert this dataframe to an interactive table.\"\n",
              "              style=\"display:none;\">\n",
              "        \n",
              "  <svg xmlns=\"http://www.w3.org/2000/svg\" height=\"24px\"viewBox=\"0 0 24 24\"\n",
              "       width=\"24px\">\n",
              "    <path d=\"M0 0h24v24H0V0z\" fill=\"none\"/>\n",
              "    <path d=\"M18.56 5.44l.94 2.06.94-2.06 2.06-.94-2.06-.94-.94-2.06-.94 2.06-2.06.94zm-11 1L8.5 8.5l.94-2.06 2.06-.94-2.06-.94L8.5 2.5l-.94 2.06-2.06.94zm10 10l.94 2.06.94-2.06 2.06-.94-2.06-.94-.94-2.06-.94 2.06-2.06.94z\"/><path d=\"M17.41 7.96l-1.37-1.37c-.4-.4-.92-.59-1.43-.59-.52 0-1.04.2-1.43.59L10.3 9.45l-7.72 7.72c-.78.78-.78 2.05 0 2.83L4 21.41c.39.39.9.59 1.41.59.51 0 1.02-.2 1.41-.59l7.78-7.78 2.81-2.81c.8-.78.8-2.07 0-2.86zM5.41 20L4 18.59l7.72-7.72 1.47 1.35L5.41 20z\"/>\n",
              "  </svg>\n",
              "      </button>\n",
              "      \n",
              "  <style>\n",
              "    .colab-df-container {\n",
              "      display:flex;\n",
              "      flex-wrap:wrap;\n",
              "      gap: 12px;\n",
              "    }\n",
              "\n",
              "    .colab-df-convert {\n",
              "      background-color: #E8F0FE;\n",
              "      border: none;\n",
              "      border-radius: 50%;\n",
              "      cursor: pointer;\n",
              "      display: none;\n",
              "      fill: #1967D2;\n",
              "      height: 32px;\n",
              "      padding: 0 0 0 0;\n",
              "      width: 32px;\n",
              "    }\n",
              "\n",
              "    .colab-df-convert:hover {\n",
              "      background-color: #E2EBFA;\n",
              "      box-shadow: 0px 1px 2px rgba(60, 64, 67, 0.3), 0px 1px 3px 1px rgba(60, 64, 67, 0.15);\n",
              "      fill: #174EA6;\n",
              "    }\n",
              "\n",
              "    [theme=dark] .colab-df-convert {\n",
              "      background-color: #3B4455;\n",
              "      fill: #D2E3FC;\n",
              "    }\n",
              "\n",
              "    [theme=dark] .colab-df-convert:hover {\n",
              "      background-color: #434B5C;\n",
              "      box-shadow: 0px 1px 3px 1px rgba(0, 0, 0, 0.15);\n",
              "      filter: drop-shadow(0px 1px 2px rgba(0, 0, 0, 0.3));\n",
              "      fill: #FFFFFF;\n",
              "    }\n",
              "  </style>\n",
              "\n",
              "      <script>\n",
              "        const buttonEl =\n",
              "          document.querySelector('#df-03f2b1ee-993f-49a0-9906-fd2cbbae33b7 button.colab-df-convert');\n",
              "        buttonEl.style.display =\n",
              "          google.colab.kernel.accessAllowed ? 'block' : 'none';\n",
              "\n",
              "        async function convertToInteractive(key) {\n",
              "          const element = document.querySelector('#df-03f2b1ee-993f-49a0-9906-fd2cbbae33b7');\n",
              "          const dataTable =\n",
              "            await google.colab.kernel.invokeFunction('convertToInteractive',\n",
              "                                                     [key], {});\n",
              "          if (!dataTable) return;\n",
              "\n",
              "          const docLinkHtml = 'Like what you see? Visit the ' +\n",
              "            '<a target=\"_blank\" href=https://colab.research.google.com/notebooks/data_table.ipynb>data table notebook</a>'\n",
              "            + ' to learn more about interactive tables.';\n",
              "          element.innerHTML = '';\n",
              "          dataTable['output_type'] = 'display_data';\n",
              "          await google.colab.output.renderOutput(dataTable, element);\n",
              "          const docLink = document.createElement('div');\n",
              "          docLink.innerHTML = docLinkHtml;\n",
              "          element.appendChild(docLink);\n",
              "        }\n",
              "      </script>\n",
              "    </div>\n",
              "  </div>\n",
              "  "
            ]
          },
          "metadata": {},
          "execution_count": 11
        }
      ]
    },
    {
      "cell_type": "markdown",
      "source": [
        "##Construção do gráfico\n",
        "Agora, o gráfico relacionando o Z Score por jogadores é traçado para que possamos visualmente identificar as anomalias. \n",
        "\n",
        "Novamente, pelo estudo em estatística, sabe-se que 95% dos valores em uma distribuição normal se encontram a uma distancia de duas vezes o Z Score em relação a média. \n",
        "\n",
        "No entanto, como dessa vez se quer os maiores valores , será utilizado um Z Score positivo como referencia para delimitar o que serão considerados anomalias."
      ],
      "metadata": {
        "id": "soO3JSYmDeRJ"
      }
    },
    {
      "cell_type": "code",
      "source": [
        "def plot_anomaly_goals (score_data, threshold):\n",
        "  score_data = score_data.copy().sort_values(ascending = False).values\n",
        "  ranks = np.linspace(1, len(score_data), len(score_data))\n",
        "  mask_outlier = (score_data > threshold)\n",
        "\n",
        "  plt.figure (dpi = 150)\n",
        "  plt.plot (ranks[~mask_outlier], score_data[~mask_outlier], 'o', color = 'b', label = 'Jogador Típico')\n",
        "  plt.plot (ranks[mask_outlier], score_data[mask_outlier], 'o', color = 'r', label = 'Anomalia')\n",
        "  plt.axhline (threshold, color = 'r', label = 'Limite', alpha = 0.5)\n",
        "  plt.legend (loc = 'upper right')\n",
        "  plt.title ('Z-Score x Jogador', fontweight = 'bold')\n",
        "  plt.xticks (np.arange(0, 21, step = 2.0))\n",
        "  plt.xlabel ('Jogador')\n",
        "  plt.ylabel ('Z-Score')\n",
        "  plt.show()"
      ],
      "metadata": {
        "id": "sGH49QI3C0QA"
      },
      "execution_count": 12,
      "outputs": []
    },
    {
      "cell_type": "code",
      "source": [
        "plot_anomaly_goals(top_goals['zscore'], 2)"
      ],
      "metadata": {
        "colab": {
          "base_uri": "https://localhost:8080/",
          "height": 594
        },
        "id": "TKAy_WWDFnRh",
        "outputId": "f7895537-8d7a-430b-c53a-43fb5810e89f"
      },
      "execution_count": 13,
      "outputs": [
        {
          "output_type": "display_data",
          "data": {
            "text/plain": [
              "<Figure size 900x600 with 1 Axes>"
            ],
            "image/png": "[encoded data removed]"
          },
          "metadata": {
            "needs_background": "light"
          }
        }
      ]
    },
    {
      "cell_type": "markdown",
      "source": [
        "##Lista de jogadores acima do limite\n",
        "Com o intuito de ver quais jogadores que ficaram acima do Z Score estimado, é impresso na tela uma tabela contendo o nome deles."
      ],
      "metadata": {
        "id": "yvvuaxfTGhlA"
      }
    },
    {
      "cell_type": "code",
      "source": [
        "zscore_anomalies_players = top_goals[(top_goals['zscore'] > 2)]\n",
        "zscore_anomalies_players"
      ],
      "metadata": {
        "colab": {
          "base_uri": "https://localhost:8080/",
          "height": 81
        },
        "id": "q6F_cq8QF83H",
        "outputId": "425c93c6-beb6-469d-ea69-8366bd10e745"
      },
      "execution_count": 14,
      "outputs": [
        {
          "output_type": "execute_result",
          "data": {
            "text/plain": [
              "   Year      Player(s)  Goals    zscore\n",
              "5  1958  Just Fontaine     13  2.770264"
            ],
            "text/html": [
              "\n",
              "  <div id=\"df-c8aa2121-c772-410f-bcdf-f88971f932d9\">\n",
              "    <div class=\"colab-df-container\">\n",
              "      <div>\n",
              "<style scoped>\n",
              "    .dataframe tbody tr th:only-of-type {\n",
              "        vertical-align: middle;\n",
              "    }\n",
              "\n",
              "    .dataframe tbody tr th {\n",
              "        vertical-align: top;\n",
              "    }\n",
              "\n",
              "    .dataframe thead th {\n",
              "        text-align: right;\n",
              "    }\n",
              "</style>\n",
              "<table border=\"1\" class=\"dataframe\">\n",
              "  <thead>\n",
              "    <tr style=\"text-align: right;\">\n",
              "      <th></th>\n",
              "      <th>Year</th>\n",
              "      <th>Player(s)</th>\n",
              "      <th>Goals</th>\n",
              "      <th>zscore</th>\n",
              "    </tr>\n",
              "  </thead>\n",
              "  <tbody>\n",
              "    <tr>\n",
              "      <th>5</th>\n",
              "      <td>1958</td>\n",
              "      <td>Just Fontaine</td>\n",
              "      <td>13</td>\n",
              "      <td>2.770264</td>\n",
              "    </tr>\n",
              "  </tbody>\n",
              "</table>\n",
              "</div>\n",
              "      <button class=\"colab-df-convert\" onclick=\"convertToInteractive('df-c8aa2121-c772-410f-bcdf-f88971f932d9')\"\n",
              "              title=\"Convert this dataframe to an interactive table.\"\n",
              "              style=\"display:none;\">\n",
              "        \n",
              "  <svg xmlns=\"http://www.w3.org/2000/svg\" height=\"24px\"viewBox=\"0 0 24 24\"\n",
              "       width=\"24px\">\n",
              "    <path d=\"M0 0h24v24H0V0z\" fill=\"none\"/>\n",
              "    <path d=\"M18.56 5.44l.94 2.06.94-2.06 2.06-.94-2.06-.94-.94-2.06-.94 2.06-2.06.94zm-11 1L8.5 8.5l.94-2.06 2.06-.94-2.06-.94L8.5 2.5l-.94 2.06-2.06.94zm10 10l.94 2.06.94-2.06 2.06-.94-2.06-.94-.94-2.06-.94 2.06-2.06.94z\"/><path d=\"M17.41 7.96l-1.37-1.37c-.4-.4-.92-.59-1.43-.59-.52 0-1.04.2-1.43.59L10.3 9.45l-7.72 7.72c-.78.78-.78 2.05 0 2.83L4 21.41c.39.39.9.59 1.41.59.51 0 1.02-.2 1.41-.59l7.78-7.78 2.81-2.81c.8-.78.8-2.07 0-2.86zM5.41 20L4 18.59l7.72-7.72 1.47 1.35L5.41 20z\"/>\n",
              "  </svg>\n",
              "      </button>\n",
              "      \n",
              "  <style>\n",
              "    .colab-df-container {\n",
              "      display:flex;\n",
              "      flex-wrap:wrap;\n",
              "      gap: 12px;\n",
              "    }\n",
              "\n",
              "    .colab-df-convert {\n",
              "      background-color: #E8F0FE;\n",
              "      border: none;\n",
              "      border-radius: 50%;\n",
              "      cursor: pointer;\n",
              "      display: none;\n",
              "      fill: #1967D2;\n",
              "      height: 32px;\n",
              "      padding: 0 0 0 0;\n",
              "      width: 32px;\n",
              "    }\n",
              "\n",
              "    .colab-df-convert:hover {\n",
              "      background-color: #E2EBFA;\n",
              "      box-shadow: 0px 1px 2px rgba(60, 64, 67, 0.3), 0px 1px 3px 1px rgba(60, 64, 67, 0.15);\n",
              "      fill: #174EA6;\n",
              "    }\n",
              "\n",
              "    [theme=dark] .colab-df-convert {\n",
              "      background-color: #3B4455;\n",
              "      fill: #D2E3FC;\n",
              "    }\n",
              "\n",
              "    [theme=dark] .colab-df-convert:hover {\n",
              "      background-color: #434B5C;\n",
              "      box-shadow: 0px 1px 3px 1px rgba(0, 0, 0, 0.15);\n",
              "      filter: drop-shadow(0px 1px 2px rgba(0, 0, 0, 0.3));\n",
              "      fill: #FFFFFF;\n",
              "    }\n",
              "  </style>\n",
              "\n",
              "      <script>\n",
              "        const buttonEl =\n",
              "          document.querySelector('#df-c8aa2121-c772-410f-bcdf-f88971f932d9 button.colab-df-convert');\n",
              "        buttonEl.style.display =\n",
              "          google.colab.kernel.accessAllowed ? 'block' : 'none';\n",
              "\n",
              "        async function convertToInteractive(key) {\n",
              "          const element = document.querySelector('#df-c8aa2121-c772-410f-bcdf-f88971f932d9');\n",
              "          const dataTable =\n",
              "            await google.colab.kernel.invokeFunction('convertToInteractive',\n",
              "                                                     [key], {});\n",
              "          if (!dataTable) return;\n",
              "\n",
              "          const docLinkHtml = 'Like what you see? Visit the ' +\n",
              "            '<a target=\"_blank\" href=https://colab.research.google.com/notebooks/data_table.ipynb>data table notebook</a>'\n",
              "            + ' to learn more about interactive tables.';\n",
              "          element.innerHTML = '';\n",
              "          dataTable['output_type'] = 'display_data';\n",
              "          await google.colab.output.renderOutput(dataTable, element);\n",
              "          const docLink = document.createElement('div');\n",
              "          docLink.innerHTML = docLinkHtml;\n",
              "          element.appendChild(docLink);\n",
              "        }\n",
              "      </script>\n",
              "    </div>\n",
              "  </div>\n",
              "  "
            ]
          },
          "metadata": {},
          "execution_count": 14
        }
      ]
    },
    {
      "cell_type": "markdown",
      "source": [
        "##Observações\n",
        "O jogador selecionado anteriormente fez tantos gols que alterou significativamente a média e o desvio padrão dos dados.\n",
        "\n",
        "Portanto, será usado o Z-Score Modificado para uma nova análise.\n",
        "\n",
        "A diferença entre Z Score e o Z Score Modificado é que o primeiro usa a média para calcular seu valor enquanto o segundo usa a mediana. Logo, para próxima etapa, será necessário calcular a mediana primeiro:"
      ],
      "metadata": {
        "id": "cMaSQ84iHbSr"
      }
    },
    {
      "cell_type": "code",
      "source": [
        "median_goals = np.median(top_goals['Goals'])\n",
        "median_goals"
      ],
      "metadata": {
        "colab": {
          "base_uri": "https://localhost:8080/"
        },
        "id": "J8gNBgrTGzWx",
        "outputId": "eded653c-6b7c-420e-8822-7793b0c68e3e"
      },
      "execution_count": 25,
      "outputs": [
        {
          "output_type": "execute_result",
          "data": {
            "text/plain": [
              "6.0"
            ]
          },
          "metadata": {},
          "execution_count": 25
        }
      ]
    },
    {
      "cell_type": "markdown",
      "source": [
        "##Função para cálculo do Z-Score Modificado"
      ],
      "metadata": {
        "id": "V-g1IyefIPFZ"
      }
    },
    {
      "cell_type": "code",
      "source": [
        "def modified_zscore (data, consistency_correction = 1.4826):\n",
        "  median = np.median(data)\n",
        "  deviation_from_med = np.array(data) - median\n",
        "  mad = np.median(np.abs(deviation_from_med))\n",
        "  mod_zscore = deviation_from_med/(consistency_correction)\n",
        "  return mod_zscore, mad"
      ],
      "metadata": {
        "id": "7eZMj4wUH69g"
      },
      "execution_count": 16,
      "outputs": []
    },
    {
      "cell_type": "markdown",
      "source": [
        "##Impressão dos dados com o Z-Score Modificado\n",
        "Após o calculo no Z Score Modificado é possivel imprimir na tela uma tabela com ambos os valores para poder se comparar as diferenças."
      ],
      "metadata": {
        "id": "6AocHN52KY95"
      }
    },
    {
      "cell_type": "code",
      "source": [
        "mod_zscore_goals, mad_goals = modified_zscore(top_goals['Goals'])\n",
        "top_goals = top_goals.assign(mod_zscore = mod_zscore_goals)\n",
        "top_goals.head()"
      ],
      "metadata": {
        "colab": {
          "base_uri": "https://localhost:8080/",
          "height": 206
        },
        "id": "waUoGz8FJYeR",
        "outputId": "83226f0c-3093-46f8-a085-cd672c9372fc"
      },
      "execution_count": 17,
      "outputs": [
        {
          "output_type": "execute_result",
          "data": {
            "text/plain": [
              "   Year          Player(s)  Goals    zscore  mod_zscore\n",
              "0  1930  Guillermo Stábile      8  0.443242    1.348982\n",
              "1  1934    Oldřich Nejedlý      5 -0.952971   -0.674491\n",
              "2  1938           Leônidas      7 -0.022162    0.674491\n",
              "3  1950             Ademir      8  0.443242    1.348982\n",
              "4  1954      Sándor Kocsis     11  1.839455    3.372454"
            ],
            "text/html": [
              "\n",
              "  <div id=\"df-ec4caef1-d4ed-4d94-8828-f79e8266de95\">\n",
              "    <div class=\"colab-df-container\">\n",
              "      <div>\n",
              "<style scoped>\n",
              "    .dataframe tbody tr th:only-of-type {\n",
              "        vertical-align: middle;\n",
              "    }\n",
              "\n",
              "    .dataframe tbody tr th {\n",
              "        vertical-align: top;\n",
              "    }\n",
              "\n",
              "    .dataframe thead th {\n",
              "        text-align: right;\n",
              "    }\n",
              "</style>\n",
              "<table border=\"1\" class=\"dataframe\">\n",
              "  <thead>\n",
              "    <tr style=\"text-align: right;\">\n",
              "      <th></th>\n",
              "      <th>Year</th>\n",
              "      <th>Player(s)</th>\n",
              "      <th>Goals</th>\n",
              "      <th>zscore</th>\n",
              "      <th>mod_zscore</th>\n",
              "    </tr>\n",
              "  </thead>\n",
              "  <tbody>\n",
              "    <tr>\n",
              "      <th>0</th>\n",
              "      <td>1930</td>\n",
              "      <td>Guillermo Stábile</td>\n",
              "      <td>8</td>\n",
              "      <td>0.443242</td>\n",
              "      <td>1.348982</td>\n",
              "    </tr>\n",
              "    <tr>\n",
              "      <th>1</th>\n",
              "      <td>1934</td>\n",
              "      <td>Oldřich Nejedlý</td>\n",
              "      <td>5</td>\n",
              "      <td>-0.952971</td>\n",
              "      <td>-0.674491</td>\n",
              "    </tr>\n",
              "    <tr>\n",
              "      <th>2</th>\n",
              "      <td>1938</td>\n",
              "      <td>Leônidas</td>\n",
              "      <td>7</td>\n",
              "      <td>-0.022162</td>\n",
              "      <td>0.674491</td>\n",
              "    </tr>\n",
              "    <tr>\n",
              "      <th>3</th>\n",
              "      <td>1950</td>\n",
              "      <td>Ademir</td>\n",
              "      <td>8</td>\n",
              "      <td>0.443242</td>\n",
              "      <td>1.348982</td>\n",
              "    </tr>\n",
              "    <tr>\n",
              "      <th>4</th>\n",
              "      <td>1954</td>\n",
              "      <td>Sándor Kocsis</td>\n",
              "      <td>11</td>\n",
              "      <td>1.839455</td>\n",
              "      <td>3.372454</td>\n",
              "    </tr>\n",
              "  </tbody>\n",
              "</table>\n",
              "</div>\n",
              "      <button class=\"colab-df-convert\" onclick=\"convertToInteractive('df-ec4caef1-d4ed-4d94-8828-f79e8266de95')\"\n",
              "              title=\"Convert this dataframe to an interactive table.\"\n",
              "              style=\"display:none;\">\n",
              "        \n",
              "  <svg xmlns=\"http://www.w3.org/2000/svg\" height=\"24px\"viewBox=\"0 0 24 24\"\n",
              "       width=\"24px\">\n",
              "    <path d=\"M0 0h24v24H0V0z\" fill=\"none\"/>\n",
              "    <path d=\"M18.56 5.44l.94 2.06.94-2.06 2.06-.94-2.06-.94-.94-2.06-.94 2.06-2.06.94zm-11 1L8.5 8.5l.94-2.06 2.06-.94-2.06-.94L8.5 2.5l-.94 2.06-2.06.94zm10 10l.94 2.06.94-2.06 2.06-.94-2.06-.94-.94-2.06-.94 2.06-2.06.94z\"/><path d=\"M17.41 7.96l-1.37-1.37c-.4-.4-.92-.59-1.43-.59-.52 0-1.04.2-1.43.59L10.3 9.45l-7.72 7.72c-.78.78-.78 2.05 0 2.83L4 21.41c.39.39.9.59 1.41.59.51 0 1.02-.2 1.41-.59l7.78-7.78 2.81-2.81c.8-.78.8-2.07 0-2.86zM5.41 20L4 18.59l7.72-7.72 1.47 1.35L5.41 20z\"/>\n",
              "  </svg>\n",
              "      </button>\n",
              "      \n",
              "  <style>\n",
              "    .colab-df-container {\n",
              "      display:flex;\n",
              "      flex-wrap:wrap;\n",
              "      gap: 12px;\n",
              "    }\n",
              "\n",
              "    .colab-df-convert {\n",
              "      background-color: #E8F0FE;\n",
              "      border: none;\n",
              "      border-radius: 50%;\n",
              "      cursor: pointer;\n",
              "      display: none;\n",
              "      fill: #1967D2;\n",
              "      height: 32px;\n",
              "      padding: 0 0 0 0;\n",
              "      width: 32px;\n",
              "    }\n",
              "\n",
              "    .colab-df-convert:hover {\n",
              "      background-color: #E2EBFA;\n",
              "      box-shadow: 0px 1px 2px rgba(60, 64, 67, 0.3), 0px 1px 3px 1px rgba(60, 64, 67, 0.15);\n",
              "      fill: #174EA6;\n",
              "    }\n",
              "\n",
              "    [theme=dark] .colab-df-convert {\n",
              "      background-color: #3B4455;\n",
              "      fill: #D2E3FC;\n",
              "    }\n",
              "\n",
              "    [theme=dark] .colab-df-convert:hover {\n",
              "      background-color: #434B5C;\n",
              "      box-shadow: 0px 1px 3px 1px rgba(0, 0, 0, 0.15);\n",
              "      filter: drop-shadow(0px 1px 2px rgba(0, 0, 0, 0.3));\n",
              "      fill: #FFFFFF;\n",
              "    }\n",
              "  </style>\n",
              "\n",
              "      <script>\n",
              "        const buttonEl =\n",
              "          document.querySelector('#df-ec4caef1-d4ed-4d94-8828-f79e8266de95 button.colab-df-convert');\n",
              "        buttonEl.style.display =\n",
              "          google.colab.kernel.accessAllowed ? 'block' : 'none';\n",
              "\n",
              "        async function convertToInteractive(key) {\n",
              "          const element = document.querySelector('#df-ec4caef1-d4ed-4d94-8828-f79e8266de95');\n",
              "          const dataTable =\n",
              "            await google.colab.kernel.invokeFunction('convertToInteractive',\n",
              "                                                     [key], {});\n",
              "          if (!dataTable) return;\n",
              "\n",
              "          const docLinkHtml = 'Like what you see? Visit the ' +\n",
              "            '<a target=\"_blank\" href=https://colab.research.google.com/notebooks/data_table.ipynb>data table notebook</a>'\n",
              "            + ' to learn more about interactive tables.';\n",
              "          element.innerHTML = '';\n",
              "          dataTable['output_type'] = 'display_data';\n",
              "          await google.colab.output.renderOutput(dataTable, element);\n",
              "          const docLink = document.createElement('div');\n",
              "          docLink.innerHTML = docLinkHtml;\n",
              "          element.appendChild(docLink);\n",
              "        }\n",
              "      </script>\n",
              "    </div>\n",
              "  </div>\n",
              "  "
            ]
          },
          "metadata": {},
          "execution_count": 17
        }
      ]
    },
    {
      "cell_type": "markdown",
      "source": [
        "##Construção do gráfico\n",
        "Agora, o gráfico relacionando o Z Score Modificado por jogadores é traçado para que possamos visualmente identificar as anomalias.\n",
        "\n",
        "Dessa vez, será utilizado uma valor de duas vezes o Z Score Modificado para traçar uma linha e separar as anomalias dos demais dados."
      ],
      "metadata": {
        "id": "bFRAs2txK4R-"
      }
    },
    {
      "cell_type": "code",
      "source": [
        "def plot_anomaly_goals_2 (score_data, threshold):\n",
        "  score_data = score_data.copy().sort_values(ascending = False).values\n",
        "  ranks = np.linspace(1, len(score_data), len(score_data))\n",
        "  mask_outliers = (score_data > threshold)\n",
        "\n",
        "  plt.figure (dpi = 150)\n",
        "  plt.plot (ranks[~mask_outliers], score_data[~mask_outliers], 'o', color = 'b', label = 'Jogador Típico')\n",
        "  plt.plot (ranks[mask_outliers], score_data[mask_outliers], 'o', color = 'r', label = 'Anomalia')\n",
        "  plt.axhline (threshold, color = 'r', label = 'Limite', alpha = 0.5)\n",
        "  plt.legend (loc = 'upper right')\n",
        "  plt.title ('Z-Score Modificado x Jogadores', fontweight = 'bold')\n",
        "  plt.xticks (np.arange(0, 21, step = 2.0))\n",
        "  plt.xlabel('Jogador')\n",
        "  plt.ylabel('Z-Score Modificado')\n",
        "  plt.show()"
      ],
      "metadata": {
        "id": "ARdAwdPDJ2tZ"
      },
      "execution_count": 18,
      "outputs": []
    },
    {
      "cell_type": "code",
      "source": [
        "plot_anomaly_goals_2(top_goals['mod_zscore'], 2)"
      ],
      "metadata": {
        "colab": {
          "base_uri": "https://localhost:8080/",
          "height": 594
        },
        "id": "Xorx-tRPMcHL",
        "outputId": "b95d89fd-147a-4668-f8d1-5cda5577a505"
      },
      "execution_count": 19,
      "outputs": [
        {
          "output_type": "display_data",
          "data": {
            "text/plain": [
              "<Figure size 900x600 with 1 Axes>"
            ],
            "image/png": "[encoded data removed]"
          },
          "metadata": {
            "needs_background": "light"
          }
        }
      ]
    },
    {
      "cell_type": "markdown",
      "source": [
        "##Lista de jogadores acima do limite\n",
        "Com o intuito de verificar quais jogadores que ficaram acima do Z Score Modificado estimado, é impresso na tela uma tabela contendo o nome de cada um."
      ],
      "metadata": {
        "id": "KTa-eFcdMq8D"
      }
    },
    {
      "cell_type": "code",
      "source": [
        "mod_zscore_anomalies_players = top_goals[(top_goals['mod_zscore'] > 2)]\n",
        "mod_zscore_anomalies_players"
      ],
      "metadata": {
        "colab": {
          "base_uri": "https://localhost:8080/",
          "height": 175
        },
        "id": "bW9rvI6BNHnP",
        "outputId": "3f2d0e3d-f278-4162-e8c4-bc5c25df61f6"
      },
      "execution_count": 20,
      "outputs": [
        {
          "output_type": "execute_result",
          "data": {
            "text/plain": [
              "   Year      Player(s)  Goals    zscore  mod_zscore\n",
              "4  1954  Sándor Kocsis     11  1.839455    3.372454\n",
              "5  1958  Just Fontaine     13  2.770264    4.721435\n",
              "7  1966        Eusébio      9  0.908647    2.023472\n",
              "8  1970    Gerd Müller     10  1.374051    2.697963"
            ],
            "text/html": [
              "\n",
              "  <div id=\"df-71d0bb92-0499-4a34-81d6-746f4e2e92c9\">\n",
              "    <div class=\"colab-df-container\">\n",
              "      <div>\n",
              "<style scoped>\n",
              "    .dataframe tbody tr th:only-of-type {\n",
              "        vertical-align: middle;\n",
              "    }\n",
              "\n",
              "    .dataframe tbody tr th {\n",
              "        vertical-align: top;\n",
              "    }\n",
              "\n",
              "    .dataframe thead th {\n",
              "        text-align: right;\n",
              "    }\n",
              "</style>\n",
              "<table border=\"1\" class=\"dataframe\">\n",
              "  <thead>\n",
              "    <tr style=\"text-align: right;\">\n",
              "      <th></th>\n",
              "      <th>Year</th>\n",
              "      <th>Player(s)</th>\n",
              "      <th>Goals</th>\n",
              "      <th>zscore</th>\n",
              "      <th>mod_zscore</th>\n",
              "    </tr>\n",
              "  </thead>\n",
              "  <tbody>\n",
              "    <tr>\n",
              "      <th>4</th>\n",
              "      <td>1954</td>\n",
              "      <td>Sándor Kocsis</td>\n",
              "      <td>11</td>\n",
              "      <td>1.839455</td>\n",
              "      <td>3.372454</td>\n",
              "    </tr>\n",
              "    <tr>\n",
              "      <th>5</th>\n",
              "      <td>1958</td>\n",
              "      <td>Just Fontaine</td>\n",
              "      <td>13</td>\n",
              "      <td>2.770264</td>\n",
              "      <td>4.721435</td>\n",
              "    </tr>\n",
              "    <tr>\n",
              "      <th>7</th>\n",
              "      <td>1966</td>\n",
              "      <td>Eusébio</td>\n",
              "      <td>9</td>\n",
              "      <td>0.908647</td>\n",
              "      <td>2.023472</td>\n",
              "    </tr>\n",
              "    <tr>\n",
              "      <th>8</th>\n",
              "      <td>1970</td>\n",
              "      <td>Gerd Müller</td>\n",
              "      <td>10</td>\n",
              "      <td>1.374051</td>\n",
              "      <td>2.697963</td>\n",
              "    </tr>\n",
              "  </tbody>\n",
              "</table>\n",
              "</div>\n",
              "      <button class=\"colab-df-convert\" onclick=\"convertToInteractive('df-71d0bb92-0499-4a34-81d6-746f4e2e92c9')\"\n",
              "              title=\"Convert this dataframe to an interactive table.\"\n",
              "              style=\"display:none;\">\n",
              "        \n",
              "  <svg xmlns=\"http://www.w3.org/2000/svg\" height=\"24px\"viewBox=\"0 0 24 24\"\n",
              "       width=\"24px\">\n",
              "    <path d=\"M0 0h24v24H0V0z\" fill=\"none\"/>\n",
              "    <path d=\"M18.56 5.44l.94 2.06.94-2.06 2.06-.94-2.06-.94-.94-2.06-.94 2.06-2.06.94zm-11 1L8.5 8.5l.94-2.06 2.06-.94-2.06-.94L8.5 2.5l-.94 2.06-2.06.94zm10 10l.94 2.06.94-2.06 2.06-.94-2.06-.94-.94-2.06-.94 2.06-2.06.94z\"/><path d=\"M17.41 7.96l-1.37-1.37c-.4-.4-.92-.59-1.43-.59-.52 0-1.04.2-1.43.59L10.3 9.45l-7.72 7.72c-.78.78-.78 2.05 0 2.83L4 21.41c.39.39.9.59 1.41.59.51 0 1.02-.2 1.41-.59l7.78-7.78 2.81-2.81c.8-.78.8-2.07 0-2.86zM5.41 20L4 18.59l7.72-7.72 1.47 1.35L5.41 20z\"/>\n",
              "  </svg>\n",
              "      </button>\n",
              "      \n",
              "  <style>\n",
              "    .colab-df-container {\n",
              "      display:flex;\n",
              "      flex-wrap:wrap;\n",
              "      gap: 12px;\n",
              "    }\n",
              "\n",
              "    .colab-df-convert {\n",
              "      background-color: #E8F0FE;\n",
              "      border: none;\n",
              "      border-radius: 50%;\n",
              "      cursor: pointer;\n",
              "      display: none;\n",
              "      fill: #1967D2;\n",
              "      height: 32px;\n",
              "      padding: 0 0 0 0;\n",
              "      width: 32px;\n",
              "    }\n",
              "\n",
              "    .colab-df-convert:hover {\n",
              "      background-color: #E2EBFA;\n",
              "      box-shadow: 0px 1px 2px rgba(60, 64, 67, 0.3), 0px 1px 3px 1px rgba(60, 64, 67, 0.15);\n",
              "      fill: #174EA6;\n",
              "    }\n",
              "\n",
              "    [theme=dark] .colab-df-convert {\n",
              "      background-color: #3B4455;\n",
              "      fill: #D2E3FC;\n",
              "    }\n",
              "\n",
              "    [theme=dark] .colab-df-convert:hover {\n",
              "      background-color: #434B5C;\n",
              "      box-shadow: 0px 1px 3px 1px rgba(0, 0, 0, 0.15);\n",
              "      filter: drop-shadow(0px 1px 2px rgba(0, 0, 0, 0.3));\n",
              "      fill: #FFFFFF;\n",
              "    }\n",
              "  </style>\n",
              "\n",
              "      <script>\n",
              "        const buttonEl =\n",
              "          document.querySelector('#df-71d0bb92-0499-4a34-81d6-746f4e2e92c9 button.colab-df-convert');\n",
              "        buttonEl.style.display =\n",
              "          google.colab.kernel.accessAllowed ? 'block' : 'none';\n",
              "\n",
              "        async function convertToInteractive(key) {\n",
              "          const element = document.querySelector('#df-71d0bb92-0499-4a34-81d6-746f4e2e92c9');\n",
              "          const dataTable =\n",
              "            await google.colab.kernel.invokeFunction('convertToInteractive',\n",
              "                                                     [key], {});\n",
              "          if (!dataTable) return;\n",
              "\n",
              "          const docLinkHtml = 'Like what you see? Visit the ' +\n",
              "            '<a target=\"_blank\" href=https://colab.research.google.com/notebooks/data_table.ipynb>data table notebook</a>'\n",
              "            + ' to learn more about interactive tables.';\n",
              "          element.innerHTML = '';\n",
              "          dataTable['output_type'] = 'display_data';\n",
              "          await google.colab.output.renderOutput(dataTable, element);\n",
              "          const docLink = document.createElement('div');\n",
              "          docLink.innerHTML = docLinkHtml;\n",
              "          element.appendChild(docLink);\n",
              "        }\n",
              "      </script>\n",
              "    </div>\n",
              "  </div>\n",
              "  "
            ]
          },
          "metadata": {},
          "execution_count": 20
        }
      ]
    },
    {
      "cell_type": "markdown",
      "source": [
        "##Conclusão da segunda parte\n",
        "Nessa segunda parte, foi possível perceber que quando um dado tem um valor muito diferente dos demais, ele acaba se tornando, em primeira analise, a unica anomalia do conjunto de dados. \n",
        "\n",
        "No segundo caso, para que a análise de anomalias pudesse ser feita de forma adequada, foi necessário se escolher uma outra medida estatística, o Z Score Modificado.\n",
        "\n",
        "Por tanto, ficou claro que a escolha de qual medida estatística usar (Z Score x Z Score Modificado) pode influenciar na verificação de quais dados podem ser considerados anomalias.\n",
        "\n"
      ],
      "metadata": {
        "id": "YDPRUxemkBSA"
      }
    },
    {
      "cell_type": "code",
      "source": [],
      "metadata": {
        "id": "Pg2P8J8_NXYI"
      },
      "execution_count": 20,
      "outputs": []
    }
  ]
}